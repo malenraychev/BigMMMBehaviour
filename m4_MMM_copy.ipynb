{
 "cells": [
  {
   "cell_type": "code",
   "execution_count": 1,
   "id": "82ea2d32-f0a9-4dc9-bb60-be43399f5b89",
   "metadata": {
    "id": "82ea2d32-f0a9-4dc9-bb60-be43399f5b89"
   },
   "outputs": [],
   "source": [
    "# Import the tables of the data set as dataframes.\n",
    "import numpy as np\n",
    "import pandas as pd\n",
    "import matplotlib.pyplot as plt\n",
    "from sklearn.cluster import KMeans\n",
    "from sklearn.preprocessing import StandardScaler\n",
    "\n",
    "DATA_DIR = 'data'"
   ]
  },
  {
   "cell_type": "markdown",
   "id": "31dafc5b",
   "metadata": {},
   "source": [
    "**Research question:**"
   ]
  },
  {
   "cell_type": "markdown",
   "id": "a77f62b0-1945-48f1-8f22-5f6ebda1db8e",
   "metadata": {
    "id": "a77f62b0-1945-48f1-8f22-5f6ebda1db8e"
   },
   "source": [
    "## Task 1: Data Preprocessing"
   ]
  },
  {
   "cell_type": "code",
   "execution_count": 2,
   "id": "34cefd0d-4f8a-4227-8fb4-f30521abf78d",
   "metadata": {
    "id": "34cefd0d-4f8a-4227-8fb4-f30521abf78d"
   },
   "outputs": [
    {
     "name": "stdout",
     "output_type": "stream",
     "text": [
      "Data set sizes at each stage:\n",
      "- Original: 72897 entries (100.00%)\n",
      "- After removing missing or inconcistent completion: 38881 entries (53.34%)\n",
      "- After removing duration > 24h: 26217 entries (35.96%)\n",
      "Activity per User:\n"
     ]
    },
    {
     "name": "stderr",
     "output_type": "stream",
     "text": [
      "/var/folders/q0/bnk2bs5j0lj3ph23b8l_1p100000gn/T/ipykernel_35240/2398963956.py:64: DeprecationWarning: DataFrameGroupBy.apply operated on the grouping columns. This behavior is deprecated, and in a future version of pandas the grouping columns will be excluded from the operation. Either pass `include_groups=False` to exclude the groupings or explicitly select the grouping columns after groupby to silence this warning.\n",
      "  user_activity['median_activity_duration'] = activity.groupby('user_id').apply(\n"
     ]
    },
    {
     "data": {
      "application/vnd.microsoft.datawrangler.viewer.v0+json": {
       "columns": [
        {
         "name": "index",
         "rawType": "int64",
         "type": "integer"
        },
        {
         "name": "user_id",
         "rawType": "int64",
         "type": "integer"
        },
        {
         "name": "median_gap_days",
         "rawType": "float64",
         "type": "float"
        },
        {
         "name": "active_days_count",
         "rawType": "int64",
         "type": "integer"
        },
        {
         "name": "activities_count",
         "rawType": "int64",
         "type": "integer"
        },
        {
         "name": "activity_types_count",
         "rawType": "int64",
         "type": "integer"
        },
        {
         "name": "median_activity_duration_minutes",
         "rawType": "float64",
         "type": "float"
        }
       ],
       "conversionMethod": "pd.DataFrame",
       "ref": "fcc1145c-82fe-49d4-bece-27500d65355a",
       "rows": [
        [
         "0",
         "1",
         "4.0",
         "11",
         "19",
         "2",
         "4.716666666666667"
        ],
        [
         "1",
         "4",
         "7.5",
         "7",
         "31",
         "1",
         "2.2666666666666666"
        ],
        [
         "2",
         "6",
         "7.0",
         "9",
         "30",
         "2",
         "7.658333333333333"
        ],
        [
         "3",
         "7",
         "4.0",
         "16",
         "30",
         "2",
         "13.583333333333334"
        ],
        [
         "4",
         "9",
         "12.0",
         "8",
         "26",
         "2",
         "6.466666666666667"
        ]
       ],
       "shape": {
        "columns": 6,
        "rows": 5
       }
      },
      "text/html": [
       "<div>\n",
       "<style scoped>\n",
       "    .dataframe tbody tr th:only-of-type {\n",
       "        vertical-align: middle;\n",
       "    }\n",
       "\n",
       "    .dataframe tbody tr th {\n",
       "        vertical-align: top;\n",
       "    }\n",
       "\n",
       "    .dataframe thead th {\n",
       "        text-align: right;\n",
       "    }\n",
       "</style>\n",
       "<table border=\"1\" class=\"dataframe\">\n",
       "  <thead>\n",
       "    <tr style=\"text-align: right;\">\n",
       "      <th></th>\n",
       "      <th>user_id</th>\n",
       "      <th>median_gap_days</th>\n",
       "      <th>active_days_count</th>\n",
       "      <th>activities_count</th>\n",
       "      <th>activity_types_count</th>\n",
       "      <th>median_activity_duration_minutes</th>\n",
       "    </tr>\n",
       "  </thead>\n",
       "  <tbody>\n",
       "    <tr>\n",
       "      <th>0</th>\n",
       "      <td>1</td>\n",
       "      <td>4.0</td>\n",
       "      <td>11</td>\n",
       "      <td>19</td>\n",
       "      <td>2</td>\n",
       "      <td>4.716667</td>\n",
       "    </tr>\n",
       "    <tr>\n",
       "      <th>1</th>\n",
       "      <td>4</td>\n",
       "      <td>7.5</td>\n",
       "      <td>7</td>\n",
       "      <td>31</td>\n",
       "      <td>1</td>\n",
       "      <td>2.266667</td>\n",
       "    </tr>\n",
       "    <tr>\n",
       "      <th>2</th>\n",
       "      <td>6</td>\n",
       "      <td>7.0</td>\n",
       "      <td>9</td>\n",
       "      <td>30</td>\n",
       "      <td>2</td>\n",
       "      <td>7.658333</td>\n",
       "    </tr>\n",
       "    <tr>\n",
       "      <th>3</th>\n",
       "      <td>7</td>\n",
       "      <td>4.0</td>\n",
       "      <td>16</td>\n",
       "      <td>30</td>\n",
       "      <td>2</td>\n",
       "      <td>13.583333</td>\n",
       "    </tr>\n",
       "    <tr>\n",
       "      <th>4</th>\n",
       "      <td>9</td>\n",
       "      <td>12.0</td>\n",
       "      <td>8</td>\n",
       "      <td>26</td>\n",
       "      <td>2</td>\n",
       "      <td>6.466667</td>\n",
       "    </tr>\n",
       "  </tbody>\n",
       "</table>\n",
       "</div>"
      ],
      "text/plain": [
       "   user_id  median_gap_days  active_days_count  activities_count  \\\n",
       "0        1              4.0                 11                19   \n",
       "1        4              7.5                  7                31   \n",
       "2        6              7.0                  9                30   \n",
       "3        7              4.0                 16                30   \n",
       "4        9             12.0                  8                26   \n",
       "\n",
       "   activity_types_count  median_activity_duration_minutes  \n",
       "0                     2                          4.716667  \n",
       "1                     1                          2.266667  \n",
       "2                     2                          7.658333  \n",
       "3                     2                         13.583333  \n",
       "4                     2                          6.466667  "
      ]
     },
     "metadata": {},
     "output_type": "display_data"
    },
    {
     "name": "stdout",
     "output_type": "stream",
     "text": [
      "Shape: (843, 6)\n"
     ]
    }
   ],
   "source": [
    "# Load the data\n",
    "activity = pd.read_csv(f'{DATA_DIR}/activity.csv')\n",
    "activity_sizes = {'Original': len(activity)}\n",
    "\n",
    "# Cast timestamps to datetime\n",
    "activity['activity_started'] = pd.to_datetime(activity['activity_started'], unit='s')\n",
    "activity['activity_completed'] = pd.to_datetime(activity['activity_completed'], unit='s')\n",
    "activity['activity_updated'] = pd.to_datetime(activity['activity_updated'], unit='s')\n",
    "\n",
    "# Remove entries where the activity_completed was before the activity_started\n",
    "activity = activity[activity['activity_completed'] > activity['activity_started']]\n",
    "activity_sizes['After removing missing or inconcistent completion'] = len(activity)\n",
    "\n",
    "# Create a column with the duration of the activity\n",
    "activity['activity_duration'] = activity['activity_completed'] - activity['activity_started']\n",
    "activity['activity_duration_minutes'] = activity['activity_duration'].dt.total_seconds() / 60\n",
    "\n",
    "# Remove entries where the activity_completed is more than 24 hours after the activity_started\n",
    "activity = activity[activity['activity_duration_minutes'] <= 24 * 60]\n",
    "activity_sizes['After removing duration > 24h'] = len(activity)\n",
    "\n",
    "# Compute IQR bounds for filtering\n",
    "Q1 = activity['activity_duration_minutes'].quantile(0.25)\n",
    "Q3 = activity['activity_duration_minutes'].quantile(0.75)\n",
    "IQR = Q3 - Q1\n",
    "lower_bound = Q1 - 1.5 * IQR\n",
    "upper_bound = Q3 + 1.5 * IQR\n",
    "# Filter outliers\n",
    "activity = activity[\n",
    "    (activity['activity_duration_minutes'] >= lower_bound) &\n",
    "    (activity['activity_duration_minutes'] <= upper_bound)\n",
    "]\n",
    "\n",
    "# Dataset evolution\n",
    "print(\"Data set sizes at each stage:\")\n",
    "for stage, size in activity_sizes.items():\n",
    "    print(f\"- {stage}: {size} entries ({size / activity_sizes['Original'] * 100:.2f}%)\")\n",
    "\n",
    "user_daily_activity = activity.copy(deep=True)\n",
    "\n",
    "# Create new column for activity started day\n",
    "user_daily_activity['active_day'] = pd.to_datetime(user_daily_activity['activity_started'].dt.date)\n",
    "\n",
    "# Drop duplicates in user_id, active_day\n",
    "user_daily_activity.drop_duplicates(subset=['user_id', 'active_day'], inplace=True, keep='first')\n",
    "\n",
    "# Compute gaps between active days for each user\n",
    "user_daily_activity.sort_values(['user_id', 'active_day'], inplace=True)\n",
    "user_daily_activity['previous_day'] = user_daily_activity.groupby('user_id')['active_day'].shift(1)\n",
    "user_daily_activity['gap_days'] = (user_daily_activity['active_day'] - user_daily_activity['previous_day']).dt.days\n",
    "\n",
    "# Keep only relevnt columns\n",
    "columns = ['user_id', 'active_day', 'gap_days']\n",
    "user_daily_activity = user_daily_activity[columns]\n",
    "\n",
    "# Compute the median of gap_days per user\n",
    "user_activity = user_daily_activity.groupby('user_id')['gap_days'].median().reset_index()\n",
    "user_activity.rename(columns={'gap_days': 'median_gap_days'}, inplace=True)\n",
    "\n",
    "# Add the number of active days of that user (count)\n",
    "user_activity['active_days_count'] = user_daily_activity.groupby('user_id')['active_day'].count().values\n",
    "\n",
    "# Add the median activity duration of that user (activity_completed - activity_started) only when activity_completed is not missing\n",
    "user_activity['median_activity_duration'] = activity.groupby('user_id').apply(\n",
    "    lambda x: (x['activity_completed'] - x['activity_started']).median()\n",
    ").reset_index(drop=True)\n",
    "\n",
    "# Add the number of activities of that user (count)\n",
    "user_activity['activities_count'] = activity.groupby('user_id')['activity_id'].count().values\n",
    "# Add the number of unique activity types of that user\n",
    "user_activity['activity_types_count'] = activity.groupby('user_id')['activity_type'].nunique().values\n",
    "\n",
    "# Convert timedelta to minutes\n",
    "user_activity['median_activity_duration_minutes'] = user_activity['median_activity_duration'].dt.total_seconds() / 60\n",
    "\n",
    "# Drop the original timedelta column\n",
    "user_activity.drop(columns=['median_activity_duration'], inplace=True)\n",
    "\n",
    "print(\"Activity per User:\")\n",
    "display(user_activity.head())\n",
    "print(\"Shape:\", user_activity.shape)\n",
    "\n"
   ]
  },
  {
   "cell_type": "markdown",
   "id": "bedf2864",
   "metadata": {},
   "source": [
    "New preprocessing starts here"
   ]
  },
  {
   "cell_type": "code",
   "execution_count": 3,
   "id": "db710e75",
   "metadata": {},
   "outputs": [
    {
     "name": "stdout",
     "output_type": "stream",
     "text": [
      "Length before removing outliers in activity_started: 22754\n",
      "Length after removing outliers in activity_started: 21803\n"
     ]
    }
   ],
   "source": [
    "# TODO: Monter ceci avant la creation de user_activity\n",
    "\n",
    "# Remove outliers in activity_started with IQR method\n",
    "print(\"Length before removing outliers in activity_started:\", activity.shape[0])\n",
    "Q1 = activity['activity_started'].quantile(0.25)\n",
    "Q3 = activity['activity_started'].quantile(0.75)\n",
    "IQR = Q3 - Q1\n",
    "lower_bound = Q1 - 1.5 * IQR\n",
    "upper_bound = Q3 + 1.5 * IQR\n",
    "activity = activity[\n",
    "    (activity['activity_started'] >= lower_bound) &\n",
    "    (activity['activity_started'] <= upper_bound)\n",
    "]\n",
    "print(\"Length after removing outliers in activity_started:\", activity.shape[0])"
   ]
  },
  {
   "cell_type": "code",
   "execution_count": 4,
   "id": "d5ab9102",
   "metadata": {},
   "outputs": [
    {
     "data": {
      "image/png": "[encoded data removed]",
      "text/plain": [
       "<Figure size 1000x600 with 1 Axes>"
      ]
     },
     "metadata": {},
     "output_type": "display_data"
    }
   ],
   "source": [
    "# Define your dynamic periods\n",
    "periods = [\n",
    "    ('2024-08-15', '2024-10-15', 'Period 1'),\n",
    "    ('2024-10-15', '2024-12-15', 'Period 2'),\n",
    "    ('2024-12-15', '2025-02-15', 'Period 3'),\n",
    "    # Add more periods here without modifying any code below\n",
    "]\n",
    "\n",
    "# Prepare histogram data\n",
    "min_date = activity['activity_started'].min()\n",
    "max_date = activity['activity_started'].max()\n",
    "\n",
    "# Plot histogram with explicit range starting from min_date\n",
    "plt.figure(figsize=(10, 6))\n",
    "counts, bins, patches = plt.hist(activity['activity_started'], bins=30, color='blue', alpha=0.7, range=(min_date, max_date))\n",
    "\n",
    "# Slightly shorten bars to leave space for text labels\n",
    "for patch in patches:\n",
    "    patch.set_height(patch.get_height() * 0.9)\n",
    "\n",
    "# Convert period boundaries to timestamps\n",
    "period_bounds = [(pd.Timestamp(start), pd.Timestamp(end)) for start, end, _ in periods]\n",
    "first_start = period_bounds[0][0]\n",
    "last_end = period_bounds[-1][1]\n",
    "\n",
    "# Shade before first and after last period\n",
    "color, alpha = 'white', 0.75\n",
    "if min_date < first_start:\n",
    "    plt.axvspan(min_date, first_start, color=color, alpha=alpha)\n",
    "if max_date > last_end:\n",
    "    plt.axvspan(last_end, max_date, color=color, alpha=alpha)\n",
    "\n",
    "period_colors = 'red'\n",
    "\n",
    "# Add vertical dashed lines and period labels\n",
    "for (start_ts, end_ts), (_, _, period_name) in zip(period_bounds, periods):\n",
    "    midpoint = start_ts + (end_ts - start_ts) / 2\n",
    "    plt.axvline(start_ts, color=period_colors, linestyle='--', linewidth=1)\n",
    "    plt.axvline(end_ts, color=period_colors, linestyle='--', linewidth=1)\n",
    "\n",
    "    # Add period name slightly above shortened bars\n",
    "    plt.text(midpoint, max(counts), period_name,\n",
    "             ha='center', va='top', fontsize=9, color=period_colors,\n",
    "             bbox=dict(facecolor='white', alpha=0.7, edgecolor='none'))\n",
    "\n",
    "plt.title('Histogram of Activity Started Dates')\n",
    "plt.xlabel('Date')\n",
    "plt.ylabel('Frequency')\n",
    "plt.xticks(rotation=45)\n",
    "plt.xlim(min_date, max_date)\n",
    "plt.grid(False)\n",
    "plt.tight_layout()\n",
    "plt.show()\n",
    "\n"
   ]
  },
  {
   "cell_type": "code",
   "execution_count": 5,
   "id": "0e088535",
   "metadata": {},
   "outputs": [
    {
     "name": "stdout",
     "output_type": "stream",
     "text": [
      "\n",
      "User activity across all periods:\n"
     ]
    },
    {
     "data": {
      "application/vnd.microsoft.datawrangler.viewer.v0+json": {
       "columns": [
        {
         "name": "index",
         "rawType": "int64",
         "type": "integer"
        },
        {
         "name": "user_id",
         "rawType": "int64",
         "type": "integer"
        },
        {
         "name": "median_gap_days",
         "rawType": "float64",
         "type": "float"
        },
        {
         "name": "active_days_count",
         "rawType": "int64",
         "type": "integer"
        },
        {
         "name": "activities_count",
         "rawType": "int64",
         "type": "integer"
        },
        {
         "name": "activity_types_count",
         "rawType": "int64",
         "type": "integer"
        },
        {
         "name": "median_activity_duration_minutes",
         "rawType": "float64",
         "type": "float"
        },
        {
         "name": "period",
         "rawType": "object",
         "type": "string"
        }
       ],
       "conversionMethod": "pd.DataFrame",
       "ref": "f975664c-61f3-40f4-8ccd-afac72822358",
       "rows": [
        [
         "0",
         "128",
         null,
         "1",
         "6",
         "2",
         "1.525",
         "Period 1"
        ],
        [
         "1",
         "129",
         null,
         "1",
         "1",
         "1",
         "1.85",
         "Period 1"
        ],
        [
         "2",
         "130",
         null,
         "1",
         "66",
         "4",
         "0.375",
         "Period 1"
        ],
        [
         "3",
         "131",
         null,
         "1",
         "11",
         "2",
         "0.6",
         "Period 1"
        ],
        [
         "4",
         "142",
         null,
         "1",
         "9",
         "2",
         "6.483333333333333",
         "Period 1"
        ]
       ],
       "shape": {
        "columns": 7,
        "rows": 5
       }
      },
      "text/html": [
       "<div>\n",
       "<style scoped>\n",
       "    .dataframe tbody tr th:only-of-type {\n",
       "        vertical-align: middle;\n",
       "    }\n",
       "\n",
       "    .dataframe tbody tr th {\n",
       "        vertical-align: top;\n",
       "    }\n",
       "\n",
       "    .dataframe thead th {\n",
       "        text-align: right;\n",
       "    }\n",
       "</style>\n",
       "<table border=\"1\" class=\"dataframe\">\n",
       "  <thead>\n",
       "    <tr style=\"text-align: right;\">\n",
       "      <th></th>\n",
       "      <th>user_id</th>\n",
       "      <th>median_gap_days</th>\n",
       "      <th>active_days_count</th>\n",
       "      <th>activities_count</th>\n",
       "      <th>activity_types_count</th>\n",
       "      <th>median_activity_duration_minutes</th>\n",
       "      <th>period</th>\n",
       "    </tr>\n",
       "  </thead>\n",
       "  <tbody>\n",
       "    <tr>\n",
       "      <th>0</th>\n",
       "      <td>128</td>\n",
       "      <td>NaN</td>\n",
       "      <td>1</td>\n",
       "      <td>6</td>\n",
       "      <td>2</td>\n",
       "      <td>1.525000</td>\n",
       "      <td>Period 1</td>\n",
       "    </tr>\n",
       "    <tr>\n",
       "      <th>1</th>\n",
       "      <td>129</td>\n",
       "      <td>NaN</td>\n",
       "      <td>1</td>\n",
       "      <td>1</td>\n",
       "      <td>1</td>\n",
       "      <td>1.850000</td>\n",
       "      <td>Period 1</td>\n",
       "    </tr>\n",
       "    <tr>\n",
       "      <th>2</th>\n",
       "      <td>130</td>\n",
       "      <td>NaN</td>\n",
       "      <td>1</td>\n",
       "      <td>66</td>\n",
       "      <td>4</td>\n",
       "      <td>0.375000</td>\n",
       "      <td>Period 1</td>\n",
       "    </tr>\n",
       "    <tr>\n",
       "      <th>3</th>\n",
       "      <td>131</td>\n",
       "      <td>NaN</td>\n",
       "      <td>1</td>\n",
       "      <td>11</td>\n",
       "      <td>2</td>\n",
       "      <td>0.600000</td>\n",
       "      <td>Period 1</td>\n",
       "    </tr>\n",
       "    <tr>\n",
       "      <th>4</th>\n",
       "      <td>142</td>\n",
       "      <td>NaN</td>\n",
       "      <td>1</td>\n",
       "      <td>9</td>\n",
       "      <td>2</td>\n",
       "      <td>6.483333</td>\n",
       "      <td>Period 1</td>\n",
       "    </tr>\n",
       "  </tbody>\n",
       "</table>\n",
       "</div>"
      ],
      "text/plain": [
       "   user_id  median_gap_days  active_days_count  activities_count  \\\n",
       "0      128              NaN                  1                 6   \n",
       "1      129              NaN                  1                 1   \n",
       "2      130              NaN                  1                66   \n",
       "3      131              NaN                  1                11   \n",
       "4      142              NaN                  1                 9   \n",
       "\n",
       "   activity_types_count  median_activity_duration_minutes    period  \n",
       "0                     2                          1.525000  Period 1  \n",
       "1                     1                          1.850000  Period 1  \n",
       "2                     4                          0.375000  Period 1  \n",
       "3                     2                          0.600000  Period 1  \n",
       "4                     2                          6.483333  Period 1  "
      ]
     },
     "metadata": {},
     "output_type": "display_data"
    },
    {
     "name": "stdout",
     "output_type": "stream",
     "text": [
      "Shape: (1409, 7)\n",
      "\n",
      "\n",
      "Unique users in Period 1: 427\n",
      "Unique users in Period 2: 565\n",
      "Unique users in Period 3: 417\n",
      "\n",
      "\n",
      "Common users between Period 1 and Period 2: 314\n",
      "Common users between Period 2 and Period 3: 310\n"
     ]
    }
   ],
   "source": [
    "def create_user_activity_by_period(activity_df, periods):\n",
    "    \"\"\"\n",
    "    Creates user activity dataframes separated by time periods.\n",
    "\n",
    "    Parameters:\n",
    "    -----------\n",
    "    activity_df : pandas DataFrame\n",
    "        The original activity dataframe.\n",
    "    periods : list of tuples\n",
    "        List of (start_date, end_date, period_name) tuples defining the periods.\n",
    "\n",
    "    Returns:\n",
    "    --------\n",
    "    dict\n",
    "        Dictionary of user_activity dataframes for each period.\n",
    "    \"\"\"\n",
    "    user_activity_periods = {}\n",
    "\n",
    "    for start_date, end_date, period_name in periods:\n",
    "        period_activity = activity_df[\n",
    "            (activity_df['activity_started'] >= pd.Timestamp(start_date)) &\n",
    "            (activity_df['activity_started'] < pd.Timestamp(end_date))\n",
    "        ].copy(deep=True)\n",
    "\n",
    "        if period_activity.empty:\n",
    "            continue\n",
    "\n",
    "        user_daily_activity = period_activity.copy()\n",
    "        user_daily_activity['active_day'] = pd.to_datetime(user_daily_activity['activity_started'].dt.date)\n",
    "        user_daily_activity.drop_duplicates(subset=['user_id', 'active_day'], inplace=True, keep='first')\n",
    "        user_daily_activity.sort_values(['user_id', 'active_day'], inplace=True)\n",
    "        user_daily_activity['previous_day'] = user_daily_activity.groupby('user_id')['active_day'].shift(1)\n",
    "        user_daily_activity['gap_days'] = (user_daily_activity['active_day'] - user_daily_activity['previous_day']).dt.days\n",
    "\n",
    "        user_daily_activity = user_daily_activity[['user_id', 'active_day', 'gap_days']]\n",
    "\n",
    "        user_activity = user_daily_activity.groupby('user_id')['gap_days'].median().reset_index()\n",
    "        user_activity.rename(columns={'gap_days': 'median_gap_days'}, inplace=True)\n",
    "        user_activity['active_days_count'] = user_daily_activity.groupby('user_id')['active_day'].count().values\n",
    "\n",
    "        duration_median = (period_activity['activity_completed'] - period_activity['activity_started']).groupby(period_activity['user_id']).median()\n",
    "\n",
    "        user_activity['median_activity_duration'] = duration_median.reset_index(drop=True)\n",
    "\n",
    "        user_activity['activities_count'] = period_activity.groupby('user_id')['activity_id'].count().values\n",
    "        user_activity['activity_types_count'] = period_activity.groupby('user_id')['activity_type'].nunique().values\n",
    "\n",
    "        user_activity['median_activity_duration_minutes'] = user_activity['median_activity_duration'].dt.total_seconds() / 60\n",
    "        user_activity.drop(columns=['median_activity_duration'], inplace=True)\n",
    "        user_activity['period'] = period_name\n",
    "\n",
    "        user_activity_periods[period_name] = user_activity\n",
    "\n",
    "    return user_activity_periods\n",
    "\n",
    "# Create the period user activity dict\n",
    "user_activity_periods = create_user_activity_by_period(activity, periods)\n",
    "\n",
    "# Concatenate all into one dataframe dynamically\n",
    "all_periods_user_activity = pd.concat(user_activity_periods.values(), ignore_index=True)\n",
    "print(\"\\nUser activity across all periods:\")\n",
    "display(all_periods_user_activity.head())\n",
    "print(f\"Shape: {all_periods_user_activity.shape}\")\n",
    "print(\"\\n\")\n",
    "\n",
    "# Number of unique users in each period\n",
    "for period_name, user_activity_df in user_activity_periods.items():\n",
    "    unique_users = user_activity_df['user_id'].nunique()\n",
    "    print(f\"Unique users in {period_name}: {unique_users}\")\n",
    "print(\"\\n\")\n",
    "\n",
    "# Continous periods pairs\n",
    "period_pairs = []\n",
    "for i in range(len(periods) - 1):\n",
    "    period1 = periods[i][2]\n",
    "    period2 = periods[i + 1][2]\n",
    "    period_pairs.append((period1, period2))\n",
    "    \n",
    "# Number of unique users in pairs of periods\n",
    "for period1, period2 in period_pairs:\n",
    "    users_period1 = user_activity_periods[period1]['user_id'].unique()\n",
    "    users_period2 = user_activity_periods[period2]['user_id'].unique()\n",
    "    common_users = len(set(users_period1) & set(users_period2))\n",
    "    print(f\"Common users between {period1} and {period2}: {common_users}\")"
   ]
  },
  {
   "cell_type": "code",
   "execution_count": 45,
   "id": "68a03829",
   "metadata": {},
   "outputs": [
    {
     "data": {
      "application/vnd.plotly.v1+json": {
       "config": {
        "plotlyServerURL": "https://plot.ly"
       },
       "data": [
        {
         "link": {
          "color": [
           "rgba(100,149,237,0.5)",
           "rgba(220,20,60,0.3)",
           "rgba(0,0,0,0)",
           "rgba(100,149,237,0.5)",
           "rgba(220,20,60,0.3)",
           "rgba(0,0,0,0)"
          ],
          "label": [
           "314 continuing",
           "113 dropped",
           "",
           "310 continuing",
           "255 dropped",
           ""
          ],
          "source": [
           0,
           0,
           5,
           1,
           1,
           6
          ],
          "target": [
           1,
           3,
           1,
           2,
           4,
           2
          ],
          "value": [
           314,
           113,
           251,
           310,
           255,
           107
          ]
         },
         "node": {
          "color": [
           "#4c72b0",
           "#4c72b0",
           "#4c72b0",
           "#d62728",
           "#d62728",
           "rgba(0,0,0,0)",
           "rgba(0,0,0,0)"
          ],
          "label": [
           "Period 1 (427)",
           "Period 2 (565)",
           "Period 3 (417)",
           "Period 1 dropout",
           "Period 2 dropout",
           "",
           ""
          ],
          "line": {
           "color": "rgba(0,0,0,0)",
           "width": 0
          },
          "pad": 20,
          "thickness": 30,
          "x": [
           0,
           0.5,
           1,
           0.5,
           1,
           0.5,
           1
          ],
          "y": [
           0.1,
           0.1,
           0.1,
           0.7,
           0.7,
           1,
           1
          ]
         },
         "type": "sankey"
        }
       ],
       "layout": {
        "font": {
         "size": 10
        },
        "margin": {
         "b": 40,
         "l": 40,
         "r": 40,
         "t": 70
        },
        "template": {
         "data": {
          "bar": [
           {
            "error_x": {
             "color": "#2a3f5f"
            },
            "error_y": {
             "color": "#2a3f5f"
            },
            "marker": {
             "line": {
              "color": "#E5ECF6",
              "width": 0.5
             },
             "pattern": {
              "fillmode": "overlay",
              "size": 10,
              "solidity": 0.2
             }
            },
            "type": "bar"
           }
          ],
          "barpolar": [
           {
            "marker": {
             "line": {
              "color": "#E5ECF6",
              "width": 0.5
             },
             "pattern": {
              "fillmode": "overlay",
              "size": 10,
              "solidity": 0.2
             }
            },
            "type": "barpolar"
           }
          ],
          "carpet": [
           {
            "aaxis": {
             "endlinecolor": "#2a3f5f",
             "gridcolor": "white",
             "linecolor": "white",
             "minorgridcolor": "white",
             "startlinecolor": "#2a3f5f"
            },
            "baxis": {
             "endlinecolor": "#2a3f5f",
             "gridcolor": "white",
             "linecolor": "white",
             "minorgridcolor": "white",
             "startlinecolor": "#2a3f5f"
            },
            "type": "carpet"
           }
          ],
          "choropleth": [
           {
            "colorbar": {
             "outlinewidth": 0,
             "ticks": ""
            },
            "type": "choropleth"
           }
          ],
          "contour": [
           {
            "colorbar": {
             "outlinewidth": 0,
             "ticks": ""
            },
            "colorscale": [
             [
              0,
              "#0d0887"
             ],
             [
              0.1111111111111111,
              "#46039f"
             ],
             [
              0.2222222222222222,
              "#7201a8"
             ],
             [
              0.3333333333333333,
              "#9c179e"
             ],
             [
              0.4444444444444444,
              "#bd3786"
             ],
             [
              0.5555555555555556,
              "#d8576b"
             ],
             [
              0.6666666666666666,
              "#ed7953"
             ],
             [
              0.7777777777777778,
              "#fb9f3a"
             ],
             [
              0.8888888888888888,
              "#fdca26"
             ],
             [
              1,
              "#f0f921"
             ]
            ],
            "type": "contour"
           }
          ],
          "contourcarpet": [
           {
            "colorbar": {
             "outlinewidth": 0,
             "ticks": ""
            },
            "type": "contourcarpet"
           }
          ],
          "heatmap": [
           {
            "colorbar": {
             "outlinewidth": 0,
             "ticks": ""
            },
            "colorscale": [
             [
              0,
              "#0d0887"
             ],
             [
              0.1111111111111111,
              "#46039f"
             ],
             [
              0.2222222222222222,
              "#7201a8"
             ],
             [
              0.3333333333333333,
              "#9c179e"
             ],
             [
              0.4444444444444444,
              "#bd3786"
             ],
             [
              0.5555555555555556,
              "#d8576b"
             ],
             [
              0.6666666666666666,
              "#ed7953"
             ],
             [
              0.7777777777777778,
              "#fb9f3a"
             ],
             [
              0.8888888888888888,
              "#fdca26"
             ],
             [
              1,
              "#f0f921"
             ]
            ],
            "type": "heatmap"
           }
          ],
          "histogram": [
           {
            "marker": {
             "pattern": {
              "fillmode": "overlay",
              "size": 10,
              "solidity": 0.2
             }
            },
            "type": "histogram"
           }
          ],
          "histogram2d": [
           {
            "colorbar": {
             "outlinewidth": 0,
             "ticks": ""
            },
            "colorscale": [
             [
              0,
              "#0d0887"
             ],
             [
              0.1111111111111111,
              "#46039f"
             ],
             [
              0.2222222222222222,
              "#7201a8"
             ],
             [
              0.3333333333333333,
              "#9c179e"
             ],
             [
              0.4444444444444444,
              "#bd3786"
             ],
             [
              0.5555555555555556,
              "#d8576b"
             ],
             [
              0.6666666666666666,
              "#ed7953"
             ],
             [
              0.7777777777777778,
              "#fb9f3a"
             ],
             [
              0.8888888888888888,
              "#fdca26"
             ],
             [
              1,
              "#f0f921"
             ]
            ],
            "type": "histogram2d"
           }
          ],
          "histogram2dcontour": [
           {
            "colorbar": {
             "outlinewidth": 0,
             "ticks": ""
            },
            "colorscale": [
             [
              0,
              "#0d0887"
             ],
             [
              0.1111111111111111,
              "#46039f"
             ],
             [
              0.2222222222222222,
              "#7201a8"
             ],
             [
              0.3333333333333333,
              "#9c179e"
             ],
             [
              0.4444444444444444,
              "#bd3786"
             ],
             [
              0.5555555555555556,
              "#d8576b"
             ],
             [
              0.6666666666666666,
              "#ed7953"
             ],
             [
              0.7777777777777778,
              "#fb9f3a"
             ],
             [
              0.8888888888888888,
              "#fdca26"
             ],
             [
              1,
              "#f0f921"
             ]
            ],
            "type": "histogram2dcontour"
           }
          ],
          "mesh3d": [
           {
            "colorbar": {
             "outlinewidth": 0,
             "ticks": ""
            },
            "type": "mesh3d"
           }
          ],
          "parcoords": [
           {
            "line": {
             "colorbar": {
              "outlinewidth": 0,
              "ticks": ""
             }
            },
            "type": "parcoords"
           }
          ],
          "pie": [
           {
            "automargin": true,
            "type": "pie"
           }
          ],
          "scatter": [
           {
            "fillpattern": {
             "fillmode": "overlay",
             "size": 10,
             "solidity": 0.2
            },
            "type": "scatter"
           }
          ],
          "scatter3d": [
           {
            "line": {
             "colorbar": {
              "outlinewidth": 0,
              "ticks": ""
             }
            },
            "marker": {
             "colorbar": {
              "outlinewidth": 0,
              "ticks": ""
             }
            },
            "type": "scatter3d"
           }
          ],
          "scattercarpet": [
           {
            "marker": {
             "colorbar": {
              "outlinewidth": 0,
              "ticks": ""
             }
            },
            "type": "scattercarpet"
           }
          ],
          "scattergeo": [
           {
            "marker": {
             "colorbar": {
              "outlinewidth": 0,
              "ticks": ""
             }
            },
            "type": "scattergeo"
           }
          ],
          "scattergl": [
           {
            "marker": {
             "colorbar": {
              "outlinewidth": 0,
              "ticks": ""
             }
            },
            "type": "scattergl"
           }
          ],
          "scattermap": [
           {
            "marker": {
             "colorbar": {
              "outlinewidth": 0,
              "ticks": ""
             }
            },
            "type": "scattermap"
           }
          ],
          "scattermapbox": [
           {
            "marker": {
             "colorbar": {
              "outlinewidth": 0,
              "ticks": ""
             }
            },
            "type": "scattermapbox"
           }
          ],
          "scatterpolar": [
           {
            "marker": {
             "colorbar": {
              "outlinewidth": 0,
              "ticks": ""
             }
            },
            "type": "scatterpolar"
           }
          ],
          "scatterpolargl": [
           {
            "marker": {
             "colorbar": {
              "outlinewidth": 0,
              "ticks": ""
             }
            },
            "type": "scatterpolargl"
           }
          ],
          "scatterternary": [
           {
            "marker": {
             "colorbar": {
              "outlinewidth": 0,
              "ticks": ""
             }
            },
            "type": "scatterternary"
           }
          ],
          "surface": [
           {
            "colorbar": {
             "outlinewidth": 0,
             "ticks": ""
            },
            "colorscale": [
             [
              0,
              "#0d0887"
             ],
             [
              0.1111111111111111,
              "#46039f"
             ],
             [
              0.2222222222222222,
              "#7201a8"
             ],
             [
              0.3333333333333333,
              "#9c179e"
             ],
             [
              0.4444444444444444,
              "#bd3786"
             ],
             [
              0.5555555555555556,
              "#d8576b"
             ],
             [
              0.6666666666666666,
              "#ed7953"
             ],
             [
              0.7777777777777778,
              "#fb9f3a"
             ],
             [
              0.8888888888888888,
              "#fdca26"
             ],
             [
              1,
              "#f0f921"
             ]
            ],
            "type": "surface"
           }
          ],
          "table": [
           {
            "cells": {
             "fill": {
              "color": "#EBF0F8"
             },
             "line": {
              "color": "white"
             }
            },
            "header": {
             "fill": {
              "color": "#C8D4E3"
             },
             "line": {
              "color": "white"
             }
            },
            "type": "table"
           }
          ]
         },
         "layout": {
          "annotationdefaults": {
           "arrowcolor": "#2a3f5f",
           "arrowhead": 0,
           "arrowwidth": 1
          },
          "autotypenumbers": "strict",
          "coloraxis": {
           "colorbar": {
            "outlinewidth": 0,
            "ticks": ""
           }
          },
          "colorscale": {
           "diverging": [
            [
             0,
             "#8e0152"
            ],
            [
             0.1,
             "#c51b7d"
            ],
            [
             0.2,
             "#de77ae"
            ],
            [
             0.3,
             "#f1b6da"
            ],
            [
             0.4,
             "#fde0ef"
            ],
            [
             0.5,
             "#f7f7f7"
            ],
            [
             0.6,
             "#e6f5d0"
            ],
            [
             0.7,
             "#b8e186"
            ],
            [
             0.8,
             "#7fbc41"
            ],
            [
             0.9,
             "#4d9221"
            ],
            [
             1,
             "#276419"
            ]
           ],
           "sequential": [
            [
             0,
             "#0d0887"
            ],
            [
             0.1111111111111111,
             "#46039f"
            ],
            [
             0.2222222222222222,
             "#7201a8"
            ],
            [
             0.3333333333333333,
             "#9c179e"
            ],
            [
             0.4444444444444444,
             "#bd3786"
            ],
            [
             0.5555555555555556,
             "#d8576b"
            ],
            [
             0.6666666666666666,
             "#ed7953"
            ],
            [
             0.7777777777777778,
             "#fb9f3a"
            ],
            [
             0.8888888888888888,
             "#fdca26"
            ],
            [
             1,
             "#f0f921"
            ]
           ],
           "sequentialminus": [
            [
             0,
             "#0d0887"
            ],
            [
             0.1111111111111111,
             "#46039f"
            ],
            [
             0.2222222222222222,
             "#7201a8"
            ],
            [
             0.3333333333333333,
             "#9c179e"
            ],
            [
             0.4444444444444444,
             "#bd3786"
            ],
            [
             0.5555555555555556,
             "#d8576b"
            ],
            [
             0.6666666666666666,
             "#ed7953"
            ],
            [
             0.7777777777777778,
             "#fb9f3a"
            ],
            [
             0.8888888888888888,
             "#fdca26"
            ],
            [
             1,
             "#f0f921"
            ]
           ]
          },
          "colorway": [
           "#636efa",
           "#EF553B",
           "#00cc96",
           "#ab63fa",
           "#FFA15A",
           "#19d3f3",
           "#FF6692",
           "#B6E880",
           "#FF97FF",
           "#FECB52"
          ],
          "font": {
           "color": "#2a3f5f"
          },
          "geo": {
           "bgcolor": "white",
           "lakecolor": "white",
           "landcolor": "#E5ECF6",
           "showlakes": true,
           "showland": true,
           "subunitcolor": "white"
          },
          "hoverlabel": {
           "align": "left"
          },
          "hovermode": "closest",
          "mapbox": {
           "style": "light"
          },
          "paper_bgcolor": "white",
          "plot_bgcolor": "#E5ECF6",
          "polar": {
           "angularaxis": {
            "gridcolor": "white",
            "linecolor": "white",
            "ticks": ""
           },
           "bgcolor": "#E5ECF6",
           "radialaxis": {
            "gridcolor": "white",
            "linecolor": "white",
            "ticks": ""
           }
          },
          "scene": {
           "xaxis": {
            "backgroundcolor": "#E5ECF6",
            "gridcolor": "white",
            "gridwidth": 2,
            "linecolor": "white",
            "showbackground": true,
            "ticks": "",
            "zerolinecolor": "white"
           },
           "yaxis": {
            "backgroundcolor": "#E5ECF6",
            "gridcolor": "white",
            "gridwidth": 2,
            "linecolor": "white",
            "showbackground": true,
            "ticks": "",
            "zerolinecolor": "white"
           },
           "zaxis": {
            "backgroundcolor": "#E5ECF6",
            "gridcolor": "white",
            "gridwidth": 2,
            "linecolor": "white",
            "showbackground": true,
            "ticks": "",
            "zerolinecolor": "white"
           }
          },
          "shapedefaults": {
           "line": {
            "color": "#2a3f5f"
           }
          },
          "ternary": {
           "aaxis": {
            "gridcolor": "white",
            "linecolor": "white",
            "ticks": ""
           },
           "baxis": {
            "gridcolor": "white",
            "linecolor": "white",
            "ticks": ""
           },
           "bgcolor": "#E5ECF6",
           "caxis": {
            "gridcolor": "white",
            "linecolor": "white",
            "ticks": ""
           }
          },
          "title": {
           "x": 0.05
          },
          "xaxis": {
           "automargin": true,
           "gridcolor": "white",
           "linecolor": "white",
           "ticks": "",
           "title": {
            "standoff": 15
           },
           "zerolinecolor": "white",
           "zerolinewidth": 2
          },
          "yaxis": {
           "automargin": true,
           "gridcolor": "white",
           "linecolor": "white",
           "ticks": "",
           "title": {
            "standoff": 15
           },
           "zerolinecolor": "white",
           "zerolinewidth": 2
          }
         }
        },
        "title": {
         "text": "Student Retention Over Time"
        }
       }
      }
     },
     "metadata": {},
     "output_type": "display_data"
    }
   ],
   "source": [
    "import plotly.graph_objects as go\n",
    "\n",
    "# Periods and user data\n",
    "periods = ['Period 1', 'Period 2', 'Period 3']\n",
    "user_counts = {'Period 1': 427, 'Period 2': 565, 'Period 3': 417}\n",
    "common_users = {('Period 1', 'Period 2'): 314, ('Period 2', 'Period 3'): 310}\n",
    "\n",
    "# Label and node setup\n",
    "label_list, node_colors, node_x, node_y = [], [], [], []\n",
    "label_index = {}\n",
    "\n",
    "# Period nodes\n",
    "for i, p in enumerate(periods):\n",
    "    label_list.append(f'{p} ({user_counts[p]})')\n",
    "    label_index[p] = len(label_list) - 1\n",
    "    node_colors.append(\"#4c72b0\")\n",
    "    node_x.append(i / (len(periods) - 1))\n",
    "    node_y.append(0.1)\n",
    "\n",
    "# Dropout nodes\n",
    "for i, p in enumerate(periods[:-1]):\n",
    "    drop_label = f\"{p} dropout\"\n",
    "    label_list.append(drop_label)\n",
    "    label_index[f\"{p}_dropout\"] = len(label_list) - 1\n",
    "    node_colors.append(\"#d62728\")\n",
    "    node_x.append((i + 1) / (len(periods) - 1))  # Shifted to next column\n",
    "    node_y.append(0.7)\n",
    "\n",
    "# Hidden \"new\" joiner nodes\n",
    "for i, p in enumerate(periods[1:], start=1):\n",
    "    label_list.append(\"\")  # empty label\n",
    "    label_index[f\"{p}_new\"] = len(label_list) - 1\n",
    "    node_colors.append(\"rgba(0,0,0,0)\")  # fully transparent\n",
    "    node_x.append(i / (len(periods) - 1))\n",
    "    node_y.append(1.0)  # offscreen\n",
    "\n",
    "# Links\n",
    "sources, targets, values, link_colors, link_labels = [], [], [], [], []\n",
    "\n",
    "for i in range(len(periods) - 1):\n",
    "    p1, p2 = periods[i], periods[i + 1]\n",
    "    total_p1 = user_counts[p1]\n",
    "    total_p2 = user_counts[p2]\n",
    "    n_common = common_users[(p1, p2)]\n",
    "    n_dropout = total_p1 - n_common\n",
    "    n_new = total_p2 - n_common\n",
    "\n",
    "    # Main transition\n",
    "    sources.append(label_index[p1])\n",
    "    targets.append(label_index[p2])\n",
    "    values.append(n_common)\n",
    "    link_colors.append(\"rgba(100,149,237,0.5)\")\n",
    "    link_labels.append(f\"{n_common} continuing\")\n",
    "\n",
    "    # Dropout link\n",
    "    sources.append(label_index[p1])\n",
    "    targets.append(label_index[f\"{p1}_dropout\"])\n",
    "    values.append(n_dropout)\n",
    "    link_colors.append(\"rgba(220,20,60,0.3)\")\n",
    "    link_labels.append(f\"{n_dropout} dropped\")\n",
    "\n",
    "    # Hidden new joiners\n",
    "    sources.append(label_index[f\"{p2}_new\"])\n",
    "    targets.append(label_index[p2])\n",
    "    values.append(n_new)\n",
    "    link_colors.append(\"rgba(0,0,0,0)\")  # transparent\n",
    "    link_labels.append(\"\")\n",
    "\n",
    "# Create Sankey\n",
    "fig = go.Figure(data=[go.Sankey(\n",
    "    node=dict(\n",
    "        pad=20,\n",
    "        thickness=30,\n",
    "        line=dict(color=\"rgba(0,0,0,0)\", width=0.0),\n",
    "        label=label_list,\n",
    "        color=node_colors,\n",
    "        x=node_x,\n",
    "        y=node_y\n",
    "    ),\n",
    "    link=dict(\n",
    "        source=sources,\n",
    "        target=targets,\n",
    "        value=values,\n",
    "        color=link_colors,\n",
    "        label=link_labels\n",
    "    )\n",
    ")])\n",
    "\n",
    "fig.update_layout(title_text=\"Student Retention Over Time\", font_size=10)\n",
    "fig.update_layout(margin=dict(l=40, r=40, t=70, b=40))\n",
    "fig.show()"
   ]
  },
  {
   "cell_type": "code",
   "execution_count": 6,
   "id": "ea3e9196",
   "metadata": {},
   "outputs": [],
   "source": [
    "# Load the data\n",
    "all_scores = pd.read_csv(f'{DATA_DIR}/all_scores.csv')\n",
    "\n",
    "# Cast timestamps to datetime\n",
    "all_scores['time'] = pd.to_datetime(all_scores['time'], unit='s')"
   ]
  },
  {
   "cell_type": "code",
   "execution_count": 7,
   "id": "052a3258",
   "metadata": {},
   "outputs": [
    {
     "name": "stdout",
     "output_type": "stream",
     "text": [
      "\n",
      "User activity and scores across all periods:\n"
     ]
    },
    {
     "data": {
      "application/vnd.microsoft.datawrangler.viewer.v0+json": {
       "columns": [
        {
         "name": "index",
         "rawType": "int64",
         "type": "integer"
        },
        {
         "name": "user_id",
         "rawType": "int64",
         "type": "integer"
        },
        {
         "name": "median_gap_days",
         "rawType": "float64",
         "type": "float"
        },
        {
         "name": "active_days_count",
         "rawType": "int64",
         "type": "integer"
        },
        {
         "name": "activities_count",
         "rawType": "int64",
         "type": "integer"
        },
        {
         "name": "activity_types_count",
         "rawType": "int64",
         "type": "integer"
        },
        {
         "name": "median_activity_duration_minutes",
         "rawType": "float64",
         "type": "float"
        },
        {
         "name": "period",
         "rawType": "object",
         "type": "string"
        },
        {
         "name": "median_score",
         "rawType": "float64",
         "type": "float"
        },
        {
         "name": "scores_count",
         "rawType": "int64",
         "type": "integer"
        }
       ],
       "conversionMethod": "pd.DataFrame",
       "ref": "085ed301-5ac4-429c-b8da-20e2fc5fecb7",
       "rows": [
        [
         "0",
         "433",
         "8.5",
         "3",
         "20",
         "3",
         "2.2083333333333335",
         "Period 1",
         "75.0",
         "3"
        ],
        [
         "1",
         "436",
         "5.5",
         "5",
         "25",
         "3",
         "5.05",
         "Period 1",
         "70.14",
         "2"
        ],
        [
         "2",
         "465",
         "3.5",
         "5",
         "34",
         "3",
         "1.8666666666666667",
         "Period 1",
         "95.0",
         "2"
        ],
        [
         "3",
         "475",
         "3.0",
         "6",
         "15",
         "2",
         "12.766666666666667",
         "Period 1",
         "88.75",
         "2"
        ],
        [
         "4",
         "3112",
         "7.0",
         "4",
         "6",
         "2",
         "1.85",
         "Period 1",
         "33.335",
         "2"
        ]
       ],
       "shape": {
        "columns": 9,
        "rows": 5
       }
      },
      "text/html": [
       "<div>\n",
       "<style scoped>\n",
       "    .dataframe tbody tr th:only-of-type {\n",
       "        vertical-align: middle;\n",
       "    }\n",
       "\n",
       "    .dataframe tbody tr th {\n",
       "        vertical-align: top;\n",
       "    }\n",
       "\n",
       "    .dataframe thead th {\n",
       "        text-align: right;\n",
       "    }\n",
       "</style>\n",
       "<table border=\"1\" class=\"dataframe\">\n",
       "  <thead>\n",
       "    <tr style=\"text-align: right;\">\n",
       "      <th></th>\n",
       "      <th>user_id</th>\n",
       "      <th>median_gap_days</th>\n",
       "      <th>active_days_count</th>\n",
       "      <th>activities_count</th>\n",
       "      <th>activity_types_count</th>\n",
       "      <th>median_activity_duration_minutes</th>\n",
       "      <th>period</th>\n",
       "      <th>median_score</th>\n",
       "      <th>scores_count</th>\n",
       "    </tr>\n",
       "  </thead>\n",
       "  <tbody>\n",
       "    <tr>\n",
       "      <th>0</th>\n",
       "      <td>433</td>\n",
       "      <td>8.5</td>\n",
       "      <td>3</td>\n",
       "      <td>20</td>\n",
       "      <td>3</td>\n",
       "      <td>2.208333</td>\n",
       "      <td>Period 1</td>\n",
       "      <td>75.000</td>\n",
       "      <td>3</td>\n",
       "    </tr>\n",
       "    <tr>\n",
       "      <th>1</th>\n",
       "      <td>436</td>\n",
       "      <td>5.5</td>\n",
       "      <td>5</td>\n",
       "      <td>25</td>\n",
       "      <td>3</td>\n",
       "      <td>5.050000</td>\n",
       "      <td>Period 1</td>\n",
       "      <td>70.140</td>\n",
       "      <td>2</td>\n",
       "    </tr>\n",
       "    <tr>\n",
       "      <th>2</th>\n",
       "      <td>465</td>\n",
       "      <td>3.5</td>\n",
       "      <td>5</td>\n",
       "      <td>34</td>\n",
       "      <td>3</td>\n",
       "      <td>1.866667</td>\n",
       "      <td>Period 1</td>\n",
       "      <td>95.000</td>\n",
       "      <td>2</td>\n",
       "    </tr>\n",
       "    <tr>\n",
       "      <th>3</th>\n",
       "      <td>475</td>\n",
       "      <td>3.0</td>\n",
       "      <td>6</td>\n",
       "      <td>15</td>\n",
       "      <td>2</td>\n",
       "      <td>12.766667</td>\n",
       "      <td>Period 1</td>\n",
       "      <td>88.750</td>\n",
       "      <td>2</td>\n",
       "    </tr>\n",
       "    <tr>\n",
       "      <th>4</th>\n",
       "      <td>3112</td>\n",
       "      <td>7.0</td>\n",
       "      <td>4</td>\n",
       "      <td>6</td>\n",
       "      <td>2</td>\n",
       "      <td>1.850000</td>\n",
       "      <td>Period 1</td>\n",
       "      <td>33.335</td>\n",
       "      <td>2</td>\n",
       "    </tr>\n",
       "  </tbody>\n",
       "</table>\n",
       "</div>"
      ],
      "text/plain": [
       "   user_id  median_gap_days  active_days_count  activities_count  \\\n",
       "0      433              8.5                  3                20   \n",
       "1      436              5.5                  5                25   \n",
       "2      465              3.5                  5                34   \n",
       "3      475              3.0                  6                15   \n",
       "4     3112              7.0                  4                 6   \n",
       "\n",
       "   activity_types_count  median_activity_duration_minutes    period  \\\n",
       "0                     3                          2.208333  Period 1   \n",
       "1                     3                          5.050000  Period 1   \n",
       "2                     3                          1.866667  Period 1   \n",
       "3                     2                         12.766667  Period 1   \n",
       "4                     2                          1.850000  Period 1   \n",
       "\n",
       "   median_score  scores_count  \n",
       "0        75.000             3  \n",
       "1        70.140             2  \n",
       "2        95.000             2  \n",
       "3        88.750             2  \n",
       "4        33.335             2  "
      ]
     },
     "metadata": {},
     "output_type": "display_data"
    },
    {
     "name": "stdout",
     "output_type": "stream",
     "text": [
      "Shape: (641, 9)\n",
      "\n",
      "\n",
      "Period Period 1: 119 unique users\n",
      "Period Period 2: 329 unique users\n",
      "Period Period 3: 193 unique users\n",
      "\n",
      "\n",
      "Users appearing in exactly 1 periods: 219\n",
      "Users appearing in exactly 2 periods: 130\n",
      "Users appearing in exactly 3 periods: 54\n",
      "\n",
      "\n",
      "Common users between Period 1 and Period 2: 93\n",
      "Common users between Period 2 and Period 3: 141\n"
     ]
    }
   ],
   "source": [
    "def compute_and_merge_median_scores_by_period(all_scores, user_activity_periods, periods):\n",
    "    \"\"\"\n",
    "    Computes median scores per user for each period and merges with corresponding user_activity.\n",
    "    \n",
    "    Parameters:\n",
    "    -----------\n",
    "    all_scores : pandas DataFrame\n",
    "        DataFrame containing all user scores\n",
    "    user_activity_periods : dict\n",
    "        Dictionary of user_activity dataframes for each period\n",
    "    periods : list of tuples\n",
    "        List of (start_date, end_date, period_name) tuples defining the periods\n",
    "    \n",
    "    Returns:\n",
    "    --------\n",
    "    dict\n",
    "        Dictionary of merged student dataframes for each period\n",
    "    \"\"\"\n",
    "    students_by_period = {}\n",
    "    \n",
    "    for start_date, end_date, period_name in periods:        \n",
    "        period_scores = all_scores[\n",
    "            (all_scores['time'] >= pd.Timestamp(start_date)) & \n",
    "            (all_scores['time'] < pd.Timestamp(end_date))\n",
    "        ].copy()\n",
    "\n",
    "        if period_scores.empty:\n",
    "            continue\n",
    "        \n",
    "        user_activity = user_activity_periods.get(period_name)\n",
    "        if user_activity is None or user_activity.empty:\n",
    "            continue\n",
    "\n",
    "        students_median_score = period_scores.groupby('user_id')['percentage'].median().reset_index()\n",
    "        students_median_score.rename(columns={'percentage': 'median_score'}, inplace=True)\n",
    "        students_median_score['scores_count'] = period_scores.groupby('user_id')['percentage'].count().values\n",
    "\n",
    "        # Filter out users with only one score\n",
    "        students_median_score_filtered = students_median_score[students_median_score['scores_count'] > 1]\n",
    "        # print(f\"Users with at least 2 scores in {period_name}: {len(students_median_score_filtered)}\")\n",
    "\n",
    "        # IQR-based outlier removal\n",
    "        Q1 = students_median_score_filtered['scores_count'].quantile(0.25)\n",
    "        Q3 = students_median_score_filtered['scores_count'].quantile(0.75)\n",
    "        IQR = Q3 - Q1\n",
    "        lower_bound = Q1 - 1.5 * IQR\n",
    "        upper_bound = Q3 + 1.5 * IQR\n",
    "\n",
    "        length_before = len(students_median_score_filtered)\n",
    "        students_median_score_filtered = students_median_score_filtered[\n",
    "            (students_median_score_filtered['scores_count'] >= lower_bound) & \n",
    "            (students_median_score_filtered['scores_count'] <= upper_bound)\n",
    "        ]\n",
    "        length_after = len(students_median_score_filtered)\n",
    "\n",
    "        # print(f\"Number of users before outlier removal: {length_before}\")\n",
    "        # print(f\"Number of users after outlier removal: {length_after} ({length_after / length_before * 100:.2f}%)\")\n",
    "\n",
    "        # Filter period_scores to retain users only\n",
    "        period_scores_filtered = period_scores[period_scores['user_id'].isin(students_median_score_filtered['user_id'])]\n",
    "\n",
    "        students = user_activity.merge(\n",
    "            students_median_score_filtered,\n",
    "            how='inner',\n",
    "            on='user_id'\n",
    "        )\n",
    "        students['period'] = period_name\n",
    "\n",
    "        # print(f\"Number of users in user_activity: {user_activity['user_id'].nunique()}\")\n",
    "        # print(f\"Number of users in filtered scores: {students_median_score_filtered['user_id'].nunique()}\")\n",
    "        # print(f\"Number of users after merge: {students['user_id'].nunique()}\")\n",
    "        \n",
    "        students_by_period[period_name] = students\n",
    "\n",
    "    return students_by_period\n",
    "\n",
    "# Compute and merge scores\n",
    "students_by_period = compute_and_merge_median_scores_by_period(all_scores, user_activity_periods, periods)\n",
    "\n",
    "# Combine all periods into one dataframe\n",
    "all_students = pd.concat(students_by_period.values(), ignore_index=True)\n",
    "print(\"\\nUser activity and scores across all periods:\")\n",
    "display(all_students.head())\n",
    "print(f\"Shape: {all_students.shape}\")\n",
    "print(\"\\n\")\n",
    "\n",
    "# Analyze user counts per period\n",
    "for period_name, df in students_by_period.items():\n",
    "    print(f\"Period {period_name}: {df['user_id'].nunique()} unique users\")\n",
    "print(\"\\n\")\n",
    "\n",
    "# Analyze overlap across periods\n",
    "if len(students_by_period) > 1:\n",
    "    user_period_counts = all_students.groupby('user_id')['period'].nunique()\n",
    "    for i in range(1, len(periods) + 1):\n",
    "        users_in_n_periods = user_period_counts[user_period_counts == i].count()\n",
    "        print(f\"Users appearing in exactly {i} periods: {users_in_n_periods}\")\n",
    "print(\"\\n\")\n",
    "\n",
    "# Number of unique users in pairs of periods\n",
    "for i in range(len(periods) - 1):\n",
    "    period1 = periods[i][2]\n",
    "    period2 = periods[i + 1][2]\n",
    "    users_period1 = students_by_period[period1]['user_id'].unique()\n",
    "    users_period2 = students_by_period[period2]['user_id'].unique()\n",
    "    common_users = len(set(users_period1) & set(users_period2))\n",
    "    print(f\"Common users between {period1} and {period2}: {common_users}\")"
   ]
  },
  {
   "cell_type": "code",
   "execution_count": null,
   "id": "048f8394",
   "metadata": {},
   "outputs": [],
   "source": [
    "# Display "
   ]
  },
  {
   "cell_type": "markdown",
   "id": "85633adb-d317-4ee3-bf06-e9f82f589c41",
   "metadata": {
    "id": "85633adb-d317-4ee3-bf06-e9f82f589c41"
   },
   "source": [
    "## Task 2: Model Building"
   ]
  },
  {
   "cell_type": "code",
   "execution_count": 8,
   "id": "902b70f3",
   "metadata": {},
   "outputs": [
    {
     "data": {
      "image/png": "[encoded data removed]",
      "text/plain": [
       "<Figure size 1400x600 with 2 Axes>"
      ]
     },
     "metadata": {},
     "output_type": "display_data"
    }
   ],
   "source": [
    "def cluster_students_by_period(students_by_period, k=4):\n",
    "    \"\"\"\n",
    "    Applies KMeans clustering to students from each period and returns two bar plots:\n",
    "    - absolute cluster distribution\n",
    "    - normalized cluster distribution\n",
    "\n",
    "    Parameters:\n",
    "    -----------\n",
    "    students_by_period : dict\n",
    "        Dictionary of student dataframes for each period\n",
    "    k : int, default=4\n",
    "        Number of clusters to use\n",
    "\n",
    "    Returns:\n",
    "    --------\n",
    "    dict\n",
    "        Dictionary of clustered student dataframes per period\n",
    "    \"\"\"\n",
    "    from collections import defaultdict\n",
    "    import numpy as np\n",
    "    import matplotlib.pyplot as plt\n",
    "    from sklearn.preprocessing import StandardScaler\n",
    "    from sklearn.cluster import KMeans\n",
    "\n",
    "    columns_used = [\n",
    "        'median_gap_days',\n",
    "        'active_days_count',\n",
    "        'activities_count',\n",
    "        'activity_types_count',\n",
    "        'median_activity_duration_minutes'\n",
    "    ]\n",
    "    \n",
    "    clustered_students = {}\n",
    "    cluster_distributions = defaultdict(lambda: [0]*k)\n",
    "    cluster_distributions_normalized = defaultdict(lambda: [0]*k)\n",
    "\n",
    "    for period_name, df in students_by_period.items():\n",
    "        if df is None or df.empty:\n",
    "            continue\n",
    "        \n",
    "        df_clean = df.dropna(subset=columns_used)\n",
    "        if len(df_clean) < k:\n",
    "            continue\n",
    "        \n",
    "        X = df_clean[columns_used]\n",
    "        scaler = StandardScaler()\n",
    "        X_scaled = scaler.fit_transform(X)\n",
    "\n",
    "        kmeans = KMeans(n_clusters=k, random_state=42, n_init=10)\n",
    "        labels = kmeans.fit_predict(X_scaled)\n",
    "\n",
    "        df_clean = df_clean.copy()\n",
    "        df_clean['cluster'] = labels\n",
    "\n",
    "        # Count cluster assignments\n",
    "        counts = df_clean['cluster'].value_counts().sort_index()\n",
    "        total = len(df_clean)\n",
    "        for cluster_idx in range(k):\n",
    "            count = counts.get(cluster_idx, 0)\n",
    "            cluster_distributions[period_name][cluster_idx] = count\n",
    "            cluster_distributions_normalized[period_name][cluster_idx] = count / total\n",
    "\n",
    "        clustered_students[period_name] = df_clean\n",
    "\n",
    "    # Plot side-by-side charts\n",
    "    if clustered_students:\n",
    "        periods_sorted = sorted(cluster_distributions.keys())\n",
    "        x = np.arange(len(periods_sorted))\n",
    "        width = 0.2\n",
    "\n",
    "        fig, axes = plt.subplots(1, 2, figsize=(14, 6), sharey=False)\n",
    "\n",
    "        # Raw count plot\n",
    "        for i in range(k):\n",
    "            counts = [cluster_distributions[period][i] for period in periods_sorted]\n",
    "            axes[0].bar(x + i * width, counts, width, label=f'Profile {i+1}')\n",
    "        axes[0].set_title('Raw Student Count per Profile')\n",
    "        axes[0].set_xlabel('Period')\n",
    "        axes[0].set_ylabel('Number of Students')\n",
    "        axes[0].set_xticks(x + width * (k-1)/2)\n",
    "        axes[0].set_xticklabels(periods_sorted)\n",
    "        axes[0].legend()\n",
    "        axes[0].grid(axis='y')\n",
    "\n",
    "        # Normalized plot\n",
    "        for i in range(k):\n",
    "            counts = [cluster_distributions_normalized[period][i] for period in periods_sorted]\n",
    "            axes[1].bar(x + i * width, counts, width, label=f'Profile {i+1}')\n",
    "        axes[1].set_title('Normalized Student Distribution per Profile')\n",
    "        axes[1].set_xlabel('Period')\n",
    "        axes[1].set_ylabel('Fraction of Students')\n",
    "        axes[1].set_xticks(x + width * (k-1)/2)\n",
    "        axes[1].set_xticklabels(periods_sorted)\n",
    "        axes[1].legend()\n",
    "        axes[1].grid(axis='y')\n",
    "\n",
    "        plt.tight_layout()\n",
    "        plt.show()\n",
    "\n",
    "    return clustered_students\n",
    "\n",
    "clustered_students_by_period = cluster_students_by_period(students_by_period, k=4)"
   ]
  },
  {
   "cell_type": "code",
   "execution_count": null,
   "id": "ce59b7c0",
   "metadata": {},
   "outputs": [
    {
     "data": {
      "application/vnd.plotly.v1+json": {
       "config": {
        "plotlyServerURL": "https://plot.ly"
       },
       "data": [
        {
         "link": {
          "customdata": [
           "1 students went from Profile 1 to Profile 1",
           "14 students went from Profile 1 to Profile 2",
           "2 students went from Profile 1 to Profile 3",
           "4 students went from Profile 1 to Profile 4",
           "1 students went from Profile 2 to Profile 1",
           "5 students went from Profile 2 to Profile 2",
           "2 students went from Profile 2 to Profile 3",
           "3 students went from Profile 2 to Profile 4",
           "1 students went from Profile 3 to Profile 1",
           "15 students went from Profile 3 to Profile 2",
           "4 students went from Profile 3 to Profile 3",
           "4 students went from Profile 3 to Profile 4",
           "2 students went from Profile 4 to Profile 1",
           "25 students went from Profile 4 to Profile 2",
           "3 students went from Profile 4 to Profile 3",
           "4 students went from Profile 4 to Profile 4",
           "3 students went from Profile 1 to Profile 1",
           "7 students went from Profile 1 to Profile 2",
           "13 students went from Profile 1 to Profile 3",
           "2 students went from Profile 1 to Profile 4",
           "15 students went from Profile 2 to Profile 1",
           "5 students went from Profile 2 to Profile 2",
           "41 students went from Profile 2 to Profile 3",
           "13 students went from Profile 2 to Profile 4",
           "1 students went from Profile 3 to Profile 1",
           "4 students went from Profile 3 to Profile 3",
           "3 students went from Profile 4 to Profile 1",
           "2 students went from Profile 4 to Profile 2",
           "8 students went from Profile 4 to Profile 3",
           "10 students went from Profile 4 to Profile 4"
          ],
          "hovertemplate": "%{customdata}<extra></extra>",
          "source": [
           0,
           0,
           0,
           0,
           1,
           1,
           1,
           1,
           2,
           2,
           2,
           2,
           3,
           3,
           3,
           3,
           4,
           4,
           4,
           4,
           5,
           5,
           5,
           5,
           6,
           6,
           7,
           7,
           7,
           7
          ],
          "target": [
           4,
           5,
           6,
           7,
           4,
           5,
           6,
           7,
           4,
           5,
           6,
           7,
           4,
           5,
           6,
           7,
           8,
           9,
           10,
           11,
           8,
           9,
           10,
           11,
           8,
           10,
           8,
           9,
           10,
           11
          ],
          "value": [
           1,
           14,
           2,
           4,
           1,
           5,
           2,
           3,
           1,
           15,
           4,
           4,
           2,
           25,
           3,
           4,
           3,
           7,
           13,
           2,
           15,
           5,
           41,
           13,
           1,
           4,
           3,
           2,
           8,
           10
          ]
         },
         "node": {
          "color": [
           "#1f77b4",
           "#ff7f0e",
           "#2ca02c",
           "#d62728",
           "#1f77b4",
           "#ff7f0e",
           "#2ca02c",
           "#d62728",
           "#1f77b4",
           "#ff7f0e",
           "#2ca02c",
           "#d62728"
          ],
          "customdata": [
           "21 students are in Profile 1",
           "11 students are in Profile 2",
           "24 students are in Profile 3",
           "34 students are in Profile 4",
           "30 students are in Profile 1",
           "133 students are in Profile 2",
           "16 students are in Profile 3",
           "38 students are in Profile 4",
           "22 students are in Profile 1",
           "14 students are in Profile 2",
           "66 students are in Profile 3",
           "25 students are in Profile 4"
          ],
          "hovertemplate": "%{customdata}<extra></extra>",
          "label": [
           "Profile 1",
           "Profile 2",
           "Profile 3",
           "Profile 4",
           "Profile 1",
           "Profile 2",
           "Profile 3",
           "Profile 4",
           "Profile 1",
           "Profile 2",
           "Profile 3",
           "Profile 4"
          ],
          "line": {
           "color": "rgba(0,0,0,0)",
           "width": 0.5
          },
          "pad": 15,
          "thickness": 20
         },
         "type": "sankey"
        }
       ],
       "layout": {
        "font": {
         "size": 12
        },
        "margin": {
         "b": 40,
         "l": 40,
         "r": 40,
         "t": 70
        },
        "template": {
         "data": {
          "bar": [
           {
            "error_x": {
             "color": "#2a3f5f"
            },
            "error_y": {
             "color": "#2a3f5f"
            },
            "marker": {
             "line": {
              "color": "#E5ECF6",
              "width": 0.5
             },
             "pattern": {
              "fillmode": "overlay",
              "size": 10,
              "solidity": 0.2
             }
            },
            "type": "bar"
           }
          ],
          "barpolar": [
           {
            "marker": {
             "line": {
              "color": "#E5ECF6",
              "width": 0.5
             },
             "pattern": {
              "fillmode": "overlay",
              "size": 10,
              "solidity": 0.2
             }
            },
            "type": "barpolar"
           }
          ],
          "carpet": [
           {
            "aaxis": {
             "endlinecolor": "#2a3f5f",
             "gridcolor": "white",
             "linecolor": "white",
             "minorgridcolor": "white",
             "startlinecolor": "#2a3f5f"
            },
            "baxis": {
             "endlinecolor": "#2a3f5f",
             "gridcolor": "white",
             "linecolor": "white",
             "minorgridcolor": "white",
             "startlinecolor": "#2a3f5f"
            },
            "type": "carpet"
           }
          ],
          "choropleth": [
           {
            "colorbar": {
             "outlinewidth": 0,
             "ticks": ""
            },
            "type": "choropleth"
           }
          ],
          "contour": [
           {
            "colorbar": {
             "outlinewidth": 0,
             "ticks": ""
            },
            "colorscale": [
             [
              0,
              "#0d0887"
             ],
             [
              0.1111111111111111,
              "#46039f"
             ],
             [
              0.2222222222222222,
              "#7201a8"
             ],
             [
              0.3333333333333333,
              "#9c179e"
             ],
             [
              0.4444444444444444,
              "#bd3786"
             ],
             [
              0.5555555555555556,
              "#d8576b"
             ],
             [
              0.6666666666666666,
              "#ed7953"
             ],
             [
              0.7777777777777778,
              "#fb9f3a"
             ],
             [
              0.8888888888888888,
              "#fdca26"
             ],
             [
              1,
              "#f0f921"
             ]
            ],
            "type": "contour"
           }
          ],
          "contourcarpet": [
           {
            "colorbar": {
             "outlinewidth": 0,
             "ticks": ""
            },
            "type": "contourcarpet"
           }
          ],
          "heatmap": [
           {
            "colorbar": {
             "outlinewidth": 0,
             "ticks": ""
            },
            "colorscale": [
             [
              0,
              "#0d0887"
             ],
             [
              0.1111111111111111,
              "#46039f"
             ],
             [
              0.2222222222222222,
              "#7201a8"
             ],
             [
              0.3333333333333333,
              "#9c179e"
             ],
             [
              0.4444444444444444,
              "#bd3786"
             ],
             [
              0.5555555555555556,
              "#d8576b"
             ],
             [
              0.6666666666666666,
              "#ed7953"
             ],
             [
              0.7777777777777778,
              "#fb9f3a"
             ],
             [
              0.8888888888888888,
              "#fdca26"
             ],
             [
              1,
              "#f0f921"
             ]
            ],
            "type": "heatmap"
           }
          ],
          "histogram": [
           {
            "marker": {
             "pattern": {
              "fillmode": "overlay",
              "size": 10,
              "solidity": 0.2
             }
            },
            "type": "histogram"
           }
          ],
          "histogram2d": [
           {
            "colorbar": {
             "outlinewidth": 0,
             "ticks": ""
            },
            "colorscale": [
             [
              0,
              "#0d0887"
             ],
             [
              0.1111111111111111,
              "#46039f"
             ],
             [
              0.2222222222222222,
              "#7201a8"
             ],
             [
              0.3333333333333333,
              "#9c179e"
             ],
             [
              0.4444444444444444,
              "#bd3786"
             ],
             [
              0.5555555555555556,
              "#d8576b"
             ],
             [
              0.6666666666666666,
              "#ed7953"
             ],
             [
              0.7777777777777778,
              "#fb9f3a"
             ],
             [
              0.8888888888888888,
              "#fdca26"
             ],
             [
              1,
              "#f0f921"
             ]
            ],
            "type": "histogram2d"
           }
          ],
          "histogram2dcontour": [
           {
            "colorbar": {
             "outlinewidth": 0,
             "ticks": ""
            },
            "colorscale": [
             [
              0,
              "#0d0887"
             ],
             [
              0.1111111111111111,
              "#46039f"
             ],
             [
              0.2222222222222222,
              "#7201a8"
             ],
             [
              0.3333333333333333,
              "#9c179e"
             ],
             [
              0.4444444444444444,
              "#bd3786"
             ],
             [
              0.5555555555555556,
              "#d8576b"
             ],
             [
              0.6666666666666666,
              "#ed7953"
             ],
             [
              0.7777777777777778,
              "#fb9f3a"
             ],
             [
              0.8888888888888888,
              "#fdca26"
             ],
             [
              1,
              "#f0f921"
             ]
            ],
            "type": "histogram2dcontour"
           }
          ],
          "mesh3d": [
           {
            "colorbar": {
             "outlinewidth": 0,
             "ticks": ""
            },
            "type": "mesh3d"
           }
          ],
          "parcoords": [
           {
            "line": {
             "colorbar": {
              "outlinewidth": 0,
              "ticks": ""
             }
            },
            "type": "parcoords"
           }
          ],
          "pie": [
           {
            "automargin": true,
            "type": "pie"
           }
          ],
          "scatter": [
           {
            "fillpattern": {
             "fillmode": "overlay",
             "size": 10,
             "solidity": 0.2
            },
            "type": "scatter"
           }
          ],
          "scatter3d": [
           {
            "line": {
             "colorbar": {
              "outlinewidth": 0,
              "ticks": ""
             }
            },
            "marker": {
             "colorbar": {
              "outlinewidth": 0,
              "ticks": ""
             }
            },
            "type": "scatter3d"
           }
          ],
          "scattercarpet": [
           {
            "marker": {
             "colorbar": {
              "outlinewidth": 0,
              "ticks": ""
             }
            },
            "type": "scattercarpet"
           }
          ],
          "scattergeo": [
           {
            "marker": {
             "colorbar": {
              "outlinewidth": 0,
              "ticks": ""
             }
            },
            "type": "scattergeo"
           }
          ],
          "scattergl": [
           {
            "marker": {
             "colorbar": {
              "outlinewidth": 0,
              "ticks": ""
             }
            },
            "type": "scattergl"
           }
          ],
          "scattermap": [
           {
            "marker": {
             "colorbar": {
              "outlinewidth": 0,
              "ticks": ""
             }
            },
            "type": "scattermap"
           }
          ],
          "scattermapbox": [
           {
            "marker": {
             "colorbar": {
              "outlinewidth": 0,
              "ticks": ""
             }
            },
            "type": "scattermapbox"
           }
          ],
          "scatterpolar": [
           {
            "marker": {
             "colorbar": {
              "outlinewidth": 0,
              "ticks": ""
             }
            },
            "type": "scatterpolar"
           }
          ],
          "scatterpolargl": [
           {
            "marker": {
             "colorbar": {
              "outlinewidth": 0,
              "ticks": ""
             }
            },
            "type": "scatterpolargl"
           }
          ],
          "scatterternary": [
           {
            "marker": {
             "colorbar": {
              "outlinewidth": 0,
              "ticks": ""
             }
            },
            "type": "scatterternary"
           }
          ],
          "surface": [
           {
            "colorbar": {
             "outlinewidth": 0,
             "ticks": ""
            },
            "colorscale": [
             [
              0,
              "#0d0887"
             ],
             [
              0.1111111111111111,
              "#46039f"
             ],
             [
              0.2222222222222222,
              "#7201a8"
             ],
             [
              0.3333333333333333,
              "#9c179e"
             ],
             [
              0.4444444444444444,
              "#bd3786"
             ],
             [
              0.5555555555555556,
              "#d8576b"
             ],
             [
              0.6666666666666666,
              "#ed7953"
             ],
             [
              0.7777777777777778,
              "#fb9f3a"
             ],
             [
              0.8888888888888888,
              "#fdca26"
             ],
             [
              1,
              "#f0f921"
             ]
            ],
            "type": "surface"
           }
          ],
          "table": [
           {
            "cells": {
             "fill": {
              "color": "#EBF0F8"
             },
             "line": {
              "color": "white"
             }
            },
            "header": {
             "fill": {
              "color": "#C8D4E3"
             },
             "line": {
              "color": "white"
             }
            },
            "type": "table"
           }
          ]
         },
         "layout": {
          "annotationdefaults": {
           "arrowcolor": "#2a3f5f",
           "arrowhead": 0,
           "arrowwidth": 1
          },
          "autotypenumbers": "strict",
          "coloraxis": {
           "colorbar": {
            "outlinewidth": 0,
            "ticks": ""
           }
          },
          "colorscale": {
           "diverging": [
            [
             0,
             "#8e0152"
            ],
            [
             0.1,
             "#c51b7d"
            ],
            [
             0.2,
             "#de77ae"
            ],
            [
             0.3,
             "#f1b6da"
            ],
            [
             0.4,
             "#fde0ef"
            ],
            [
             0.5,
             "#f7f7f7"
            ],
            [
             0.6,
             "#e6f5d0"
            ],
            [
             0.7,
             "#b8e186"
            ],
            [
             0.8,
             "#7fbc41"
            ],
            [
             0.9,
             "#4d9221"
            ],
            [
             1,
             "#276419"
            ]
           ],
           "sequential": [
            [
             0,
             "#0d0887"
            ],
            [
             0.1111111111111111,
             "#46039f"
            ],
            [
             0.2222222222222222,
             "#7201a8"
            ],
            [
             0.3333333333333333,
             "#9c179e"
            ],
            [
             0.4444444444444444,
             "#bd3786"
            ],
            [
             0.5555555555555556,
             "#d8576b"
            ],
            [
             0.6666666666666666,
             "#ed7953"
            ],
            [
             0.7777777777777778,
             "#fb9f3a"
            ],
            [
             0.8888888888888888,
             "#fdca26"
            ],
            [
             1,
             "#f0f921"
            ]
           ],
           "sequentialminus": [
            [
             0,
             "#0d0887"
            ],
            [
             0.1111111111111111,
             "#46039f"
            ],
            [
             0.2222222222222222,
             "#7201a8"
            ],
            [
             0.3333333333333333,
             "#9c179e"
            ],
            [
             0.4444444444444444,
             "#bd3786"
            ],
            [
             0.5555555555555556,
             "#d8576b"
            ],
            [
             0.6666666666666666,
             "#ed7953"
            ],
            [
             0.7777777777777778,
             "#fb9f3a"
            ],
            [
             0.8888888888888888,
             "#fdca26"
            ],
            [
             1,
             "#f0f921"
            ]
           ]
          },
          "colorway": [
           "#636efa",
           "#EF553B",
           "#00cc96",
           "#ab63fa",
           "#FFA15A",
           "#19d3f3",
           "#FF6692",
           "#B6E880",
           "#FF97FF",
           "#FECB52"
          ],
          "font": {
           "color": "#2a3f5f"
          },
          "geo": {
           "bgcolor": "white",
           "lakecolor": "white",
           "landcolor": "#E5ECF6",
           "showlakes": true,
           "showland": true,
           "subunitcolor": "white"
          },
          "hoverlabel": {
           "align": "left"
          },
          "hovermode": "closest",
          "mapbox": {
           "style": "light"
          },
          "paper_bgcolor": "white",
          "plot_bgcolor": "#E5ECF6",
          "polar": {
           "angularaxis": {
            "gridcolor": "white",
            "linecolor": "white",
            "ticks": ""
           },
           "bgcolor": "#E5ECF6",
           "radialaxis": {
            "gridcolor": "white",
            "linecolor": "white",
            "ticks": ""
           }
          },
          "scene": {
           "xaxis": {
            "backgroundcolor": "#E5ECF6",
            "gridcolor": "white",
            "gridwidth": 2,
            "linecolor": "white",
            "showbackground": true,
            "ticks": "",
            "zerolinecolor": "white"
           },
           "yaxis": {
            "backgroundcolor": "#E5ECF6",
            "gridcolor": "white",
            "gridwidth": 2,
            "linecolor": "white",
            "showbackground": true,
            "ticks": "",
            "zerolinecolor": "white"
           },
           "zaxis": {
            "backgroundcolor": "#E5ECF6",
            "gridcolor": "white",
            "gridwidth": 2,
            "linecolor": "white",
            "showbackground": true,
            "ticks": "",
            "zerolinecolor": "white"
           }
          },
          "shapedefaults": {
           "line": {
            "color": "#2a3f5f"
           }
          },
          "ternary": {
           "aaxis": {
            "gridcolor": "white",
            "linecolor": "white",
            "ticks": ""
           },
           "baxis": {
            "gridcolor": "white",
            "linecolor": "white",
            "ticks": ""
           },
           "bgcolor": "#E5ECF6",
           "caxis": {
            "gridcolor": "white",
            "linecolor": "white",
            "ticks": ""
           }
          },
          "title": {
           "x": 0.05
          },
          "xaxis": {
           "automargin": true,
           "gridcolor": "white",
           "linecolor": "white",
           "ticks": "",
           "title": {
            "standoff": 15
           },
           "zerolinecolor": "white",
           "zerolinewidth": 2
          },
          "yaxis": {
           "automargin": true,
           "gridcolor": "white",
           "linecolor": "white",
           "ticks": "",
           "title": {
            "standoff": 15
           },
           "zerolinecolor": "white",
           "zerolinewidth": 2
          }
         }
        },
        "title": {
         "text": "Student Profile Transitions Across Time",
         "x": 0.5
        }
       }
      }
     },
     "metadata": {},
     "output_type": "display_data"
    }
   ],
   "source": [
    "import plotly.graph_objects as go\n",
    "import pandas as pd\n",
    "import matplotlib.colors as mcolors\n",
    "\n",
    "def plot_cluster_transition_sankey(clustered_students_by_period):\n",
    "    sorted_periods = sorted(clustered_students_by_period.keys())\n",
    "    \n",
    "    # Step 1: Build long-format data (user_id, period, cluster)\n",
    "    records = []\n",
    "    for period in sorted_periods:\n",
    "        df = clustered_students_by_period[period]\n",
    "        for _, row in df[['user_id', 'cluster']].dropna().iterrows():\n",
    "            records.append((row['user_id'], period, int(row['cluster'])))\n",
    "    \n",
    "    transition_df = pd.DataFrame(records, columns=['user_id', 'period', 'cluster'])\n",
    "    pivot = transition_df.pivot(index='user_id', columns='period', values='cluster')\n",
    "\n",
    "    # Step 2: Collect all (period, cluster) node labels, and assign label_index\n",
    "    label_index = {}\n",
    "    label_list = []\n",
    "    node_colors = []\n",
    "    color_palette = list(mcolors.TABLEAU_COLORS.values())  # Max 10; use other palettes if needed\n",
    "\n",
    "    period_cluster_nodes = []\n",
    "    all_cj_values = set()\n",
    "\n",
    "    # Collect nodes grouped by period and sorted by cluster\n",
    "    for period in sorted_periods:\n",
    "        clusters = sorted(transition_df[transition_df['period'] == period]['cluster'].dropna().unique())\n",
    "        for cluster in clusters:\n",
    "            node_id = f\"{period}_C{cluster}\"\n",
    "            label_index[node_id] = len(label_list)\n",
    "            label_list.append(f\"Profile {cluster + 1}\")\n",
    "            period_cluster_nodes.append((period, cluster))\n",
    "            all_cj_values.add(cluster)\n",
    "\n",
    "    # Assign consistent color per cluster number\n",
    "    cj_sorted = sorted(all_cj_values)\n",
    "    cj_to_color = {cj: color_palette[i % len(color_palette)] for i, cj in enumerate(cj_sorted)}\n",
    "    node_colors = [cj_to_color[cluster] for _, cluster in period_cluster_nodes]\n",
    "\n",
    "    # Step 3: Build source–target–value lists\n",
    "    source = []\n",
    "    target = []\n",
    "    value = []\n",
    "\n",
    "    for i in range(len(sorted_periods) - 1):\n",
    "        p1, p2 = sorted_periods[i], sorted_periods[i + 1]\n",
    "        transitions = pivot[[p1, p2]].dropna().astype(int)\n",
    "\n",
    "        for (c1, c2), count in transitions.groupby([p1, p2]).size().items():\n",
    "            label1 = f\"{p1}_C{c1}\"\n",
    "            label2 = f\"{p2}_C{c2}\"\n",
    "            source.append(label_index[label1])\n",
    "            target.append(label_index[label2])\n",
    "            value.append(count)\n",
    "\n",
    "        # Step 4: Prepare hover text for links and nodes\n",
    "        link_labels = []\n",
    "        for i in range(len(source)):\n",
    "            src_label = label_list[source[i]]\n",
    "            tgt_label = label_list[target[i]]\n",
    "            cnt = value[i]\n",
    "            link_labels.append(f\"{cnt} students went from {src_label} to {tgt_label}\")\n",
    "\n",
    "        # Count total per node for node hover text\n",
    "        node_counts = [0] * len(label_list)\n",
    "        for i in range(len(source)):\n",
    "            node_counts[source[i]] += value[i]\n",
    "            node_counts[target[i]] += value[i]\n",
    "\n",
    "        node_hover = [f\"{count} students are in {label}\" for count, label in zip(node_counts, label_list)]\n",
    "\n",
    "        # Step 5: Plot Sankey with custom hover texts\n",
    "        fig = go.Figure(data=[go.Sankey(\n",
    "            node=dict(\n",
    "                pad=15,\n",
    "                thickness=20,\n",
    "                line=dict(color=\"rgba(0,0,0,0)\", width=0.0),\n",
    "                label=label_list,\n",
    "                color=node_colors,\n",
    "                hovertemplate='%{customdata}<extra></extra>',\n",
    "                customdata=node_hover\n",
    "            ),\n",
    "            link=dict(\n",
    "                source=source,\n",
    "                target=target,\n",
    "                value=value,\n",
    "                hovertemplate='%{customdata}<extra></extra>',\n",
    "                customdata=link_labels\n",
    "            )\n",
    "        )])\n",
    "\n",
    "\n",
    "    fig.update_layout(title_text=\"Student Profile Transitions Over Time\", font_size=10)\n",
    "    fig.update_layout(title_x=0.5)\n",
    "    fig.update_layout(margin=dict(l=40, r=40, t=70, b=40))\n",
    "    fig.show()\n",
    "\n",
    "\n",
    "plot_cluster_transition_sankey(clustered_students_by_period)"
   ]
  },
  {
   "cell_type": "markdown",
   "id": "d27b54dc",
   "metadata": {},
   "source": [
    "Metrics"
   ]
  },
  {
   "cell_type": "code",
   "execution_count": 11,
   "id": "179fcefe",
   "metadata": {},
   "outputs": [
    {
     "name": "stdout",
     "output_type": "stream",
     "text": [
      "\n",
      "Fluctuation metrics:\n"
     ]
    },
    {
     "data": {
      "application/vnd.microsoft.datawrangler.viewer.v0+json": {
       "columns": [
        {
         "name": "index",
         "rawType": "int64",
         "type": "integer"
        },
        {
         "name": "from",
         "rawType": "object",
         "type": "string"
        },
        {
         "name": "to",
         "rawType": "object",
         "type": "string"
        },
        {
         "name": "n_users",
         "rawType": "int64",
         "type": "integer"
        },
        {
         "name": "positive_gain_users",
         "rawType": "int64",
         "type": "integer"
        },
        {
         "name": "positive_gain_total",
         "rawType": "int64",
         "type": "integer"
        },
        {
         "name": "negative_drop_users",
         "rawType": "int64",
         "type": "integer"
        },
        {
         "name": "negative_drop_total",
         "rawType": "int64",
         "type": "integer"
        },
        {
         "name": "total_fluctuation",
         "rawType": "int64",
         "type": "integer"
        },
        {
         "name": "signed_avg_movement",
         "rawType": "float64",
         "type": "float"
        },
        {
         "name": "avg_total_movement",
         "rawType": "float64",
         "type": "float"
        },
        {
         "name": "std_positive_gain",
         "rawType": "float64",
         "type": "float"
        },
        {
         "name": "std_negative_drop",
         "rawType": "float64",
         "type": "float"
        }
       ],
       "conversionMethod": "pd.DataFrame",
       "ref": "dca5af8c-ed3e-4473-9a15-569f7d26fcb1",
       "rows": [
        [
         "0",
         "Period 1",
         "Period 2",
         "90",
         "47",
         "77",
         "29",
         "42",
         "119",
         "0.3888888888888889",
         "1.3222222222222222",
         "0.5681982169023647",
         "0.736119501971158"
        ],
        [
         "1",
         "Period 2",
         "Period 3",
         "127",
         "29",
         "38",
         "76",
         "106",
         "144",
         "-0.5354330708661418",
         "1.1338582677165354",
         "0.6602731185903337",
         "0.5435426353941591"
        ]
       ],
       "shape": {
        "columns": 12,
        "rows": 2
       }
      },
      "text/html": [
       "<div>\n",
       "<style scoped>\n",
       "    .dataframe tbody tr th:only-of-type {\n",
       "        vertical-align: middle;\n",
       "    }\n",
       "\n",
       "    .dataframe tbody tr th {\n",
       "        vertical-align: top;\n",
       "    }\n",
       "\n",
       "    .dataframe thead th {\n",
       "        text-align: right;\n",
       "    }\n",
       "</style>\n",
       "<table border=\"1\" class=\"dataframe\">\n",
       "  <thead>\n",
       "    <tr style=\"text-align: right;\">\n",
       "      <th></th>\n",
       "      <th>from</th>\n",
       "      <th>to</th>\n",
       "      <th>n_users</th>\n",
       "      <th>positive_gain_users</th>\n",
       "      <th>positive_gain_total</th>\n",
       "      <th>negative_drop_users</th>\n",
       "      <th>negative_drop_total</th>\n",
       "      <th>total_fluctuation</th>\n",
       "      <th>signed_avg_movement</th>\n",
       "      <th>avg_total_movement</th>\n",
       "      <th>std_positive_gain</th>\n",
       "      <th>std_negative_drop</th>\n",
       "    </tr>\n",
       "  </thead>\n",
       "  <tbody>\n",
       "    <tr>\n",
       "      <th>0</th>\n",
       "      <td>Period 1</td>\n",
       "      <td>Period 2</td>\n",
       "      <td>90</td>\n",
       "      <td>47</td>\n",
       "      <td>77</td>\n",
       "      <td>29</td>\n",
       "      <td>42</td>\n",
       "      <td>119</td>\n",
       "      <td>0.388889</td>\n",
       "      <td>1.322222</td>\n",
       "      <td>0.568198</td>\n",
       "      <td>0.736120</td>\n",
       "    </tr>\n",
       "    <tr>\n",
       "      <th>1</th>\n",
       "      <td>Period 2</td>\n",
       "      <td>Period 3</td>\n",
       "      <td>127</td>\n",
       "      <td>29</td>\n",
       "      <td>38</td>\n",
       "      <td>76</td>\n",
       "      <td>106</td>\n",
       "      <td>144</td>\n",
       "      <td>-0.535433</td>\n",
       "      <td>1.133858</td>\n",
       "      <td>0.660273</td>\n",
       "      <td>0.543543</td>\n",
       "    </tr>\n",
       "  </tbody>\n",
       "</table>\n",
       "</div>"
      ],
      "text/plain": [
       "       from        to  n_users  positive_gain_users  positive_gain_total  \\\n",
       "0  Period 1  Period 2       90                   47                   77   \n",
       "1  Period 2  Period 3      127                   29                   38   \n",
       "\n",
       "   negative_drop_users  negative_drop_total  total_fluctuation  \\\n",
       "0                   29                   42                119   \n",
       "1                   76                  106                144   \n",
       "\n",
       "   signed_avg_movement  avg_total_movement  std_positive_gain  \\\n",
       "0             0.388889            1.322222           0.568198   \n",
       "1            -0.535433            1.133858           0.660273   \n",
       "\n",
       "   std_negative_drop  \n",
       "0           0.736120  \n",
       "1           0.543543  "
      ]
     },
     "metadata": {},
     "output_type": "display_data"
    }
   ],
   "source": [
    "def compute_combined_fluctuation_metrics(clustered_students_by_period):\n",
    "    \"\"\"\n",
    "    Computes both raw and normalized (signed) cluster fluctuation metrics across periods.\n",
    "\n",
    "    Returns:\n",
    "        pd.DataFrame combining all metrics.\n",
    "    \"\"\"\n",
    "    sorted_periods = sorted(clustered_students_by_period.keys())\n",
    "    raw_metrics = []\n",
    "    signed_metrics = []\n",
    "\n",
    "    # Build wide format: one row per user with cluster per period\n",
    "    records = []\n",
    "    for period in sorted_periods:\n",
    "        df = clustered_students_by_period[period]\n",
    "        if df is not None:\n",
    "            records.append(df[['user_id', 'cluster']].rename(columns={'cluster': period}))\n",
    "    merged = records[0]\n",
    "    for df in records[1:]:\n",
    "        merged = pd.merge(merged, df, on='user_id', how='outer')\n",
    "\n",
    "    # Compute metrics for each adjacent period pair\n",
    "    for i in range(len(sorted_periods) - 1):\n",
    "        p1, p2 = sorted_periods[i], sorted_periods[i + 1]\n",
    "        sub = merged[[p1, p2]].dropna().astype(int)\n",
    "        if sub.empty:\n",
    "            continue\n",
    "\n",
    "        diffs = sub[p2] - sub[p1]\n",
    "        N = len(diffs)\n",
    "\n",
    "        # Raw metrics\n",
    "        positive_movement = (diffs < 0).sum()\n",
    "        negative_movement = (diffs > 0).sum()\n",
    "        positive_gain = (-diffs[diffs < 0]).sum()\n",
    "        negative_drop = diffs[diffs > 0].sum()\n",
    "        total_movement = abs(diffs).sum()\n",
    "\n",
    "        raw_metrics.append({\n",
    "            'from': p1,\n",
    "            'to': p2,\n",
    "            'n_users': N,\n",
    "            'positive_gain_users': positive_movement,\n",
    "            'positive_gain_total': positive_gain,\n",
    "            'negative_drop_users': negative_movement,\n",
    "            'negative_drop_total': negative_drop,\n",
    "            'total_fluctuation': total_movement\n",
    "        })\n",
    "\n",
    "        # Signed + normalized metrics\n",
    "        signed_movement = (-diffs).mean()\n",
    "        avg_total_movement = abs(diffs).mean()\n",
    "\n",
    "        pos_gains = -diffs[diffs < 0]\n",
    "        neg_drops = diffs[diffs > 0]\n",
    "        std_positive = pos_gains.std() if not pos_gains.empty else 0.0\n",
    "        std_negative = neg_drops.std() if not neg_drops.empty else 0.0\n",
    "\n",
    "        signed_metrics.append({\n",
    "            'from': p1,\n",
    "            'to': p2,\n",
    "            'signed_avg_movement': signed_movement,\n",
    "            'avg_total_movement': avg_total_movement,\n",
    "            'std_positive_gain': std_positive,\n",
    "            'std_negative_drop': std_negative\n",
    "        })\n",
    "\n",
    "    # Merge both metric sets\n",
    "    df_raw = pd.DataFrame(raw_metrics)\n",
    "    df_signed = pd.DataFrame(signed_metrics)\n",
    "    combined_df = pd.merge(df_raw, df_signed, on=['from', 'to'])\n",
    "\n",
    "    return combined_df\n",
    "\n",
    "fluctuation_metrics = compute_combined_fluctuation_metrics(clustered_students_by_period)\n",
    "print(\"\\nFluctuation metrics:\")\n",
    "display(fluctuation_metrics)"
   ]
  },
  {
   "cell_type": "code",
   "execution_count": null,
   "id": "686326b9",
   "metadata": {},
   "outputs": [],
   "source": []
  }
 ],
 "metadata": {
  "colab": {
   "collapsed_sections": [],
   "name": "m2-classtime-sciper.ipynb",
   "provenance": []
  },
  "kernelspec": {
   "display_name": "mlbehavior_env",
   "language": "python",
   "name": "python3"
  },
  "language_info": {
   "codemirror_mode": {
    "name": "ipython",
    "version": 3
   },
   "file_extension": ".py",
   "mimetype": "text/x-python",
   "name": "python",
   "nbconvert_exporter": "python",
   "pygments_lexer": "ipython3",
   "version": "3.9.21"
  }
 },
 "nbformat": 4,
 "nbformat_minor": 5
}
