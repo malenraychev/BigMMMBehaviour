{
 "cells": [
  {
   "attachments": {},
   "cell_type": "markdown",
   "id": "8af48ca1-b6d1-4092-b7b5-037d3c2d7aef",
   "metadata": {
    "id": "8af48ca1-b6d1-4092-b7b5-037d3c2d7aef"
   },
   "source": [
    "# M7 | Research Investigation Notebook\n",
    "\n",
    "In this notebook, you will do a research investigation of your chosen dataset in teams. You will begin by formally selecting your research question (task 0), then processing your data (task 1), creating a predictive model (task 2), evaluating your model's results (task 3), and describing the contributions of each team member (task 4).\n",
    "\n",
    "For grading, please make sure your notebook has all cells already run. You will also need to write a short, 2 page report about your design decisions as a team, to be uploaded to Moodle in the form of a PDF file next to this Jupyter notebook.\n",
    "\n",
    "You should provide arguments and justifications for all of your design decisions throughout this investigation. You can use your M3 responses as the basis for this discussion."
   ]
  },
  {
   "cell_type": "code",
   "execution_count": 33,
   "id": "82ea2d32-f0a9-4dc9-bb60-be43399f5b89",
   "metadata": {
    "id": "82ea2d32-f0a9-4dc9-bb60-be43399f5b89"
   },
   "outputs": [],
   "source": [
    "# Useful imports\n",
    "import numpy as np\n",
    "import pandas as pd\n",
    "import matplotlib.pyplot as plt\n",
    "import matplotlib.colors as mcolors\n",
    "import plotly.graph_objects as go\n",
    "import seaborn as sns\n",
    "from sklearn.cluster import KMeans\n",
    "from sklearn.preprocessing import StandardScaler\n",
    "from collections import defaultdict\n",
    "\n",
    "# Silent warnings\n",
    "import warnings\n",
    "warnings.filterwarnings('ignore')\n",
    "\n",
    "DATA_DIR = 'data'"
   ]
  },
  {
   "cell_type": "markdown",
   "id": "89137355",
   "metadata": {},
   "source": [
    "## Task 0: Research Question"
   ]
  },
  {
   "cell_type": "markdown",
   "id": "31dafc5b",
   "metadata": {},
   "source": [
    "**Research question:**\n",
    "*How do student profiles vary across different time periods in terms of performance?*"
   ]
  },
  {
   "cell_type": "markdown",
   "id": "a77f62b0-1945-48f1-8f22-5f6ebda1db8e",
   "metadata": {
    "id": "a77f62b0-1945-48f1-8f22-5f6ebda1db8e"
   },
   "source": [
    "## Task 1: Data Preprocessing\n",
    "\n",
    "In this section, you are asked to preprocess your data in a way that is relevant for the model. Please include 1-2 visualizations of features / data explorations that are related to your downstream prediction task."
   ]
  },
  {
   "cell_type": "markdown",
   "id": "43ff5fad",
   "metadata": {},
   "source": [
    "### A) Initial Preprocessing"
   ]
  },
  {
   "cell_type": "markdown",
   "id": "9ff73320",
   "metadata": {},
   "source": [
    "We will begin by applying the same preprocessing steps used in M4 for `activity.csv` and `all_scores.csv`. For conciseness, we will not revisit or plot preprocessing steps that were already discussed in M4. Readers already familiar with M4 may skip directly to [Task 1, B](#task-1-b), where we introduce the new preprocessing steps specific to our M7 objectives."
   ]
  },
  {
   "cell_type": "code",
   "execution_count": 3,
   "id": "abaee8ff",
   "metadata": {},
   "outputs": [
    {
     "data": {
      "application/vnd.microsoft.datawrangler.viewer.v0+json": {
       "columns": [
        {
         "name": "index",
         "rawType": "int64",
         "type": "integer"
        },
        {
         "name": "user_id",
         "rawType": "int64",
         "type": "integer"
        },
        {
         "name": "median_gap_days",
         "rawType": "float64",
         "type": "float"
        },
        {
         "name": "active_days_count",
         "rawType": "int64",
         "type": "integer"
        },
        {
         "name": "activities_count",
         "rawType": "int64",
         "type": "integer"
        },
        {
         "name": "activity_types_count",
         "rawType": "int64",
         "type": "integer"
        },
        {
         "name": "median_activity_duration_minutes",
         "rawType": "float64",
         "type": "float"
        }
       ],
       "conversionMethod": "pd.DataFrame",
       "ref": "93e18865-6cdc-44d8-a974-b7c5dceeef38",
       "rows": [
        [
         "0",
         "1",
         "4.0",
         "11",
         "19",
         "2",
         "4.716666666666667"
        ],
        [
         "1",
         "4",
         "7.5",
         "7",
         "31",
         "1",
         "2.2666666666666666"
        ],
        [
         "2",
         "6",
         "7.0",
         "9",
         "30",
         "2",
         "7.658333333333333"
        ],
        [
         "3",
         "7",
         "4.0",
         "16",
         "30",
         "2",
         "13.583333333333334"
        ],
        [
         "4",
         "9",
         "12.0",
         "8",
         "26",
         "2",
         "6.466666666666667"
        ]
       ],
       "shape": {
        "columns": 6,
        "rows": 5
       }
      },
      "text/html": [
       "<div>\n",
       "<style scoped>\n",
       "    .dataframe tbody tr th:only-of-type {\n",
       "        vertical-align: middle;\n",
       "    }\n",
       "\n",
       "    .dataframe tbody tr th {\n",
       "        vertical-align: top;\n",
       "    }\n",
       "\n",
       "    .dataframe thead th {\n",
       "        text-align: right;\n",
       "    }\n",
       "</style>\n",
       "<table border=\"1\" class=\"dataframe\">\n",
       "  <thead>\n",
       "    <tr style=\"text-align: right;\">\n",
       "      <th></th>\n",
       "      <th>user_id</th>\n",
       "      <th>median_gap_days</th>\n",
       "      <th>active_days_count</th>\n",
       "      <th>activities_count</th>\n",
       "      <th>activity_types_count</th>\n",
       "      <th>median_activity_duration_minutes</th>\n",
       "    </tr>\n",
       "  </thead>\n",
       "  <tbody>\n",
       "    <tr>\n",
       "      <th>0</th>\n",
       "      <td>1</td>\n",
       "      <td>4.0</td>\n",
       "      <td>11</td>\n",
       "      <td>19</td>\n",
       "      <td>2</td>\n",
       "      <td>4.716667</td>\n",
       "    </tr>\n",
       "    <tr>\n",
       "      <th>1</th>\n",
       "      <td>4</td>\n",
       "      <td>7.5</td>\n",
       "      <td>7</td>\n",
       "      <td>31</td>\n",
       "      <td>1</td>\n",
       "      <td>2.266667</td>\n",
       "    </tr>\n",
       "    <tr>\n",
       "      <th>2</th>\n",
       "      <td>6</td>\n",
       "      <td>7.0</td>\n",
       "      <td>9</td>\n",
       "      <td>30</td>\n",
       "      <td>2</td>\n",
       "      <td>7.658333</td>\n",
       "    </tr>\n",
       "    <tr>\n",
       "      <th>3</th>\n",
       "      <td>7</td>\n",
       "      <td>4.0</td>\n",
       "      <td>16</td>\n",
       "      <td>30</td>\n",
       "      <td>2</td>\n",
       "      <td>13.583333</td>\n",
       "    </tr>\n",
       "    <tr>\n",
       "      <th>4</th>\n",
       "      <td>9</td>\n",
       "      <td>12.0</td>\n",
       "      <td>8</td>\n",
       "      <td>26</td>\n",
       "      <td>2</td>\n",
       "      <td>6.466667</td>\n",
       "    </tr>\n",
       "  </tbody>\n",
       "</table>\n",
       "</div>"
      ],
      "text/plain": [
       "   user_id  median_gap_days  active_days_count  activities_count  \\\n",
       "0        1              4.0                 11                19   \n",
       "1        4              7.5                  7                31   \n",
       "2        6              7.0                  9                30   \n",
       "3        7              4.0                 16                30   \n",
       "4        9             12.0                  8                26   \n",
       "\n",
       "   activity_types_count  median_activity_duration_minutes  \n",
       "0                     2                          4.716667  \n",
       "1                     1                          2.266667  \n",
       "2                     2                          7.658333  \n",
       "3                     2                         13.583333  \n",
       "4                     2                          6.466667  "
      ]
     },
     "metadata": {},
     "output_type": "display_data"
    },
    {
     "name": "stdout",
     "output_type": "stream",
     "text": [
      "Lenght of user_activity:  843\n"
     ]
    }
   ],
   "source": [
    "def preprocess_user_activity():\n",
    "    \"\"\"\n",
    "    Load and preprocess activity data as in M4\n",
    "\n",
    "    Returns:\n",
    "    --------\n",
    "    user_activity : pd.DataFrame\n",
    "        DataFrame containing user activity statistics as in M4\n",
    "    \"\"\"\n",
    "    # Load the data\n",
    "    activity = pd.read_csv(f'{DATA_DIR}/activity.csv')\n",
    "\n",
    "    # Convert timestamps\n",
    "    activity['activity_started'] = pd.to_datetime(activity['activity_started'], unit='s')\n",
    "    activity['activity_completed'] = pd.to_datetime(activity['activity_completed'], unit='s')\n",
    "    activity['activity_updated'] = pd.to_datetime(activity['activity_updated'], unit='s')\n",
    "\n",
    "    # Remove logically inconsistent rows\n",
    "    activity = activity[activity['activity_completed'] > activity['activity_started']]\n",
    "\n",
    "    # Compute duration in minutes\n",
    "    activity['activity_duration'] = activity['activity_completed'] - activity['activity_started']\n",
    "    activity['activity_duration_minutes'] = activity['activity_duration'].dt.total_seconds() / 60\n",
    "\n",
    "    # Remove long-duration activities (>24 hours)\n",
    "    activity = activity[activity['activity_duration_minutes'] <= 24 * 60]\n",
    "\n",
    "    # IQR-based outlier filtering\n",
    "    Q1 = activity['activity_duration_minutes'].quantile(0.25)\n",
    "    Q3 = activity['activity_duration_minutes'].quantile(0.75)\n",
    "    IQR = Q3 - Q1\n",
    "    lower_bound = Q1 - 1.5 * IQR\n",
    "    upper_bound = Q3 + 1.5 * IQR\n",
    "    activity = activity[\n",
    "        (activity['activity_duration_minutes'] >= lower_bound) &\n",
    "        (activity['activity_duration_minutes'] <= upper_bound)\n",
    "    ]\n",
    "\n",
    "    # Daily activity extraction\n",
    "    user_daily_activity = activity.copy(deep=True)\n",
    "    user_daily_activity['active_day'] = pd.to_datetime(user_daily_activity['activity_started'].dt.date)\n",
    "    user_daily_activity.drop_duplicates(subset=['user_id', 'active_day'], inplace=True, keep='first')\n",
    "    user_daily_activity.sort_values(['user_id', 'active_day'], inplace=True)\n",
    "    user_daily_activity['previous_day'] = user_daily_activity.groupby('user_id')['active_day'].shift(1)\n",
    "    user_daily_activity['gap_days'] = (user_daily_activity['active_day'] - user_daily_activity['previous_day']).dt.days\n",
    "    user_daily_activity = user_daily_activity[['user_id', 'active_day', 'gap_days']]\n",
    "\n",
    "    # Aggregate user-level stats\n",
    "    user_activity = user_daily_activity.groupby('user_id')['gap_days'].median().reset_index()\n",
    "    user_activity.rename(columns={'gap_days': 'median_gap_days'}, inplace=True)\n",
    "    user_activity['active_days_count'] = user_daily_activity.groupby('user_id')['active_day'].count().values\n",
    "    user_activity['median_activity_duration'] = activity.groupby('user_id').apply(\n",
    "        lambda x: (x['activity_completed'] - x['activity_started']).median()\n",
    "    ).reset_index(drop=True)\n",
    "    user_activity['activities_count'] = activity.groupby('user_id')['activity_id'].count().values\n",
    "    user_activity['activity_types_count'] = activity.groupby('user_id')['activity_type'].nunique().values\n",
    "\n",
    "    # Convert median duration to minutes and drop the timedelta column\n",
    "    user_activity['median_activity_duration_minutes'] = user_activity['median_activity_duration'].dt.total_seconds() / 60\n",
    "    user_activity.drop(columns=['median_activity_duration'], inplace=True)\n",
    "\n",
    "    return activity, user_daily_activity, user_activity\n",
    "\n",
    "activity, user_daily_activity, user_activity = preprocess_user_activity()\n",
    "\n",
    "display(user_activity.head())\n",
    "print(\"Lenght of user_activity: \", len(user_activity))"
   ]
  },
  {
   "cell_type": "markdown",
   "id": "68c6634b",
   "metadata": {},
   "source": [
    "We now have the following preprocessed dataframes:\n",
    "\n",
    "* `activity`: The cleaned activity dataframe, where each row represents a single user activity (a user may have multiple entries per day).\n",
    "* `user_daily_activity`: The activity data aggregated by user and day.\n",
    "* `user_activity`: The daily data further aggregated by user.\n"
   ]
  },
  {
   "cell_type": "markdown",
   "id": "7731a890",
   "metadata": {},
   "source": [
    "<a id=\"task-1-b\"></a>\n",
    "### B) Determining Time Periods"
   ]
  },
  {
   "cell_type": "markdown",
   "id": "3cf48c1c",
   "metadata": {},
   "source": [
    "**Approach:**\n",
    "\n",
    "We now aim to analyze student activity over time and observe how their profiles evolve. To achieve this, we will divide the timeline into non-overlapping periods. These periods could be defined by years (e.g., 2023, 2024, 2025), semesters, seasons, months, etc.\n",
    "\n",
    "There are two key properties we want to maintain:\n",
    "\n",
    "- **Period Length**: All periods should have the same duration.\n",
    "- **Data Balance**: No period should contain significantly more or less students than the others.\n",
    "\n",
    "To guide our choice of periods, we begin by visualizing the distribution of activity per student over time.\n"
   ]
  },
  {
   "cell_type": "code",
   "execution_count": 4,
   "id": "dcfa8ca1",
   "metadata": {},
   "outputs": [
    {
     "data": {
      "image/png": "[encoded data removed]",
      "text/plain": [
       "<Figure size 1000x600 with 1 Axes>"
      ]
     },
     "metadata": {},
     "output_type": "display_data"
    },
    {
     "name": "stdout",
     "output_type": "stream",
     "text": [
      "Number of unique users in 2023: 14\n",
      "Number of unique users in 2024: 729\n",
      "Number of unique users in 2025: 414\n"
     ]
    }
   ],
   "source": [
    "# Plot a histogram of activity start dates\n",
    "plt.figure(figsize=(10, 6))\n",
    "sns.histplot(activity['activity_started'], \n",
    "             bins=100, \n",
    "             alpha=0.7, \n",
    "             kde=True)\n",
    "\n",
    "plt.title('Histogram of Student Activity Over Time')\n",
    "plt.xlabel('Date')\n",
    "plt.ylabel('Frequency')\n",
    "plt.xticks(rotation=45)\n",
    "plt.tight_layout()\n",
    "plt.show()\n",
    "\n",
    "# Print number of unique users per year\n",
    "min_year = activity['activity_started'].dt.year.min()\n",
    "max_year = activity['activity_started'].dt.year.max()\n",
    "for year in range(min_year, max_year + 1):\n",
    "    print(f\"Number of unique users in {year}:\", activity[activity['activity_started'].dt.year == year]['user_id'].nunique())\n"
   ]
  },
  {
   "cell_type": "markdown",
   "id": "fda50c23",
   "metadata": {},
   "source": [
    "**Observation:**\n",
    "\n",
    "We observe that there were only 14 unique students in early 2023, compared to 729 in 2024, and 414 in 2025. Additionally, a few outliers appear in early 2023 that should be excluded from the analysis.\n",
    "\n",
    "Interestingly, the right side of the distribution reveals a clear pattern with three noticeable peaks, indicating periods of significantly higher activity compared to the initial phase.\n",
    "\n",
    "After testing various time segmentations, we ultimately selected the periods shown in the following figure."
   ]
  },
  {
   "cell_type": "code",
   "execution_count": 5,
   "id": "e5b2c479",
   "metadata": {},
   "outputs": [
    {
     "data": {
      "image/png": "[encoded data removed]",
      "text/plain": [
       "<Figure size 1000x600 with 1 Axes>"
      ]
     },
     "metadata": {},
     "output_type": "display_data"
    },
    {
     "name": "stdout",
     "output_type": "stream",
     "text": [
      "Number of unique users in Period 1: 427\n",
      "Number of unique users in Period 2: 565\n",
      "Number of unique users in Period 3: 417\n"
     ]
    }
   ],
   "source": [
    "# Remove outliers in activity_started with IQR method only for visualization\n",
    "Q1 = activity['activity_started'].quantile(0.25)\n",
    "Q3 = activity['activity_started'].quantile(0.75)\n",
    "IQR = Q3 - Q1\n",
    "lower_bound = Q1 - 1.5 * IQR\n",
    "upper_bound = Q3 + 1.5 * IQR\n",
    "activity_viz = activity[\n",
    "    (activity['activity_started'] >= lower_bound) &\n",
    "    (activity['activity_started'] <= upper_bound)\n",
    "]\n",
    "\n",
    "# Define dynamic periods\n",
    "periods = [\n",
    "    ('2024-08-15', '2024-10-15', 'Period 1'),\n",
    "    ('2024-10-15', '2024-12-15', 'Period 2'),\n",
    "    ('2024-12-15', '2025-02-15', 'Period 3'),\n",
    "]\n",
    "\n",
    "# Prepare range\n",
    "min_date = activity_viz['activity_started'].min()\n",
    "max_date = activity_viz['activity_started'].max()\n",
    "\n",
    "# Plot histogram and KDE using seaborn\n",
    "plt.figure(figsize=(10, 6))\n",
    "sns.histplot(\n",
    "    activity_viz['activity_started'],\n",
    "    bins=50,\n",
    "    alpha=0.6,\n",
    ")\n",
    "\n",
    "# Convert period boundaries to timestamps\n",
    "period_bounds = [(pd.Timestamp(start), pd.Timestamp(end)) for start, end, _ in periods]\n",
    "first_start = period_bounds[0][0]\n",
    "last_end = period_bounds[-1][1]\n",
    "\n",
    "# Shade before first and after last period\n",
    "shade_color, shade_alpha = 'white', 0.75\n",
    "if min_date < first_start:\n",
    "    plt.axvspan(min_date, first_start, color=shade_color, alpha=shade_alpha)\n",
    "if max_date > last_end:\n",
    "    plt.axvspan(last_end, max_date, color=shade_color, alpha=shade_alpha)\n",
    "\n",
    "# Add vertical dashed lines and period labels\n",
    "period_color = 'red'\n",
    "ymax = plt.gca().get_ylim()[1]\n",
    "for (start_ts, end_ts), (_, _, period_name) in zip(period_bounds, periods):\n",
    "    midpoint = start_ts + (end_ts - start_ts) / 2\n",
    "    plt.axvline(start_ts, color=period_color, linestyle='--', linewidth=1)\n",
    "    plt.axvline(end_ts, color=period_color, linestyle='--', linewidth=1)\n",
    "    plt.text(midpoint, ymax, period_name,\n",
    "             ha='center', va='top', fontsize=9, color=period_color,\n",
    "             bbox=dict(facecolor='white', alpha=0.7, edgecolor='none'))\n",
    "\n",
    "# Final formatting\n",
    "plt.title('Histogram of Activity Started Dates with KDE')\n",
    "plt.xlabel('Date')\n",
    "plt.ylabel('Frequency')\n",
    "plt.xticks(rotation=45)\n",
    "plt.xlim(min_date, max_date)\n",
    "plt.ylim(0, ymax * 1.1)  # To give some space above the highest bar\n",
    "plt.grid(False)\n",
    "plt.tight_layout()\n",
    "plt.show()\n",
    "\n",
    "# Print the number of unique users in each period\n",
    "for start, end, period_name in periods:\n",
    "    start_date = pd.Timestamp(start)\n",
    "    end_date = pd.Timestamp(end)\n",
    "    unique_users = activity[\n",
    "        (activity['activity_started'] >= start_date) &\n",
    "        (activity['activity_started'] <= end_date)\n",
    "    ]['user_id'].nunique()\n",
    "    print(f\"Number of unique users in {period_name}:\", unique_users)"
   ]
  },
  {
   "cell_type": "markdown",
   "id": "d5f70a6f",
   "metadata": {},
   "source": [
    "**Approach:**\n",
    "\n",
    "We deliberately chose not to place the period boundaries exactly at the local minima between peaks in the activity distribution, in order to preserve consistent period lengths.\n",
    "\n",
    "The selected periods are as follows:\n",
    "\n",
    "* **Period 1**: August 15, 2024 – October 15, 2024 (427 unique students)\n",
    "* **Period 2**: October 15, 2024 – December 15, 2024 (565 unique students)\n",
    "* **Period 3**: December 15, 2024 – February 15, 2025 (417 unique students)\n",
    "\n",
    "While these periods do not align with conventional timeframes such as seasons or academic terms, they each span exactly two months and include a comparable number of unique students, allowing for meaningful analysis of changes over time.\n",
    "\n",
    "We believe that defining periods should be a data-driven process tailored to the specific characteristics of the dataset, rather than relying on fixed calendar windows that may not yield relevant insights.\n",
    "\n",
    "For conciseness, we will refer to these periods as *Period i* throughout the notebook, rather than repeatedly mentioning the corresponding dates."
   ]
  },
  {
   "cell_type": "markdown",
   "id": "6ef9e15b",
   "metadata": {},
   "source": [
    "### C) Student Activtiy by Time Period"
   ]
  },
  {
   "cell_type": "markdown",
   "id": "41cce9d7",
   "metadata": {},
   "source": [
    "We will now create the student dataframes for each time period. These will be similar to the one used in M4, but with the addition of a temporal dimension."
   ]
  },
  {
   "cell_type": "code",
   "execution_count": 27,
   "id": "34f77e7e",
   "metadata": {},
   "outputs": [],
   "source": [
    "def create_user_activity_by_period(activity_df, periods):\n",
    "    \"\"\"\n",
    "    Creates user activity dataframes separated by time periods.\n",
    "    \"\"\"\n",
    "    user_activity_periods = {}\n",
    "\n",
    "    for start_date, end_date, period_name in periods:\n",
    "        period_activity = activity_df[\n",
    "            (activity_df['activity_started'] >= pd.Timestamp(start_date)) &\n",
    "            (activity_df['activity_started'] < pd.Timestamp(end_date))\n",
    "        ].copy(deep=True)\n",
    "\n",
    "        if period_activity.empty:\n",
    "            continue\n",
    "\n",
    "        user_daily_activity = period_activity.copy()\n",
    "        user_daily_activity['active_day'] = pd.to_datetime(user_daily_activity['activity_started'].dt.date)\n",
    "        user_daily_activity.drop_duplicates(subset=['user_id', 'active_day'], inplace=True, keep='first')\n",
    "        user_daily_activity.sort_values(['user_id', 'active_day'], inplace=True)\n",
    "        user_daily_activity['previous_day'] = user_daily_activity.groupby('user_id')['active_day'].shift(1)\n",
    "        user_daily_activity['gap_days'] = (user_daily_activity['active_day'] - user_daily_activity['previous_day']).dt.days\n",
    "\n",
    "        user_daily_activity = user_daily_activity[['user_id', 'active_day', 'gap_days']]\n",
    "\n",
    "        user_activity = user_daily_activity.groupby('user_id')['gap_days'].median().reset_index()\n",
    "        user_activity.rename(columns={'gap_days': 'median_gap_days'}, inplace=True)\n",
    "        user_activity['active_days_count'] = user_daily_activity.groupby('user_id')['active_day'].count().values\n",
    "\n",
    "        duration_median = (period_activity['activity_completed'] - period_activity['activity_started']).groupby(period_activity['user_id']).median()\n",
    "\n",
    "        user_activity['median_activity_duration'] = duration_median.reset_index(drop=True)\n",
    "\n",
    "        user_activity['activities_count'] = period_activity.groupby('user_id')['activity_id'].count().values\n",
    "        user_activity['activity_types_count'] = period_activity.groupby('user_id')['activity_type'].nunique().values\n",
    "\n",
    "        user_activity['median_activity_duration_minutes'] = user_activity['median_activity_duration'].dt.total_seconds() / 60\n",
    "        user_activity.drop(columns=['median_activity_duration'], inplace=True)\n",
    "        user_activity['period'] = period_name\n",
    "\n",
    "        user_activity_periods[period_name] = user_activity\n",
    "\n",
    "    return user_activity_periods"
   ]
  },
  {
   "cell_type": "code",
   "execution_count": 28,
   "id": "ddfd3770",
   "metadata": {},
   "outputs": [
    {
     "name": "stdout",
     "output_type": "stream",
     "text": [
      "\n",
      "User activity across all periods:\n"
     ]
    },
    {
     "data": {
      "application/vnd.microsoft.datawrangler.viewer.v0+json": {
       "columns": [
        {
         "name": "index",
         "rawType": "int64",
         "type": "integer"
        },
        {
         "name": "user_id",
         "rawType": "int64",
         "type": "integer"
        },
        {
         "name": "median_gap_days",
         "rawType": "float64",
         "type": "float"
        },
        {
         "name": "active_days_count",
         "rawType": "int64",
         "type": "integer"
        },
        {
         "name": "activities_count",
         "rawType": "int64",
         "type": "integer"
        },
        {
         "name": "activity_types_count",
         "rawType": "int64",
         "type": "integer"
        },
        {
         "name": "median_activity_duration_minutes",
         "rawType": "float64",
         "type": "float"
        },
        {
         "name": "period",
         "rawType": "object",
         "type": "string"
        }
       ],
       "conversionMethod": "pd.DataFrame",
       "ref": "b4114767-2917-40c7-8f6b-85139bc1094b",
       "rows": [
        [
         "0",
         "128",
         null,
         "1",
         "6",
         "2",
         "1.525",
         "Period 1"
        ],
        [
         "1",
         "129",
         null,
         "1",
         "1",
         "1",
         "1.85",
         "Period 1"
        ],
        [
         "2",
         "130",
         null,
         "1",
         "66",
         "4",
         "0.375",
         "Period 1"
        ],
        [
         "3",
         "131",
         null,
         "1",
         "11",
         "2",
         "0.6",
         "Period 1"
        ],
        [
         "4",
         "142",
         null,
         "1",
         "9",
         "2",
         "6.483333333333333",
         "Period 1"
        ]
       ],
       "shape": {
        "columns": 7,
        "rows": 5
       }
      },
      "text/html": [
       "<div>\n",
       "<style scoped>\n",
       "    .dataframe tbody tr th:only-of-type {\n",
       "        vertical-align: middle;\n",
       "    }\n",
       "\n",
       "    .dataframe tbody tr th {\n",
       "        vertical-align: top;\n",
       "    }\n",
       "\n",
       "    .dataframe thead th {\n",
       "        text-align: right;\n",
       "    }\n",
       "</style>\n",
       "<table border=\"1\" class=\"dataframe\">\n",
       "  <thead>\n",
       "    <tr style=\"text-align: right;\">\n",
       "      <th></th>\n",
       "      <th>user_id</th>\n",
       "      <th>median_gap_days</th>\n",
       "      <th>active_days_count</th>\n",
       "      <th>activities_count</th>\n",
       "      <th>activity_types_count</th>\n",
       "      <th>median_activity_duration_minutes</th>\n",
       "      <th>period</th>\n",
       "    </tr>\n",
       "  </thead>\n",
       "  <tbody>\n",
       "    <tr>\n",
       "      <th>0</th>\n",
       "      <td>128</td>\n",
       "      <td>NaN</td>\n",
       "      <td>1</td>\n",
       "      <td>6</td>\n",
       "      <td>2</td>\n",
       "      <td>1.525000</td>\n",
       "      <td>Period 1</td>\n",
       "    </tr>\n",
       "    <tr>\n",
       "      <th>1</th>\n",
       "      <td>129</td>\n",
       "      <td>NaN</td>\n",
       "      <td>1</td>\n",
       "      <td>1</td>\n",
       "      <td>1</td>\n",
       "      <td>1.850000</td>\n",
       "      <td>Period 1</td>\n",
       "    </tr>\n",
       "    <tr>\n",
       "      <th>2</th>\n",
       "      <td>130</td>\n",
       "      <td>NaN</td>\n",
       "      <td>1</td>\n",
       "      <td>66</td>\n",
       "      <td>4</td>\n",
       "      <td>0.375000</td>\n",
       "      <td>Period 1</td>\n",
       "    </tr>\n",
       "    <tr>\n",
       "      <th>3</th>\n",
       "      <td>131</td>\n",
       "      <td>NaN</td>\n",
       "      <td>1</td>\n",
       "      <td>11</td>\n",
       "      <td>2</td>\n",
       "      <td>0.600000</td>\n",
       "      <td>Period 1</td>\n",
       "    </tr>\n",
       "    <tr>\n",
       "      <th>4</th>\n",
       "      <td>142</td>\n",
       "      <td>NaN</td>\n",
       "      <td>1</td>\n",
       "      <td>9</td>\n",
       "      <td>2</td>\n",
       "      <td>6.483333</td>\n",
       "      <td>Period 1</td>\n",
       "    </tr>\n",
       "  </tbody>\n",
       "</table>\n",
       "</div>"
      ],
      "text/plain": [
       "   user_id  median_gap_days  active_days_count  activities_count  \\\n",
       "0      128              NaN                  1                 6   \n",
       "1      129              NaN                  1                 1   \n",
       "2      130              NaN                  1                66   \n",
       "3      131              NaN                  1                11   \n",
       "4      142              NaN                  1                 9   \n",
       "\n",
       "   activity_types_count  median_activity_duration_minutes    period  \n",
       "0                     2                          1.525000  Period 1  \n",
       "1                     1                          1.850000  Period 1  \n",
       "2                     4                          0.375000  Period 1  \n",
       "3                     2                          0.600000  Period 1  \n",
       "4                     2                          6.483333  Period 1  "
      ]
     },
     "metadata": {},
     "output_type": "display_data"
    },
    {
     "name": "stdout",
     "output_type": "stream",
     "text": [
      "Shape: (1409, 7)\n"
     ]
    }
   ],
   "source": [
    "# Create the period user activity dict\n",
    "user_activity_periods = create_user_activity_by_period(activity, periods)\n",
    "\n",
    "# Concatenate all into one dataframe\n",
    "all_periods_user_activity = pd.concat(user_activity_periods.values(), ignore_index=True)\n",
    "print(\"\\nUser activity across all periods:\")\n",
    "display(all_periods_user_activity.head())\n",
    "print(f\"Shape: {all_periods_user_activity.shape}\")"
   ]
  },
  {
   "cell_type": "markdown",
   "id": "07794382",
   "metadata": {},
   "source": [
    "Let’s now visualize the number of students in each period and how their retention evolves over time."
   ]
  },
  {
   "cell_type": "code",
   "execution_count": null,
   "id": "d9504b8c",
   "metadata": {},
   "outputs": [
    {
     "data": {
      "application/vnd.plotly.v1+json": {
       "config": {
        "plotlyServerURL": "https://plot.ly"
       },
       "data": [
        {
         "link": {
          "color": [
           "rgba(100,149,237,0.5)",
           "rgba(220,20,60,0.3)",
           "rgba(0,0,0,0)",
           "rgba(100,149,237,0.5)",
           "rgba(220,20,60,0.3)",
           "rgba(0,0,0,0)"
          ],
          "label": [
           "314 continuing",
           "113 dropped",
           "",
           "310 continuing",
           "255 dropped",
           ""
          ],
          "source": [
           0,
           0,
           5,
           1,
           1,
           6
          ],
          "target": [
           1,
           3,
           1,
           2,
           4,
           2
          ],
          "value": [
           314,
           113,
           251,
           310,
           255,
           107
          ]
         },
         "node": {
          "color": [
           "#4c72b0",
           "#4c72b0",
           "#4c72b0",
           "#d62728",
           "#d62728",
           "rgba(0,0,0,0)",
           "rgba(0,0,0,0)"
          ],
          "label": [
           "427 students",
           "565 students",
           "417 students",
           "113 dropped",
           "255 dropped",
           "",
           ""
          ],
          "line": {
           "color": "rgba(0,0,0,0)",
           "width": 0
          },
          "pad": 20,
          "thickness": 30,
          "x": [
           0,
           0.5,
           1,
           0.5,
           1,
           0.5,
           1
          ],
          "y": [
           0.1,
           0.1,
           0.1,
           0.7,
           0.7,
           1,
           1
          ]
         },
         "type": "sankey"
        }
       ],
       "layout": {
        "annotations": [
         {
          "font": {
           "size": 10
          },
          "showarrow": false,
          "text": "Period 1",
          "x": 0,
          "xanchor": "center",
          "y": 0,
          "yanchor": "top"
         },
         {
          "font": {
           "size": 10
          },
          "showarrow": false,
          "text": "Period 2",
          "x": 0.5,
          "xanchor": "center",
          "y": 0,
          "yanchor": "top"
         },
         {
          "font": {
           "size": 10
          },
          "showarrow": false,
          "text": "Period 3",
          "x": 1,
          "xanchor": "center",
          "y": 0,
          "yanchor": "top"
         }
        ],
        "font": {
         "size": 10
        },
        "margin": {
         "b": 40,
         "l": 40,
         "r": 40,
         "t": 130
        },
        "template": {
         "data": {
          "bar": [
           {
            "error_x": {
             "color": "#2a3f5f"
            },
            "error_y": {
             "color": "#2a3f5f"
            },
            "marker": {
             "line": {
              "color": "#E5ECF6",
              "width": 0.5
             },
             "pattern": {
              "fillmode": "overlay",
              "size": 10,
              "solidity": 0.2
             }
            },
            "type": "bar"
           }
          ],
          "barpolar": [
           {
            "marker": {
             "line": {
              "color": "#E5ECF6",
              "width": 0.5
             },
             "pattern": {
              "fillmode": "overlay",
              "size": 10,
              "solidity": 0.2
             }
            },
            "type": "barpolar"
           }
          ],
          "carpet": [
           {
            "aaxis": {
             "endlinecolor": "#2a3f5f",
             "gridcolor": "white",
             "linecolor": "white",
             "minorgridcolor": "white",
             "startlinecolor": "#2a3f5f"
            },
            "baxis": {
             "endlinecolor": "#2a3f5f",
             "gridcolor": "white",
             "linecolor": "white",
             "minorgridcolor": "white",
             "startlinecolor": "#2a3f5f"
            },
            "type": "carpet"
           }
          ],
          "choropleth": [
           {
            "colorbar": {
             "outlinewidth": 0,
             "ticks": ""
            },
            "type": "choropleth"
           }
          ],
          "contour": [
           {
            "colorbar": {
             "outlinewidth": 0,
             "ticks": ""
            },
            "colorscale": [
             [
              0,
              "#0d0887"
             ],
             [
              0.1111111111111111,
              "#46039f"
             ],
             [
              0.2222222222222222,
              "#7201a8"
             ],
             [
              0.3333333333333333,
              "#9c179e"
             ],
             [
              0.4444444444444444,
              "#bd3786"
             ],
             [
              0.5555555555555556,
              "#d8576b"
             ],
             [
              0.6666666666666666,
              "#ed7953"
             ],
             [
              0.7777777777777778,
              "#fb9f3a"
             ],
             [
              0.8888888888888888,
              "#fdca26"
             ],
             [
              1,
              "#f0f921"
             ]
            ],
            "type": "contour"
           }
          ],
          "contourcarpet": [
           {
            "colorbar": {
             "outlinewidth": 0,
             "ticks": ""
            },
            "type": "contourcarpet"
           }
          ],
          "heatmap": [
           {
            "colorbar": {
             "outlinewidth": 0,
             "ticks": ""
            },
            "colorscale": [
             [
              0,
              "#0d0887"
             ],
             [
              0.1111111111111111,
              "#46039f"
             ],
             [
              0.2222222222222222,
              "#7201a8"
             ],
             [
              0.3333333333333333,
              "#9c179e"
             ],
             [
              0.4444444444444444,
              "#bd3786"
             ],
             [
              0.5555555555555556,
              "#d8576b"
             ],
             [
              0.6666666666666666,
              "#ed7953"
             ],
             [
              0.7777777777777778,
              "#fb9f3a"
             ],
             [
              0.8888888888888888,
              "#fdca26"
             ],
             [
              1,
              "#f0f921"
             ]
            ],
            "type": "heatmap"
           }
          ],
          "histogram": [
           {
            "marker": {
             "pattern": {
              "fillmode": "overlay",
              "size": 10,
              "solidity": 0.2
             }
            },
            "type": "histogram"
           }
          ],
          "histogram2d": [
           {
            "colorbar": {
             "outlinewidth": 0,
             "ticks": ""
            },
            "colorscale": [
             [
              0,
              "#0d0887"
             ],
             [
              0.1111111111111111,
              "#46039f"
             ],
             [
              0.2222222222222222,
              "#7201a8"
             ],
             [
              0.3333333333333333,
              "#9c179e"
             ],
             [
              0.4444444444444444,
              "#bd3786"
             ],
             [
              0.5555555555555556,
              "#d8576b"
             ],
             [
              0.6666666666666666,
              "#ed7953"
             ],
             [
              0.7777777777777778,
              "#fb9f3a"
             ],
             [
              0.8888888888888888,
              "#fdca26"
             ],
             [
              1,
              "#f0f921"
             ]
            ],
            "type": "histogram2d"
           }
          ],
          "histogram2dcontour": [
           {
            "colorbar": {
             "outlinewidth": 0,
             "ticks": ""
            },
            "colorscale": [
             [
              0,
              "#0d0887"
             ],
             [
              0.1111111111111111,
              "#46039f"
             ],
             [
              0.2222222222222222,
              "#7201a8"
             ],
             [
              0.3333333333333333,
              "#9c179e"
             ],
             [
              0.4444444444444444,
              "#bd3786"
             ],
             [
              0.5555555555555556,
              "#d8576b"
             ],
             [
              0.6666666666666666,
              "#ed7953"
             ],
             [
              0.7777777777777778,
              "#fb9f3a"
             ],
             [
              0.8888888888888888,
              "#fdca26"
             ],
             [
              1,
              "#f0f921"
             ]
            ],
            "type": "histogram2dcontour"
           }
          ],
          "mesh3d": [
           {
            "colorbar": {
             "outlinewidth": 0,
             "ticks": ""
            },
            "type": "mesh3d"
           }
          ],
          "parcoords": [
           {
            "line": {
             "colorbar": {
              "outlinewidth": 0,
              "ticks": ""
             }
            },
            "type": "parcoords"
           }
          ],
          "pie": [
           {
            "automargin": true,
            "type": "pie"
           }
          ],
          "scatter": [
           {
            "fillpattern": {
             "fillmode": "overlay",
             "size": 10,
             "solidity": 0.2
            },
            "type": "scatter"
           }
          ],
          "scatter3d": [
           {
            "line": {
             "colorbar": {
              "outlinewidth": 0,
              "ticks": ""
             }
            },
            "marker": {
             "colorbar": {
              "outlinewidth": 0,
              "ticks": ""
             }
            },
            "type": "scatter3d"
           }
          ],
          "scattercarpet": [
           {
            "marker": {
             "colorbar": {
              "outlinewidth": 0,
              "ticks": ""
             }
            },
            "type": "scattercarpet"
           }
          ],
          "scattergeo": [
           {
            "marker": {
             "colorbar": {
              "outlinewidth": 0,
              "ticks": ""
             }
            },
            "type": "scattergeo"
           }
          ],
          "scattergl": [
           {
            "marker": {
             "colorbar": {
              "outlinewidth": 0,
              "ticks": ""
             }
            },
            "type": "scattergl"
           }
          ],
          "scattermap": [
           {
            "marker": {
             "colorbar": {
              "outlinewidth": 0,
              "ticks": ""
             }
            },
            "type": "scattermap"
           }
          ],
          "scattermapbox": [
           {
            "marker": {
             "colorbar": {
              "outlinewidth": 0,
              "ticks": ""
             }
            },
            "type": "scattermapbox"
           }
          ],
          "scatterpolar": [
           {
            "marker": {
             "colorbar": {
              "outlinewidth": 0,
              "ticks": ""
             }
            },
            "type": "scatterpolar"
           }
          ],
          "scatterpolargl": [
           {
            "marker": {
             "colorbar": {
              "outlinewidth": 0,
              "ticks": ""
             }
            },
            "type": "scatterpolargl"
           }
          ],
          "scatterternary": [
           {
            "marker": {
             "colorbar": {
              "outlinewidth": 0,
              "ticks": ""
             }
            },
            "type": "scatterternary"
           }
          ],
          "surface": [
           {
            "colorbar": {
             "outlinewidth": 0,
             "ticks": ""
            },
            "colorscale": [
             [
              0,
              "#0d0887"
             ],
             [
              0.1111111111111111,
              "#46039f"
             ],
             [
              0.2222222222222222,
              "#7201a8"
             ],
             [
              0.3333333333333333,
              "#9c179e"
             ],
             [
              0.4444444444444444,
              "#bd3786"
             ],
             [
              0.5555555555555556,
              "#d8576b"
             ],
             [
              0.6666666666666666,
              "#ed7953"
             ],
             [
              0.7777777777777778,
              "#fb9f3a"
             ],
             [
              0.8888888888888888,
              "#fdca26"
             ],
             [
              1,
              "#f0f921"
             ]
            ],
            "type": "surface"
           }
          ],
          "table": [
           {
            "cells": {
             "fill": {
              "color": "#EBF0F8"
             },
             "line": {
              "color": "white"
             }
            },
            "header": {
             "fill": {
              "color": "#C8D4E3"
             },
             "line": {
              "color": "white"
             }
            },
            "type": "table"
           }
          ]
         },
         "layout": {
          "annotationdefaults": {
           "arrowcolor": "#2a3f5f",
           "arrowhead": 0,
           "arrowwidth": 1
          },
          "autotypenumbers": "strict",
          "coloraxis": {
           "colorbar": {
            "outlinewidth": 0,
            "ticks": ""
           }
          },
          "colorscale": {
           "diverging": [
            [
             0,
             "#8e0152"
            ],
            [
             0.1,
             "#c51b7d"
            ],
            [
             0.2,
             "#de77ae"
            ],
            [
             0.3,
             "#f1b6da"
            ],
            [
             0.4,
             "#fde0ef"
            ],
            [
             0.5,
             "#f7f7f7"
            ],
            [
             0.6,
             "#e6f5d0"
            ],
            [
             0.7,
             "#b8e186"
            ],
            [
             0.8,
             "#7fbc41"
            ],
            [
             0.9,
             "#4d9221"
            ],
            [
             1,
             "#276419"
            ]
           ],
           "sequential": [
            [
             0,
             "#0d0887"
            ],
            [
             0.1111111111111111,
             "#46039f"
            ],
            [
             0.2222222222222222,
             "#7201a8"
            ],
            [
             0.3333333333333333,
             "#9c179e"
            ],
            [
             0.4444444444444444,
             "#bd3786"
            ],
            [
             0.5555555555555556,
             "#d8576b"
            ],
            [
             0.6666666666666666,
             "#ed7953"
            ],
            [
             0.7777777777777778,
             "#fb9f3a"
            ],
            [
             0.8888888888888888,
             "#fdca26"
            ],
            [
             1,
             "#f0f921"
            ]
           ],
           "sequentialminus": [
            [
             0,
             "#0d0887"
            ],
            [
             0.1111111111111111,
             "#46039f"
            ],
            [
             0.2222222222222222,
             "#7201a8"
            ],
            [
             0.3333333333333333,
             "#9c179e"
            ],
            [
             0.4444444444444444,
             "#bd3786"
            ],
            [
             0.5555555555555556,
             "#d8576b"
            ],
            [
             0.6666666666666666,
             "#ed7953"
            ],
            [
             0.7777777777777778,
             "#fb9f3a"
            ],
            [
             0.8888888888888888,
             "#fdca26"
            ],
            [
             1,
             "#f0f921"
            ]
           ]
          },
          "colorway": [
           "#636efa",
           "#EF553B",
           "#00cc96",
           "#ab63fa",
           "#FFA15A",
           "#19d3f3",
           "#FF6692",
           "#B6E880",
           "#FF97FF",
           "#FECB52"
          ],
          "font": {
           "color": "#2a3f5f"
          },
          "geo": {
           "bgcolor": "white",
           "lakecolor": "white",
           "landcolor": "#E5ECF6",
           "showlakes": true,
           "showland": true,
           "subunitcolor": "white"
          },
          "hoverlabel": {
           "align": "left"
          },
          "hovermode": "closest",
          "mapbox": {
           "style": "light"
          },
          "paper_bgcolor": "white",
          "plot_bgcolor": "#E5ECF6",
          "polar": {
           "angularaxis": {
            "gridcolor": "white",
            "linecolor": "white",
            "ticks": ""
           },
           "bgcolor": "#E5ECF6",
           "radialaxis": {
            "gridcolor": "white",
            "linecolor": "white",
            "ticks": ""
           }
          },
          "scene": {
           "xaxis": {
            "backgroundcolor": "#E5ECF6",
            "gridcolor": "white",
            "gridwidth": 2,
            "linecolor": "white",
            "showbackground": true,
            "ticks": "",
            "zerolinecolor": "white"
           },
           "yaxis": {
            "backgroundcolor": "#E5ECF6",
            "gridcolor": "white",
            "gridwidth": 2,
            "linecolor": "white",
            "showbackground": true,
            "ticks": "",
            "zerolinecolor": "white"
           },
           "zaxis": {
            "backgroundcolor": "#E5ECF6",
            "gridcolor": "white",
            "gridwidth": 2,
            "linecolor": "white",
            "showbackground": true,
            "ticks": "",
            "zerolinecolor": "white"
           }
          },
          "shapedefaults": {
           "line": {
            "color": "#2a3f5f"
           }
          },
          "ternary": {
           "aaxis": {
            "gridcolor": "white",
            "linecolor": "white",
            "ticks": ""
           },
           "baxis": {
            "gridcolor": "white",
            "linecolor": "white",
            "ticks": ""
           },
           "bgcolor": "#E5ECF6",
           "caxis": {
            "gridcolor": "white",
            "linecolor": "white",
            "ticks": ""
           }
          },
          "title": {
           "x": 0.05
          },
          "xaxis": {
           "automargin": true,
           "gridcolor": "white",
           "linecolor": "white",
           "ticks": "",
           "title": {
            "standoff": 15
           },
           "zerolinecolor": "white",
           "zerolinewidth": 2
          },
          "yaxis": {
           "automargin": true,
           "gridcolor": "white",
           "linecolor": "white",
           "ticks": "",
           "title": {
            "standoff": 15
           },
           "zerolinecolor": "white",
           "zerolinewidth": 2
          }
         }
        },
        "title": {
         "text": "Student Retention Over Time",
         "x": 0.5,
         "y": 0.95
        }
       }
      }
     },
     "metadata": {},
     "output_type": "display_data"
    },
    {
     "name": "stdout",
     "output_type": "stream",
     "text": [
      "Unique users in each period:\n",
      "- Period 1: 427\n",
      "- Period 2: 565\n",
      "- Period 3: 417\n",
      "\n",
      "Common users in each pair of continuous periods:\n",
      "- Period 1 -> Period 2: 314\n",
      "- Period 2 -> Period 3: 310\n"
     ]
    }
   ],
   "source": [
    "def plot_student_retention_sankey():\n",
    "    \"\"\"\n",
    "    Plot a Sankey diagram showing student retention over time.\n",
    "    \"\"\"\n",
    "    # Count unique users in each period\n",
    "    user_counts = {}\n",
    "    for period_name, user_activity in user_activity_periods.items():\n",
    "        unique_users = user_activity['user_id'].nunique()\n",
    "        user_counts[period_name] = unique_users\n",
    "\n",
    "    # Continous periods pairs\n",
    "    period_pairs = []\n",
    "    for i in range(len(periods) - 1):\n",
    "        period1 = periods[i][2]\n",
    "        period2 = periods[i + 1][2]\n",
    "        period_pairs.append((period1, period2))\n",
    "\n",
    "    # Count common users in each pair of continuous periods\n",
    "    common_users = {}\n",
    "    for period1, period2 in period_pairs:\n",
    "        users_period1 = user_activity_periods[period1]['user_id'].unique()\n",
    "        users_period2 = user_activity_periods[period2]['user_id'].unique()\n",
    "        common_count = len(set(users_period1) & set(users_period2))\n",
    "        common_users[(period1, period2)] = common_count\n",
    "\n",
    "    period_names = [p for _, _, p in periods]\n",
    "    num_periods = len(period_names)\n",
    "\n",
    "    label_list, label_index = [], {}\n",
    "    node_colors, node_x, node_y = [], [], []\n",
    "\n",
    "    # Main period nodes\n",
    "    for i, period in enumerate(period_names):\n",
    "        label = f\"{user_counts[period]} students\"\n",
    "        label_index[period] = len(label_list)\n",
    "        label_list.append(label)\n",
    "        node_colors.append(\"#4c72b0\")\n",
    "        node_x.append(i / (num_periods - 1))\n",
    "        node_y.append(0.1)\n",
    "\n",
    "    # Dropout nodes\n",
    "    for i, period in enumerate(period_names[:-1]):\n",
    "        nb_dropout = user_counts[period] - common_users[(period, period_names[i + 1])]\n",
    "        label = f\"{nb_dropout} dropped\"\n",
    "        label_index[f\"{period}_dropout\"] = len(label_list)\n",
    "        label_list.append(label)\n",
    "        node_colors.append(\"#d62728\")\n",
    "        node_x.append((i + 1) / (num_periods - 1))\n",
    "        node_y.append(0.7)\n",
    "\n",
    "    # Hidden new joiner nodes\n",
    "    for i, period in enumerate(period_names[1:], start=1):\n",
    "        label_index[f\"{period}_new\"] = len(label_list)\n",
    "        label_list.append(\"\")  # hidden label\n",
    "        node_colors.append(\"rgba(0,0,0,0)\")\n",
    "        node_x.append(i / (num_periods - 1))\n",
    "        node_y.append(1.0)\n",
    "\n",
    "    # Link setup\n",
    "    sources, targets, values = [], [], []\n",
    "    link_colors, link_labels = [], []\n",
    "\n",
    "    for i in range(num_periods - 1):\n",
    "        p1, p2 = period_names[i], period_names[i + 1]\n",
    "        total_p1 = user_counts[p1]\n",
    "        total_p2 = user_counts[p2]\n",
    "        common = common_users[(p1, p2)]\n",
    "        dropout = total_p1 - common\n",
    "        new_joiners = total_p2 - common\n",
    "\n",
    "        # Continuing users\n",
    "        sources.append(label_index[p1])\n",
    "        targets.append(label_index[p2])\n",
    "        values.append(common)\n",
    "        link_colors.append(\"rgba(100,149,237,0.5)\")\n",
    "        link_labels.append(f\"{common} continuing\")\n",
    "\n",
    "        # Dropouts\n",
    "        sources.append(label_index[p1])\n",
    "        targets.append(label_index[f\"{p1}_dropout\"])\n",
    "        values.append(dropout)\n",
    "        link_colors.append(\"rgba(220,20,60,0.3)\")\n",
    "        link_labels.append(f\"{dropout} dropped\")\n",
    "\n",
    "        # New joiners (hidden source)\n",
    "        sources.append(label_index[f\"{p2}_new\"])\n",
    "        targets.append(label_index[p2])\n",
    "        values.append(new_joiners)\n",
    "        link_colors.append(\"rgba(0,0,0,0)\")\n",
    "        link_labels.append(\"\")\n",
    "\n",
    "    # Plot Sankey\n",
    "    fig = go.Figure(data=[go.Sankey(\n",
    "        node=dict(\n",
    "            pad=20,\n",
    "            thickness=30,\n",
    "            line=dict(color=\"rgba(0,0,0,0)\", width=0),\n",
    "            label=label_list,\n",
    "            color=node_colors,\n",
    "            x=node_x,\n",
    "            y=node_y\n",
    "        ),\n",
    "        link=dict(\n",
    "            source=sources,\n",
    "            target=targets,\n",
    "            value=values,\n",
    "            color=link_colors,\n",
    "            label=link_labels\n",
    "        )\n",
    "    )])\n",
    "\n",
    "    # Add period labels at the bottom\n",
    "    annotations = []\n",
    "    for i, period in enumerate(period_names):\n",
    "        annotations.append(dict(\n",
    "            x=i / (num_periods - 1),\n",
    "            y=0,\n",
    "            text=period,\n",
    "            showarrow=False,\n",
    "            xanchor='center',\n",
    "            yanchor='top',\n",
    "            font=dict(size=10)\n",
    "        ))\n",
    "\n",
    "    fig.update_layout(\n",
    "        title_text=\"Student Retention Over Time\",\n",
    "        title_x=0.5,\n",
    "        title_y=0.95,\n",
    "        font_size=10,\n",
    "        margin=dict(l=40, r=40, t=130, b=40),\n",
    "        annotations=annotations\n",
    "    )\n",
    "\n",
    "    fig.show()\n",
    "\n",
    "    # Print user counts and common users\n",
    "    print(\"Unique users in each period:\")\n",
    "    for period_name, count in user_counts.items():\n",
    "        print(f\"- {period_name}: {count}\")\n",
    "    print()\n",
    "    print(\"Common users in each pair of continuous periods:\")\n",
    "    for (period1, period2), count in common_users.items():\n",
    "        print(f\"- {period1} -> {period2}: {count}\")\n",
    "\n",
    "plot_student_retention_sankey()"
   ]
  },
  {
   "cell_type": "markdown",
   "id": "6ea09909",
   "metadata": {},
   "source": [
    "**Observations:**\n",
    "\n",
    "We observe that the periods have a comparable number of unique students (P1: 427, P2: 565, and P3: 417), and the number of students shared between consecutive periods is also very similar (P1 -> P2: 314 and P2 -> P3: 310)."
   ]
  },
  {
   "cell_type": "markdown",
   "id": "0efc1163",
   "metadata": {},
   "source": [
    "### D) Student Scores by Time Period"
   ]
  },
  {
   "cell_type": "markdown",
   "id": "e362acc3",
   "metadata": {},
   "source": [
    "**Approach:**\n",
    "\n",
    "Now we will merge the student activity data by period with each student's score for that same period. To achieve this, we will:\n",
    "\n",
    "* Compute the median score per user based on exams taken exclusively during that period\n",
    "* Remove outlier entries where too few scores are available, using a revised version of the IQR method\n"
   ]
  },
  {
   "cell_type": "code",
   "execution_count": 56,
   "id": "085f70c3",
   "metadata": {},
   "outputs": [],
   "source": [
    "def compute_and_merge_median_scores_by_period(user_activity_periods, periods, remove_outliers=True):\n",
    "    \"\"\"\n",
    "    Computes median scores per user for each period and merges with corresponding user_activity.\n",
    "    \"\"\"\n",
    "    # Load the data\n",
    "    all_scores = pd.read_csv(f'{DATA_DIR}/all_scores.csv')\n",
    "\n",
    "    # Cast timestamps to datetime\n",
    "    all_scores['time'] = pd.to_datetime(all_scores['time'], unit='s')\n",
    "    \n",
    "    students_by_period = {}\n",
    "    \n",
    "    for start_date, end_date, period_name in periods:        \n",
    "        period_scores = all_scores[\n",
    "            (all_scores['time'] >= pd.Timestamp(start_date)) & \n",
    "            (all_scores['time'] < pd.Timestamp(end_date))\n",
    "        ].copy()\n",
    "\n",
    "        if period_scores.empty:\n",
    "            continue\n",
    "        \n",
    "        user_activity = user_activity_periods.get(period_name)\n",
    "        if user_activity is None or user_activity.empty:\n",
    "            continue\n",
    "\n",
    "        students_median_score = period_scores.groupby('user_id')['percentage'].median().reset_index()\n",
    "        students_median_score.rename(columns={'percentage': 'median_score'}, inplace=True)\n",
    "        students_median_score['scores_count'] = period_scores.groupby('user_id')['percentage'].count().values\n",
    "\n",
    "        # Filter out users with only one score\n",
    "        students_median_score_filtered = students_median_score[students_median_score['scores_count'] > 1]\n",
    "\n",
    "        if remove_outliers:\n",
    "            # IQR-based outlier removal\n",
    "            Q1 = students_median_score_filtered['scores_count'].quantile(0.25)\n",
    "            Q3 = students_median_score_filtered['scores_count'].quantile(0.75)\n",
    "            IQR = Q3 - Q1\n",
    "            lower_bound = Q1 - 1.5 * IQR\n",
    "            upper_bound = Q3 + 1.5 * IQR\n",
    "\n",
    "            students_median_score_filtered = students_median_score_filtered[\n",
    "                (students_median_score_filtered['scores_count'] >= lower_bound) # & (students_median_score_filtered['scores_count'] <= upper_bound)\n",
    "            ]\n",
    "    \n",
    "        students = user_activity.merge(\n",
    "            students_median_score_filtered,\n",
    "            how='inner',\n",
    "            on='user_id'\n",
    "        )\n",
    "        students['period'] = period_name        \n",
    "        students_by_period[period_name] = students\n",
    "\n",
    "    return students_by_period"
   ]
  },
  {
   "cell_type": "code",
   "execution_count": 57,
   "id": "8fbbede3",
   "metadata": {},
   "outputs": [
    {
     "name": "stdout",
     "output_type": "stream",
     "text": [
      "\n",
      "User activity and scores across all periods:\n"
     ]
    },
    {
     "data": {
      "application/vnd.microsoft.datawrangler.viewer.v0+json": {
       "columns": [
        {
         "name": "index",
         "rawType": "int64",
         "type": "integer"
        },
        {
         "name": "user_id",
         "rawType": "int64",
         "type": "integer"
        },
        {
         "name": "median_gap_days",
         "rawType": "float64",
         "type": "float"
        },
        {
         "name": "active_days_count",
         "rawType": "int64",
         "type": "integer"
        },
        {
         "name": "activities_count",
         "rawType": "int64",
         "type": "integer"
        },
        {
         "name": "activity_types_count",
         "rawType": "int64",
         "type": "integer"
        },
        {
         "name": "median_activity_duration_minutes",
         "rawType": "float64",
         "type": "float"
        },
        {
         "name": "period",
         "rawType": "object",
         "type": "string"
        },
        {
         "name": "median_score",
         "rawType": "float64",
         "type": "float"
        },
        {
         "name": "scores_count",
         "rawType": "int64",
         "type": "integer"
        }
       ],
       "conversionMethod": "pd.DataFrame",
       "ref": "3ce60b71-3428-4a1c-8f0f-4798318b633b",
       "rows": [
        [
         "0",
         "433",
         "8.5",
         "3",
         "20",
         "3",
         "2.2083333333333335",
         "Period 1",
         "75.0",
         "3"
        ],
        [
         "1",
         "436",
         "5.5",
         "5",
         "25",
         "3",
         "5.05",
         "Period 1",
         "70.14",
         "2"
        ],
        [
         "2",
         "465",
         "3.5",
         "5",
         "34",
         "3",
         "1.8666666666666667",
         "Period 1",
         "95.0",
         "2"
        ],
        [
         "3",
         "475",
         "3.0",
         "6",
         "15",
         "2",
         "12.766666666666667",
         "Period 1",
         "88.75",
         "2"
        ],
        [
         "4",
         "3112",
         "7.0",
         "4",
         "6",
         "2",
         "1.85",
         "Period 1",
         "33.335",
         "2"
        ]
       ],
       "shape": {
        "columns": 9,
        "rows": 5
       }
      },
      "text/html": [
       "<div>\n",
       "<style scoped>\n",
       "    .dataframe tbody tr th:only-of-type {\n",
       "        vertical-align: middle;\n",
       "    }\n",
       "\n",
       "    .dataframe tbody tr th {\n",
       "        vertical-align: top;\n",
       "    }\n",
       "\n",
       "    .dataframe thead th {\n",
       "        text-align: right;\n",
       "    }\n",
       "</style>\n",
       "<table border=\"1\" class=\"dataframe\">\n",
       "  <thead>\n",
       "    <tr style=\"text-align: right;\">\n",
       "      <th></th>\n",
       "      <th>user_id</th>\n",
       "      <th>median_gap_days</th>\n",
       "      <th>active_days_count</th>\n",
       "      <th>activities_count</th>\n",
       "      <th>activity_types_count</th>\n",
       "      <th>median_activity_duration_minutes</th>\n",
       "      <th>period</th>\n",
       "      <th>median_score</th>\n",
       "      <th>scores_count</th>\n",
       "    </tr>\n",
       "  </thead>\n",
       "  <tbody>\n",
       "    <tr>\n",
       "      <th>0</th>\n",
       "      <td>433</td>\n",
       "      <td>8.5</td>\n",
       "      <td>3</td>\n",
       "      <td>20</td>\n",
       "      <td>3</td>\n",
       "      <td>2.208333</td>\n",
       "      <td>Period 1</td>\n",
       "      <td>75.000</td>\n",
       "      <td>3</td>\n",
       "    </tr>\n",
       "    <tr>\n",
       "      <th>1</th>\n",
       "      <td>436</td>\n",
       "      <td>5.5</td>\n",
       "      <td>5</td>\n",
       "      <td>25</td>\n",
       "      <td>3</td>\n",
       "      <td>5.050000</td>\n",
       "      <td>Period 1</td>\n",
       "      <td>70.140</td>\n",
       "      <td>2</td>\n",
       "    </tr>\n",
       "    <tr>\n",
       "      <th>2</th>\n",
       "      <td>465</td>\n",
       "      <td>3.5</td>\n",
       "      <td>5</td>\n",
       "      <td>34</td>\n",
       "      <td>3</td>\n",
       "      <td>1.866667</td>\n",
       "      <td>Period 1</td>\n",
       "      <td>95.000</td>\n",
       "      <td>2</td>\n",
       "    </tr>\n",
       "    <tr>\n",
       "      <th>3</th>\n",
       "      <td>475</td>\n",
       "      <td>3.0</td>\n",
       "      <td>6</td>\n",
       "      <td>15</td>\n",
       "      <td>2</td>\n",
       "      <td>12.766667</td>\n",
       "      <td>Period 1</td>\n",
       "      <td>88.750</td>\n",
       "      <td>2</td>\n",
       "    </tr>\n",
       "    <tr>\n",
       "      <th>4</th>\n",
       "      <td>3112</td>\n",
       "      <td>7.0</td>\n",
       "      <td>4</td>\n",
       "      <td>6</td>\n",
       "      <td>2</td>\n",
       "      <td>1.850000</td>\n",
       "      <td>Period 1</td>\n",
       "      <td>33.335</td>\n",
       "      <td>2</td>\n",
       "    </tr>\n",
       "  </tbody>\n",
       "</table>\n",
       "</div>"
      ],
      "text/plain": [
       "   user_id  median_gap_days  active_days_count  activities_count  \\\n",
       "0      433              8.5                  3                20   \n",
       "1      436              5.5                  5                25   \n",
       "2      465              3.5                  5                34   \n",
       "3      475              3.0                  6                15   \n",
       "4     3112              7.0                  4                 6   \n",
       "\n",
       "   activity_types_count  median_activity_duration_minutes    period  \\\n",
       "0                     3                          2.208333  Period 1   \n",
       "1                     3                          5.050000  Period 1   \n",
       "2                     3                          1.866667  Period 1   \n",
       "3                     2                         12.766667  Period 1   \n",
       "4                     2                          1.850000  Period 1   \n",
       "\n",
       "   median_score  scores_count  \n",
       "0        75.000             3  \n",
       "1        70.140             2  \n",
       "2        95.000             2  \n",
       "3        88.750             2  \n",
       "4        33.335             2  "
      ]
     },
     "metadata": {},
     "output_type": "display_data"
    },
    {
     "name": "stdout",
     "output_type": "stream",
     "text": [
      "Shape: (672, 9)\n",
      "\n",
      "Period Period 1: 120 unique users\n",
      "Period Period 2: 341 unique users\n",
      "Period Period 3: 211 unique users\n",
      "\n",
      "Common users between Period 1 and Period 2: 97\n",
      "Common users between Period 2 and Period 3: 158\n"
     ]
    }
   ],
   "source": [
    "# Compute and merge scores\n",
    "students_by_period = compute_and_merge_median_scores_by_period(user_activity_periods, periods, remove_outliers=True)\n",
    "\n",
    "# Combine all periods into one dataframe\n",
    "all_students = pd.concat(students_by_period.values(), ignore_index=True)\n",
    "print(\"\\nUser activity and scores across all periods:\")\n",
    "display(all_students.head())\n",
    "print(f\"Shape: {all_students.shape}\")\n",
    "print()\n",
    "\n",
    "# Analyze user counts per period\n",
    "for period_name, df in students_by_period.items():\n",
    "    print(f\"Period {period_name}: {df['user_id'].nunique()} unique users\")\n",
    "print()\n",
    "\n",
    "# Number of unique users in pairs of periods\n",
    "for i in range(len(periods) - 1):\n",
    "    period1 = periods[i][2]\n",
    "    period2 = periods[i + 1][2]\n",
    "    users_period1 = students_by_period[period1]['user_id'].unique()\n",
    "    users_period2 = students_by_period[period2]['user_id'].unique()\n",
    "    common_users = len(set(users_period1) & set(users_period2))\n",
    "    print(f\"Common users between {period1} and {period2}: {common_users}\")"
   ]
  },
  {
   "cell_type": "markdown",
   "id": "cc6b716e",
   "metadata": {},
   "source": [
    "**Observation:**\n",
    "\n",
    "After merging the student activity data by period with their corresponding scores for that period, we end up with fewer records than initially, and less balanced. However, the remaining data is still sufficient to analyze and compare student profiles in terms of their performance over time."
   ]
  },
  {
   "cell_type": "markdown",
   "id": "85633adb-d317-4ee3-bf06-e9f82f589c41",
   "metadata": {
    "id": "85633adb-d317-4ee3-bf06-e9f82f589c41"
   },
   "source": [
    "## Task 2: Model Building\n",
    "\n",
    "Train a model for your research question. "
   ]
  },
  {
   "cell_type": "code",
   "execution_count": 59,
   "id": "3bfdaf99",
   "metadata": {},
   "outputs": [
    {
     "data": {
      "image/png": "[encoded data removed]",
      "text/plain": [
       "<Figure size 1400x600 with 2 Axes>"
      ]
     },
     "metadata": {},
     "output_type": "display_data"
    }
   ],
   "source": [
    "def cluster_students_by_period(students_by_period, k=4):\n",
    "    \"\"\"\n",
    "    Applies KMeans clustering to students from each period and returns two bar plots:\n",
    "    - Absolute cluster distribution\n",
    "    - Normalized cluster distribution\n",
    "    \"\"\"\n",
    "\n",
    "    columns_used = [\n",
    "        'median_gap_days',\n",
    "        'active_days_count',\n",
    "        'activities_count',\n",
    "        'activity_types_count',\n",
    "        'median_activity_duration_minutes'\n",
    "    ]\n",
    "    \n",
    "    clustered_students = {}\n",
    "    cluster_distributions = defaultdict(lambda: [0]*k)\n",
    "    cluster_distributions_normalized = defaultdict(lambda: [0]*k)\n",
    "\n",
    "    for period_name, df in students_by_period.items():        \n",
    "        df_clean = df.dropna(subset=columns_used)        \n",
    "        X = df_clean[columns_used]\n",
    "        scaler = StandardScaler()\n",
    "        X_scaled = scaler.fit_transform(X)\n",
    "\n",
    "        kmeans = KMeans(n_clusters=k, random_state=42, n_init=10)\n",
    "        labels = kmeans.fit_predict(X_scaled)\n",
    "\n",
    "        df_clean = df_clean.copy()\n",
    "        df_clean['cluster'] = labels\n",
    "\n",
    "        # Count cluster assignments\n",
    "        counts = df_clean['cluster'].value_counts().sort_index()\n",
    "        total = len(df_clean)\n",
    "        for cluster_idx in range(k):\n",
    "            count = counts.get(cluster_idx, 0)\n",
    "            cluster_distributions[period_name][cluster_idx] = count\n",
    "            cluster_distributions_normalized[period_name][cluster_idx] = count / total\n",
    "\n",
    "        clustered_students[period_name] = df_clean\n",
    "\n",
    "    # Plot side-by-side charts\n",
    "    if clustered_students:\n",
    "        periods_sorted = sorted(cluster_distributions.keys())\n",
    "        x = np.arange(len(periods_sorted))\n",
    "        width = 0.2\n",
    "\n",
    "        fig, axes = plt.subplots(1, 2, figsize=(14, 6), sharey=False)\n",
    "\n",
    "        # Raw count plot\n",
    "        for i in range(k):\n",
    "            counts = [cluster_distributions[period][i] for period in periods_sorted]\n",
    "            axes[0].bar(x + i * width, counts, width, label=f'Profile {i+1}')\n",
    "        axes[0].set_title('Absolute Profiles Distribution')\n",
    "        axes[0].set_ylabel('Number of Students')\n",
    "        axes[0].set_xticks(x + width * (k-1)/2)\n",
    "        axes[0].set_xticklabels(periods_sorted)\n",
    "        axes[0].legend()\n",
    "        axes[0].grid(axis='y')\n",
    "\n",
    "        # Normalized plot\n",
    "        for i in range(k):\n",
    "            counts = [cluster_distributions_normalized[period][i] for period in periods_sorted]\n",
    "            axes[1].bar(x + i * width, counts, width, label=f'Profile {i+1}')\n",
    "        axes[1].set_title('Normalized Profiles Distribution')\n",
    "        axes[1].set_ylabel('Percentage of Students within the Period')\n",
    "        axes[1].set_xticks(x + width * (k-1)/2)\n",
    "        axes[1].set_xticklabels(periods_sorted)\n",
    "        axes[1].legend()\n",
    "        axes[1].grid(axis='y')\n",
    "\n",
    "        plt.tight_layout()\n",
    "        plt.show()\n",
    "\n",
    "    return clustered_students\n",
    "\n",
    "clustered_students_by_period = cluster_students_by_period(students_by_period, k=4)"
   ]
  },
  {
   "cell_type": "markdown",
   "id": "9228b8b5",
   "metadata": {},
   "source": [
    "**Observation:**\n",
    "\n",
    "TODO"
   ]
  },
  {
   "cell_type": "code",
   "execution_count": 40,
   "id": "eb4eae14",
   "metadata": {},
   "outputs": [
    {
     "data": {
      "application/vnd.plotly.v1+json": {
       "config": {
        "plotlyServerURL": "https://plot.ly"
       },
       "data": [
        {
         "link": {
          "customdata": [
           "1 students went from Profile 1 to Profile 1",
           "16 students went from Profile 1 to Profile 2",
           "1 students went from Profile 1 to Profile 3",
           "4 students went from Profile 1 to Profile 4",
           "2 students went from Profile 2 to Profile 1",
           "17 students went from Profile 2 to Profile 2",
           "4 students went from Profile 2 to Profile 3",
           "6 students went from Profile 2 to Profile 4",
           "4 students went from Profile 3 to Profile 1",
           "19 students went from Profile 3 to Profile 2",
           "1 students went from Profile 3 to Profile 3",
           "7 students went from Profile 3 to Profile 4",
           "1 students went from Profile 4 to Profile 1",
           "8 students went from Profile 4 to Profile 2",
           "3 students went from Profile 4 to Profile 4",
           "3 students went from Profile 1 to Profile 1",
           "1 students went from Profile 1 to Profile 4",
           "45 students went from Profile 2 to Profile 1",
           "8 students went from Profile 2 to Profile 2",
           "10 students went from Profile 2 to Profile 3",
           "16 students went from Profile 2 to Profile 4",
           "16 students went from Profile 3 to Profile 1",
           "10 students went from Profile 3 to Profile 2",
           "2 students went from Profile 3 to Profile 3",
           "3 students went from Profile 3 to Profile 4",
           "9 students went from Profile 4 to Profile 1",
           "3 students went from Profile 4 to Profile 2",
           "14 students went from Profile 4 to Profile 3",
           "3 students went from Profile 4 to Profile 4"
          ],
          "hovertemplate": "%{customdata}<extra></extra>",
          "source": [
           0,
           0,
           0,
           0,
           1,
           1,
           1,
           1,
           2,
           2,
           2,
           2,
           3,
           3,
           3,
           4,
           4,
           5,
           5,
           5,
           5,
           6,
           6,
           6,
           6,
           7,
           7,
           7,
           7
          ],
          "target": [
           4,
           5,
           6,
           7,
           4,
           5,
           6,
           7,
           4,
           5,
           6,
           7,
           4,
           5,
           7,
           8,
           11,
           8,
           9,
           10,
           11,
           8,
           9,
           10,
           11,
           8,
           9,
           10,
           11
          ],
          "value": [
           1,
           16,
           1,
           4,
           2,
           17,
           4,
           6,
           4,
           19,
           1,
           7,
           1,
           8,
           3,
           3,
           1,
           45,
           8,
           10,
           16,
           16,
           10,
           2,
           3,
           9,
           3,
           14,
           3
          ]
         },
         "node": {
          "color": [
           "#1f77b4",
           "#ff7f0e",
           "#2ca02c",
           "#d62728",
           "#1f77b4",
           "#ff7f0e",
           "#2ca02c",
           "#d62728",
           "#1f77b4",
           "#ff7f0e",
           "#2ca02c",
           "#d62728"
          ],
          "customdata": [
           "22 students are in Profile 1",
           "29 students are in Profile 2",
           "31 students are in Profile 3",
           "12 students are in Profile 4",
           "12 students are in Profile 1",
           "139 students are in Profile 2",
           "37 students are in Profile 3",
           "49 students are in Profile 4",
           "73 students are in Profile 1",
           "21 students are in Profile 2",
           "26 students are in Profile 3",
           "23 students are in Profile 4"
          ],
          "hovertemplate": "%{customdata}<extra></extra>",
          "label": [
           "Profile 1",
           "Profile 2",
           "Profile 3",
           "Profile 4",
           "Profile 1",
           "Profile 2",
           "Profile 3",
           "Profile 4",
           "Profile 1",
           "Profile 2",
           "Profile 3",
           "Profile 4"
          ],
          "line": {
           "color": "rgba(0,0,0,0)",
           "width": 0
          },
          "pad": 15,
          "thickness": 20
         },
         "type": "sankey"
        }
       ],
       "layout": {
        "annotations": [
         {
          "font": {
           "size": 10
          },
          "showarrow": false,
          "text": "Period 1",
          "x": 0,
          "xanchor": "center",
          "y": -0.1,
          "yanchor": "top"
         },
         {
          "font": {
           "size": 10
          },
          "showarrow": false,
          "text": "Period 2",
          "x": 0.5,
          "xanchor": "center",
          "y": -0.1,
          "yanchor": "top"
         },
         {
          "font": {
           "size": 10
          },
          "showarrow": false,
          "text": "Period 3",
          "x": 1,
          "xanchor": "center",
          "y": -0.1,
          "yanchor": "top"
         }
        ],
        "font": {
         "size": 10
        },
        "margin": {
         "b": 70,
         "l": 40,
         "r": 40,
         "t": 70
        },
        "template": {
         "data": {
          "bar": [
           {
            "error_x": {
             "color": "#2a3f5f"
            },
            "error_y": {
             "color": "#2a3f5f"
            },
            "marker": {
             "line": {
              "color": "#E5ECF6",
              "width": 0.5
             },
             "pattern": {
              "fillmode": "overlay",
              "size": 10,
              "solidity": 0.2
             }
            },
            "type": "bar"
           }
          ],
          "barpolar": [
           {
            "marker": {
             "line": {
              "color": "#E5ECF6",
              "width": 0.5
             },
             "pattern": {
              "fillmode": "overlay",
              "size": 10,
              "solidity": 0.2
             }
            },
            "type": "barpolar"
           }
          ],
          "carpet": [
           {
            "aaxis": {
             "endlinecolor": "#2a3f5f",
             "gridcolor": "white",
             "linecolor": "white",
             "minorgridcolor": "white",
             "startlinecolor": "#2a3f5f"
            },
            "baxis": {
             "endlinecolor": "#2a3f5f",
             "gridcolor": "white",
             "linecolor": "white",
             "minorgridcolor": "white",
             "startlinecolor": "#2a3f5f"
            },
            "type": "carpet"
           }
          ],
          "choropleth": [
           {
            "colorbar": {
             "outlinewidth": 0,
             "ticks": ""
            },
            "type": "choropleth"
           }
          ],
          "contour": [
           {
            "colorbar": {
             "outlinewidth": 0,
             "ticks": ""
            },
            "colorscale": [
             [
              0,
              "#0d0887"
             ],
             [
              0.1111111111111111,
              "#46039f"
             ],
             [
              0.2222222222222222,
              "#7201a8"
             ],
             [
              0.3333333333333333,
              "#9c179e"
             ],
             [
              0.4444444444444444,
              "#bd3786"
             ],
             [
              0.5555555555555556,
              "#d8576b"
             ],
             [
              0.6666666666666666,
              "#ed7953"
             ],
             [
              0.7777777777777778,
              "#fb9f3a"
             ],
             [
              0.8888888888888888,
              "#fdca26"
             ],
             [
              1,
              "#f0f921"
             ]
            ],
            "type": "contour"
           }
          ],
          "contourcarpet": [
           {
            "colorbar": {
             "outlinewidth": 0,
             "ticks": ""
            },
            "type": "contourcarpet"
           }
          ],
          "heatmap": [
           {
            "colorbar": {
             "outlinewidth": 0,
             "ticks": ""
            },
            "colorscale": [
             [
              0,
              "#0d0887"
             ],
             [
              0.1111111111111111,
              "#46039f"
             ],
             [
              0.2222222222222222,
              "#7201a8"
             ],
             [
              0.3333333333333333,
              "#9c179e"
             ],
             [
              0.4444444444444444,
              "#bd3786"
             ],
             [
              0.5555555555555556,
              "#d8576b"
             ],
             [
              0.6666666666666666,
              "#ed7953"
             ],
             [
              0.7777777777777778,
              "#fb9f3a"
             ],
             [
              0.8888888888888888,
              "#fdca26"
             ],
             [
              1,
              "#f0f921"
             ]
            ],
            "type": "heatmap"
           }
          ],
          "histogram": [
           {
            "marker": {
             "pattern": {
              "fillmode": "overlay",
              "size": 10,
              "solidity": 0.2
             }
            },
            "type": "histogram"
           }
          ],
          "histogram2d": [
           {
            "colorbar": {
             "outlinewidth": 0,
             "ticks": ""
            },
            "colorscale": [
             [
              0,
              "#0d0887"
             ],
             [
              0.1111111111111111,
              "#46039f"
             ],
             [
              0.2222222222222222,
              "#7201a8"
             ],
             [
              0.3333333333333333,
              "#9c179e"
             ],
             [
              0.4444444444444444,
              "#bd3786"
             ],
             [
              0.5555555555555556,
              "#d8576b"
             ],
             [
              0.6666666666666666,
              "#ed7953"
             ],
             [
              0.7777777777777778,
              "#fb9f3a"
             ],
             [
              0.8888888888888888,
              "#fdca26"
             ],
             [
              1,
              "#f0f921"
             ]
            ],
            "type": "histogram2d"
           }
          ],
          "histogram2dcontour": [
           {
            "colorbar": {
             "outlinewidth": 0,
             "ticks": ""
            },
            "colorscale": [
             [
              0,
              "#0d0887"
             ],
             [
              0.1111111111111111,
              "#46039f"
             ],
             [
              0.2222222222222222,
              "#7201a8"
             ],
             [
              0.3333333333333333,
              "#9c179e"
             ],
             [
              0.4444444444444444,
              "#bd3786"
             ],
             [
              0.5555555555555556,
              "#d8576b"
             ],
             [
              0.6666666666666666,
              "#ed7953"
             ],
             [
              0.7777777777777778,
              "#fb9f3a"
             ],
             [
              0.8888888888888888,
              "#fdca26"
             ],
             [
              1,
              "#f0f921"
             ]
            ],
            "type": "histogram2dcontour"
           }
          ],
          "mesh3d": [
           {
            "colorbar": {
             "outlinewidth": 0,
             "ticks": ""
            },
            "type": "mesh3d"
           }
          ],
          "parcoords": [
           {
            "line": {
             "colorbar": {
              "outlinewidth": 0,
              "ticks": ""
             }
            },
            "type": "parcoords"
           }
          ],
          "pie": [
           {
            "automargin": true,
            "type": "pie"
           }
          ],
          "scatter": [
           {
            "fillpattern": {
             "fillmode": "overlay",
             "size": 10,
             "solidity": 0.2
            },
            "type": "scatter"
           }
          ],
          "scatter3d": [
           {
            "line": {
             "colorbar": {
              "outlinewidth": 0,
              "ticks": ""
             }
            },
            "marker": {
             "colorbar": {
              "outlinewidth": 0,
              "ticks": ""
             }
            },
            "type": "scatter3d"
           }
          ],
          "scattercarpet": [
           {
            "marker": {
             "colorbar": {
              "outlinewidth": 0,
              "ticks": ""
             }
            },
            "type": "scattercarpet"
           }
          ],
          "scattergeo": [
           {
            "marker": {
             "colorbar": {
              "outlinewidth": 0,
              "ticks": ""
             }
            },
            "type": "scattergeo"
           }
          ],
          "scattergl": [
           {
            "marker": {
             "colorbar": {
              "outlinewidth": 0,
              "ticks": ""
             }
            },
            "type": "scattergl"
           }
          ],
          "scattermap": [
           {
            "marker": {
             "colorbar": {
              "outlinewidth": 0,
              "ticks": ""
             }
            },
            "type": "scattermap"
           }
          ],
          "scattermapbox": [
           {
            "marker": {
             "colorbar": {
              "outlinewidth": 0,
              "ticks": ""
             }
            },
            "type": "scattermapbox"
           }
          ],
          "scatterpolar": [
           {
            "marker": {
             "colorbar": {
              "outlinewidth": 0,
              "ticks": ""
             }
            },
            "type": "scatterpolar"
           }
          ],
          "scatterpolargl": [
           {
            "marker": {
             "colorbar": {
              "outlinewidth": 0,
              "ticks": ""
             }
            },
            "type": "scatterpolargl"
           }
          ],
          "scatterternary": [
           {
            "marker": {
             "colorbar": {
              "outlinewidth": 0,
              "ticks": ""
             }
            },
            "type": "scatterternary"
           }
          ],
          "surface": [
           {
            "colorbar": {
             "outlinewidth": 0,
             "ticks": ""
            },
            "colorscale": [
             [
              0,
              "#0d0887"
             ],
             [
              0.1111111111111111,
              "#46039f"
             ],
             [
              0.2222222222222222,
              "#7201a8"
             ],
             [
              0.3333333333333333,
              "#9c179e"
             ],
             [
              0.4444444444444444,
              "#bd3786"
             ],
             [
              0.5555555555555556,
              "#d8576b"
             ],
             [
              0.6666666666666666,
              "#ed7953"
             ],
             [
              0.7777777777777778,
              "#fb9f3a"
             ],
             [
              0.8888888888888888,
              "#fdca26"
             ],
             [
              1,
              "#f0f921"
             ]
            ],
            "type": "surface"
           }
          ],
          "table": [
           {
            "cells": {
             "fill": {
              "color": "#EBF0F8"
             },
             "line": {
              "color": "white"
             }
            },
            "header": {
             "fill": {
              "color": "#C8D4E3"
             },
             "line": {
              "color": "white"
             }
            },
            "type": "table"
           }
          ]
         },
         "layout": {
          "annotationdefaults": {
           "arrowcolor": "#2a3f5f",
           "arrowhead": 0,
           "arrowwidth": 1
          },
          "autotypenumbers": "strict",
          "coloraxis": {
           "colorbar": {
            "outlinewidth": 0,
            "ticks": ""
           }
          },
          "colorscale": {
           "diverging": [
            [
             0,
             "#8e0152"
            ],
            [
             0.1,
             "#c51b7d"
            ],
            [
             0.2,
             "#de77ae"
            ],
            [
             0.3,
             "#f1b6da"
            ],
            [
             0.4,
             "#fde0ef"
            ],
            [
             0.5,
             "#f7f7f7"
            ],
            [
             0.6,
             "#e6f5d0"
            ],
            [
             0.7,
             "#b8e186"
            ],
            [
             0.8,
             "#7fbc41"
            ],
            [
             0.9,
             "#4d9221"
            ],
            [
             1,
             "#276419"
            ]
           ],
           "sequential": [
            [
             0,
             "#0d0887"
            ],
            [
             0.1111111111111111,
             "#46039f"
            ],
            [
             0.2222222222222222,
             "#7201a8"
            ],
            [
             0.3333333333333333,
             "#9c179e"
            ],
            [
             0.4444444444444444,
             "#bd3786"
            ],
            [
             0.5555555555555556,
             "#d8576b"
            ],
            [
             0.6666666666666666,
             "#ed7953"
            ],
            [
             0.7777777777777778,
             "#fb9f3a"
            ],
            [
             0.8888888888888888,
             "#fdca26"
            ],
            [
             1,
             "#f0f921"
            ]
           ],
           "sequentialminus": [
            [
             0,
             "#0d0887"
            ],
            [
             0.1111111111111111,
             "#46039f"
            ],
            [
             0.2222222222222222,
             "#7201a8"
            ],
            [
             0.3333333333333333,
             "#9c179e"
            ],
            [
             0.4444444444444444,
             "#bd3786"
            ],
            [
             0.5555555555555556,
             "#d8576b"
            ],
            [
             0.6666666666666666,
             "#ed7953"
            ],
            [
             0.7777777777777778,
             "#fb9f3a"
            ],
            [
             0.8888888888888888,
             "#fdca26"
            ],
            [
             1,
             "#f0f921"
            ]
           ]
          },
          "colorway": [
           "#636efa",
           "#EF553B",
           "#00cc96",
           "#ab63fa",
           "#FFA15A",
           "#19d3f3",
           "#FF6692",
           "#B6E880",
           "#FF97FF",
           "#FECB52"
          ],
          "font": {
           "color": "#2a3f5f"
          },
          "geo": {
           "bgcolor": "white",
           "lakecolor": "white",
           "landcolor": "#E5ECF6",
           "showlakes": true,
           "showland": true,
           "subunitcolor": "white"
          },
          "hoverlabel": {
           "align": "left"
          },
          "hovermode": "closest",
          "mapbox": {
           "style": "light"
          },
          "paper_bgcolor": "white",
          "plot_bgcolor": "#E5ECF6",
          "polar": {
           "angularaxis": {
            "gridcolor": "white",
            "linecolor": "white",
            "ticks": ""
           },
           "bgcolor": "#E5ECF6",
           "radialaxis": {
            "gridcolor": "white",
            "linecolor": "white",
            "ticks": ""
           }
          },
          "scene": {
           "xaxis": {
            "backgroundcolor": "#E5ECF6",
            "gridcolor": "white",
            "gridwidth": 2,
            "linecolor": "white",
            "showbackground": true,
            "ticks": "",
            "zerolinecolor": "white"
           },
           "yaxis": {
            "backgroundcolor": "#E5ECF6",
            "gridcolor": "white",
            "gridwidth": 2,
            "linecolor": "white",
            "showbackground": true,
            "ticks": "",
            "zerolinecolor": "white"
           },
           "zaxis": {
            "backgroundcolor": "#E5ECF6",
            "gridcolor": "white",
            "gridwidth": 2,
            "linecolor": "white",
            "showbackground": true,
            "ticks": "",
            "zerolinecolor": "white"
           }
          },
          "shapedefaults": {
           "line": {
            "color": "#2a3f5f"
           }
          },
          "ternary": {
           "aaxis": {
            "gridcolor": "white",
            "linecolor": "white",
            "ticks": ""
           },
           "baxis": {
            "gridcolor": "white",
            "linecolor": "white",
            "ticks": ""
           },
           "bgcolor": "#E5ECF6",
           "caxis": {
            "gridcolor": "white",
            "linecolor": "white",
            "ticks": ""
           }
          },
          "title": {
           "x": 0.05
          },
          "xaxis": {
           "automargin": true,
           "gridcolor": "white",
           "linecolor": "white",
           "ticks": "",
           "title": {
            "standoff": 15
           },
           "zerolinecolor": "white",
           "zerolinewidth": 2
          },
          "yaxis": {
           "automargin": true,
           "gridcolor": "white",
           "linecolor": "white",
           "ticks": "",
           "title": {
            "standoff": 15
           },
           "zerolinecolor": "white",
           "zerolinewidth": 2
          }
         }
        },
        "title": {
         "text": "Student Profile Transitions Over Time",
         "x": 0.5,
         "y": 0.95
        }
       }
      }
     },
     "metadata": {},
     "output_type": "display_data"
    }
   ],
   "source": [
    "def plot_cluster_transition_sankey(clustered_students_by_period):\n",
    "    sorted_periods = sorted(clustered_students_by_period.keys())\n",
    "    \n",
    "    # Step 1: Build long-format data (user_id, period, cluster)\n",
    "    records = []\n",
    "    for period in sorted_periods:\n",
    "        df = clustered_students_by_period[period]\n",
    "        for _, row in df[['user_id', 'cluster']].dropna().iterrows():\n",
    "            records.append((row['user_id'], period, int(row['cluster'])))\n",
    "    \n",
    "    transition_df = pd.DataFrame(records, columns=['user_id', 'period', 'cluster'])\n",
    "    pivot = transition_df.pivot(index='user_id', columns='period', values='cluster')\n",
    "\n",
    "    # Step 2: Collect all (period, cluster) node labels, and assign label_index\n",
    "    label_index = {}\n",
    "    label_list = []\n",
    "    node_colors = []\n",
    "    color_palette = list(mcolors.TABLEAU_COLORS.values())  # Max 10; use other palettes if needed\n",
    "\n",
    "    period_cluster_nodes = []\n",
    "    all_cj_values = set()\n",
    "\n",
    "    # Collect nodes grouped by period and sorted by cluster\n",
    "    for period in sorted_periods:\n",
    "        clusters = sorted(transition_df[transition_df['period'] == period]['cluster'].dropna().unique())\n",
    "        for cluster in clusters:\n",
    "            node_id = f\"{period}_C{cluster}\"\n",
    "            label_index[node_id] = len(label_list)\n",
    "            label_list.append(f\"Profile {cluster + 1}\")\n",
    "            period_cluster_nodes.append((period, cluster))\n",
    "            all_cj_values.add(cluster)\n",
    "\n",
    "    # Assign consistent color per cluster number\n",
    "    cj_sorted = sorted(all_cj_values)\n",
    "    cj_to_color = {cj: color_palette[i % len(color_palette)] for i, cj in enumerate(cj_sorted)}\n",
    "    node_colors = [cj_to_color[cluster] for _, cluster in period_cluster_nodes]\n",
    "\n",
    "    # Step 3: Build source–target–value lists\n",
    "    source = []\n",
    "    target = []\n",
    "    value = []\n",
    "\n",
    "    for i in range(len(sorted_periods) - 1):\n",
    "        p1, p2 = sorted_periods[i], sorted_periods[i + 1]\n",
    "        transitions = pivot[[p1, p2]].dropna().astype(int)\n",
    "\n",
    "        for (c1, c2), count in transitions.groupby([p1, p2]).size().items():\n",
    "            label1 = f\"{p1}_C{c1}\"\n",
    "            label2 = f\"{p2}_C{c2}\"\n",
    "            source.append(label_index[label1])\n",
    "            target.append(label_index[label2])\n",
    "            value.append(count)\n",
    "\n",
    "        # Step 4: Prepare hover text for links and nodes\n",
    "        link_labels = []\n",
    "        for i in range(len(source)):\n",
    "            src_label = label_list[source[i]]\n",
    "            tgt_label = label_list[target[i]]\n",
    "            cnt = value[i]\n",
    "            link_labels.append(f\"{cnt} students went from {src_label} to {tgt_label}\")\n",
    "\n",
    "        # Count total per node for node hover text\n",
    "        node_counts = [0] * len(label_list)\n",
    "        for i in range(len(source)):\n",
    "            node_counts[source[i]] += value[i]\n",
    "            node_counts[target[i]] += value[i]\n",
    "\n",
    "        node_hover = [f\"{count} students are in {label}\" for count, label in zip(node_counts, label_list)]\n",
    "\n",
    "        # Step 5: Plot Sankey with custom hover texts\n",
    "        fig = go.Figure(data=[go.Sankey(\n",
    "            node=dict(\n",
    "                pad=15,\n",
    "                thickness=20,\n",
    "                line=dict(color=\"rgba(0,0,0,0)\", width=0.0),\n",
    "                label=label_list,\n",
    "                color=node_colors,\n",
    "                hovertemplate='%{customdata}<extra></extra>',\n",
    "                customdata=node_hover\n",
    "            ),\n",
    "            link=dict(\n",
    "                source=source,\n",
    "                target=target,\n",
    "                value=value,\n",
    "                hovertemplate='%{customdata}<extra></extra>',\n",
    "                customdata=link_labels\n",
    "            )\n",
    "        )])\n",
    "\n",
    "    # Add period labels at the bottom\n",
    "    annotations = []\n",
    "    for i, period in enumerate(sorted_periods):\n",
    "        annotations.append(dict(\n",
    "            x=i / (len(sorted_periods) - 1),\n",
    "            y=-0.1,\n",
    "            text=period,\n",
    "            showarrow=False,\n",
    "            xanchor='center',\n",
    "            yanchor='top',\n",
    "            font=dict(size=10)\n",
    "        ))\n",
    "\n",
    "    fig.update_layout(margin=dict(l=40, r=40, t=70, b=70))\n",
    "    fig.update_layout(\n",
    "        title_text=\"Student Profile Transitions Over Time\",\n",
    "        title_x=0.5,\n",
    "        title_y=0.95,\n",
    "        font_size=10,\n",
    "        margin=dict(l=40, r=40, t=70, b=70),\n",
    "        annotations=annotations\n",
    "    )\n",
    "    fig.show()\n",
    "\n",
    "\n",
    "plot_cluster_transition_sankey(clustered_students_by_period)"
   ]
  },
  {
   "cell_type": "markdown",
   "id": "ab0cb772",
   "metadata": {},
   "source": [
    "**Observation:**\n",
    "\n",
    "TODO"
   ]
  },
  {
   "cell_type": "markdown",
   "id": "b3c9a655-cec9-4c57-aec7-7a982f57a3af",
   "metadata": {
    "id": "b3c9a655-cec9-4c57-aec7-7a982f57a3af"
   },
   "source": [
    "## Task 3: Model Evaluation\n",
    "In this task, you will use metrics to evaluate your model."
   ]
  },
  {
   "attachments": {},
   "cell_type": "markdown",
   "id": "e49d1dad",
   "metadata": {},
   "source": [
    "## Task 4: Team Reflection\n",
    "Please describe the contributions of each team member to Milestone 4. Reflect on how you worked as team: what went well, what can be improved for the next milestone?"
   ]
  }
 ],
 "metadata": {
  "colab": {
   "collapsed_sections": [],
   "name": "m2-classtime-sciper.ipynb",
   "provenance": []
  },
  "kernelspec": {
   "display_name": "mlbehavior_env",
   "language": "python",
   "name": "python3"
  },
  "language_info": {
   "codemirror_mode": {
    "name": "ipython",
    "version": 3
   },
   "file_extension": ".py",
   "mimetype": "text/x-python",
   "name": "python",
   "nbconvert_exporter": "python",
   "pygments_lexer": "ipython3",
   "version": "3.9.21"
  }
 },
 "nbformat": 4,
 "nbformat_minor": 5
}
