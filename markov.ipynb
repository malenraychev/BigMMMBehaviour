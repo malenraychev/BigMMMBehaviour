{
 "cells": [
  {
   "cell_type": "code",
   "execution_count": 1,
   "id": "c9464192",
   "metadata": {},
   "outputs": [],
   "source": [
    "import pandas as pd\n",
    "import numpy as np\n",
    "import networkx as nx\n",
    "import matplotlib.pyplot as plt\n",
    "\n",
    "from pydtmc import MarkovChain\n",
    "\n",
    "from ipywidgets import interact, Dropdown\n",
    "\n",
    "DATA_DIR = 'data'"
   ]
  },
  {
   "cell_type": "code",
   "execution_count": 2,
   "id": "1a3e21f8",
   "metadata": {},
   "outputs": [],
   "source": [
    "# Create mapping course_id -> course name/short name\n",
    "\n",
    "class SmartMap(dict):\n",
    "    def __missing__(self, key):\n",
    "        return f\"Unknown({key})\"\n",
    "    \n",
    "course_map = SmartMap({\n",
    "    42 : 'Langzeitgymnasium maths',\n",
    "    3865 : 'Kurzzeitgymnasium maths',\n",
    "    5447 : 'Langzeitgymnasium essay',\n",
    "    2115 : 'Langzeitgymnasium text comprehension',\n",
    "    5009 : 'Kurzzeitgymnasium text comprehension',\n",
    "    3301 : 'Kurzzeitgymnasium essay',\n",
    "    1696 : 'Student site introduction',\n",
    "    8117 : 'Teacher site introduction'\n",
    "})\n",
    "\n",
    "course_map_short = SmartMap({\n",
    "    42 : 'LZG_M',\n",
    "    3865 : 'KZG_M',\n",
    "    5447 : 'LZG_E',\n",
    "    2115 : 'LZG_TC',\n",
    "    5009 : 'KZG_TC',\n",
    "    3301 : 'KZG_E',\n",
    "    1696 : 'SSI',\n",
    "    8117 : 'TSI'\n",
    "})"
   ]
  },
  {
   "cell_type": "code",
   "execution_count": 3,
   "id": "44b66d9e",
   "metadata": {},
   "outputs": [],
   "source": [
    "activities = pd.read_csv(f'{DATA_DIR}/activity.csv')\n",
    "activities = activities.dropna(subset='activity_started')\n",
    "activities.sort_values(by=['user_id', 'activity_started'], ascending=True, inplace=True)"
   ]
  },
  {
   "cell_type": "code",
   "execution_count": 4,
   "id": "ad305d20",
   "metadata": {},
   "outputs": [],
   "source": [
    "activities['state'] = activities['activity_type'] + '_' + activities['course_id'].map(course_map_short).fillna('Unknown')\n",
    "activities['duration'] = np.where(activities['activity_started'].notna() & activities['activity_completed'].notna() & \n",
    "                                  (activities['activity_completed']>= activities['activity_started']),\n",
    "                                  activities['activity_completed'] - activities['activity_started'], np.nan)\n",
    "\n",
    "state_to_idx = {s: i for i, s in enumerate(activities['state'].unique())}\n",
    "activities['state_idx'] = activities['state'].map(state_to_idx)\n",
    "\n",
    "activities['next_state_idx'] = activities.groupby('user_id')['state_idx'].shift(-1)\n",
    "transitions = activities.dropna(subset=['next_state_idx']).copy()\n",
    "transitions['next_state_idx'] = transitions['next_state_idx'].astype(int)\n",
    "\n",
    "all_states = activities['state'].unique().tolist()\n",
    "n_states = len(all_states)\n"
   ]
  },
  {
   "cell_type": "code",
   "execution_count": 5,
   "id": "663f4c80",
   "metadata": {},
   "outputs": [
    {
     "name": "stdout",
     "output_type": "stream",
     "text": [
      "User 1 Transition Matrix:\n",
      "[[0.   1.   0.   ... 0.   0.   0.  ]\n",
      " [0.   0.43 0.29 ... 0.   0.   0.  ]\n",
      " [0.   0.09 0.64 ... 0.   0.   0.  ]\n",
      " ...\n",
      " [0.   0.   0.   ... 1.   0.   0.  ]\n",
      " [0.   0.   0.   ... 0.   1.   0.  ]\n",
      " [0.   0.   0.   ... 0.   0.   1.  ]]\n",
      "States: ['course_KZG_E', 'lesson_KZG_E', 'topic_KZG_E', 'course_KZG_TC', 'lesson_KZG_TC', 'topic_KZG_TC', 'quiz_KZG_E', 'course_KZG_M', 'lesson_KZG_M', 'topic_KZG_M', 'quiz_KZG_M', 'exam_LZG_E', 'access_SSI', 'topic_Unknown(0)', 'access_KZG_TC', 'course_LZG_E', 'course_LZG_TC', 'course_LZG_M', 'access_LZG_E', 'access_LZG_TC', 'access_LZG_M', 'lesson_LZG_M', 'topic_LZG_M', 'quiz_LZG_M', 'lesson_LZG_TC', 'topic_LZG_TC', 'lesson_LZG_E', 'topic_LZG_E', 'quiz_LZG_E', 'course_SSI', 'lesson_SSI', 'topic_SSI', 'access_TSI', 'course_TSI', 'lesson_TSI', 'topic_TSI', 'access_KZG_E', 'access_KZG_M', 'group_progress_Unknown(0)', 'exam_KZG_E', 'lesson_Unknown(0)', 'exam_LZG_TC', 'exam_KZG_TC', 'course_Unknown(2019)', 'lesson_Unknown(2019)', 'topic_Unknown(2019)', 'access_Unknown(2019)', 'course_Unknown(2515)', 'lesson_Unknown(2515)', 'topic_Unknown(2515)', 'course_Unknown(2440)', 'lesson_Unknown(2440)', 'topic_Unknown(2440)']\n"
     ]
    }
   ],
   "source": [
    "# Per-user Markov chains\n",
    "user_chains = {}\n",
    "\n",
    "for user_id, group in transitions.groupby('user_id'):\n",
    "    matrix = np.zeros((n_states, n_states), dtype=float)\n",
    "    # Vectorized accumulation of transition counts\n",
    "    np.add.at(matrix, (group['state_idx'], group['next_state_idx']), 1)\n",
    "    \n",
    "    # Normalize rows and handle dead-end states with self-loops\n",
    "    row_sums = matrix.sum(axis=1, keepdims=True)\n",
    "    for idx, row_sum in enumerate(row_sums.flatten()):\n",
    "        if row_sum == 0:\n",
    "            matrix[idx, idx] = 1  # Self-loop\n",
    "        else:\n",
    "            matrix[idx] /= row_sum  # Normalize row to sum to 1\n",
    "    \n",
    "    mc = MarkovChain(matrix.tolist(), all_states)\n",
    "    user_chains[user_id] = mc\n",
    "\n",
    "# ✅ Example: Inspect User 1's Model\n",
    "print(f\"User 1 Transition Matrix:\\n{np.round(user_chains[1].p, 2)}\")\n",
    "print(f\"States: {user_chains[1].states}\")\n"
   ]
  },
  {
   "cell_type": "code",
   "execution_count": 6,
   "id": "95981619",
   "metadata": {},
   "outputs": [
    {
     "data": {
      "application/vnd.jupyter.widget-view+json": {
       "model_id": "83c0c156255b46e5af63ed08fc13b0da",
       "version_major": 2,
       "version_minor": 0
      },
      "text/plain": [
       "Dropdown(description='User ID:', options=(1, 4, 5, 6, 7, 9, 10, 11, 16, 17, 18, 19, 20, 21, 22, 23, 24, 26, 28…"
      ]
     },
     "metadata": {},
     "output_type": "display_data"
    },
    {
     "data": {
      "application/vnd.jupyter.widget-view+json": {
       "model_id": "ef4873543b35436fb0ad5ddb765bd7d6",
       "version_major": 2,
       "version_minor": 0
      },
      "text/plain": [
       "Output()"
      ]
     },
     "metadata": {},
     "output_type": "display_data"
    }
   ],
   "source": [
    "import ipywidgets as widgets\n",
    "import networkx as nx\n",
    "import plotly.graph_objs as go\n",
    "from IPython.display import display\n",
    "import numpy as np\n",
    "\n",
    "def plot_user_markov_with_edge_labels(user_id):\n",
    "    mc = user_chains[user_id]\n",
    "    matrix = np.array(mc.p)\n",
    "    states = mc.states\n",
    "\n",
    "    # Identify non-trivial states\n",
    "    non_trivial_states = set()\n",
    "    for i, state in enumerate(states):\n",
    "        row = matrix[i]\n",
    "        col = matrix[:, i]\n",
    "        if not (np.isclose(row[i], 1.0) and np.isclose(row.sum(), 1.0) and np.isclose(col.sum(), 1.0)):\n",
    "            non_trivial_states.add(state)\n",
    "\n",
    "    # Build filtered graph\n",
    "    G = nx.DiGraph()\n",
    "    for i, from_state in enumerate(states):\n",
    "        if from_state not in non_trivial_states:\n",
    "            continue\n",
    "        for j, to_state in enumerate(states):\n",
    "            if to_state in non_trivial_states and matrix[i, j] > 0:\n",
    "                G.add_edge(from_state, to_state, weight=round(matrix[i, j], 2))\n",
    "\n",
    "    if len(G.nodes) == 0:\n",
    "        print(f\"No significant transitions to visualize for User {user_id}.\")\n",
    "        return\n",
    "\n",
    "    pos = nx.circular_layout(G)\n",
    "\n",
    "    # Edge Traces\n",
    "    edge_trace = []\n",
    "    edge_labels = []\n",
    "\n",
    "    for edge in G.edges(data=True):\n",
    "        x0, y0 = pos[edge[0]]\n",
    "        x1, y1 = pos[edge[1]]\n",
    "        weight = edge[2]['weight']\n",
    "        # Add edge line\n",
    "        edge_trace.append(go.Scatter(\n",
    "            x=[x0, x1], y=[y0, y1],\n",
    "            line=dict(width=2, color='gray'),\n",
    "            mode='lines',\n",
    "            hoverinfo='none'\n",
    "        ))\n",
    "        # Add edge label at midpoint\n",
    "        mid_x, mid_y = (x0 + x1) / 2, (y0 + y1) / 2\n",
    "        edge_labels.append(go.Scatter(\n",
    "            x=[mid_x], y=[mid_y],\n",
    "            text=[f\"{weight}\"],\n",
    "            mode='text',\n",
    "            hoverinfo='none',\n",
    "            textposition='top center'\n",
    "        ))\n",
    "\n",
    "    # Node Trace\n",
    "    node_trace = go.Scatter(\n",
    "        x=[pos[node][0] for node in G.nodes()],\n",
    "        y=[pos[node][1] for node in G.nodes()],\n",
    "        text=list(G.nodes()),\n",
    "        mode='markers+text',\n",
    "        textposition='bottom center',\n",
    "        marker=dict(size=30, color='lightblue', line=dict(width=2, color='darkblue'))\n",
    "    )\n",
    "\n",
    "    fig = go.Figure(data=edge_trace + edge_labels + [node_trace],\n",
    "                    layout=go.Layout(\n",
    "                        title=f\"User {user_id} Markov Model (Non-Trivial States)\",\n",
    "                        showlegend=False,\n",
    "                        hovermode='closest',\n",
    "                        margin=dict(t=50, l=25, r=25, b=25),\n",
    "                        xaxis=dict(showgrid=False, zeroline=False, showticklabels=False),\n",
    "                        yaxis=dict(showgrid=False, zeroline=False, showticklabels=False)\n",
    "                    ))\n",
    "    fig.show()\n",
    "\n",
    "# Interactive widget\n",
    "user_selector = widgets.Dropdown(\n",
    "    options=sorted(user_chains.keys()),\n",
    "    description='User ID:',\n",
    "    continuous_update=False\n",
    ")\n",
    "\n",
    "out = widgets.Output()\n",
    "\n",
    "def on_user_change(change):\n",
    "    with out:\n",
    "        out.clear_output(wait=True)\n",
    "        plot_user_markov_with_edge_labels(change['new'])\n",
    "\n",
    "user_selector.observe(on_user_change, names='value')\n",
    "\n",
    "display(user_selector, out)\n",
    "\n",
    "# Auto-trigger initial plot\n",
    "user_selector.value = sorted(user_chains.keys())[0]\n"
   ]
  },
  {
   "cell_type": "code",
   "execution_count": 7,
   "id": "372d1610",
   "metadata": {},
   "outputs": [],
   "source": [
    "from scipy.spatial.distance import jensenshannon\n",
    "import numpy as np\n",
    "import pandas as pd\n",
    "\n",
    "# Assume user_chains is a dict: user_id -> MarkovChain object (with mc.p as transition matrix)\n",
    "user_ids = list(user_chains.keys())\n",
    "n_users = len(user_ids)\n",
    "\n",
    "# Preallocate distance matrix\n",
    "distance_matrix = np.zeros((n_users, n_users))\n",
    "\n",
    "# Compute pairwise Jensen-Shannon Divergence\n",
    "for i in range(n_users):\n",
    "    for j in range(i + 1, n_users):\n",
    "        m1 = np.array(user_chains[user_ids[i]].p)\n",
    "        m2 = np.array(user_chains[user_ids[j]].p)\n",
    "        \n",
    "        # Flatten matrices row-wise (or you can aggregate row distributions)\n",
    "        p = m1.flatten()\n",
    "        q = m2.flatten()\n",
    "        \n",
    "        # Ensure distributions sum to 1\n",
    "        if p.sum() > 0: p = p / p.sum()\n",
    "        if q.sum() > 0: q = q / q.sum()\n",
    "        \n",
    "        jsd = jensenshannon(p, q, base=2)  # Base 2 for distance in [0, 1]\n",
    "        distance_matrix[i, j] = jsd\n",
    "        distance_matrix[j, i] = jsd\n"
   ]
  },
  {
   "cell_type": "code",
   "execution_count": 8,
   "id": "b3b80292",
   "metadata": {},
   "outputs": [],
   "source": [
    "import hdbscan\n",
    "\n",
    "clusterer = hdbscan.HDBSCAN(metric='precomputed', min_cluster_size=2)\n",
    "labels = clusterer.fit_predict(distance_matrix)\n"
   ]
  },
  {
   "cell_type": "code",
   "execution_count": 9,
   "id": "194e15fa",
   "metadata": {},
   "outputs": [
    {
     "name": "stderr",
     "output_type": "stream",
     "text": [
      "/opt/homebrew/Caskroom/miniconda/base/envs/gogymi/lib/python3.11/site-packages/sklearn/utils/deprecation.py:151: FutureWarning: 'force_all_finite' was renamed to 'ensure_all_finite' in 1.6 and will be removed in 1.8.\n",
      "  warnings.warn(\n",
      "/opt/homebrew/Caskroom/miniconda/base/envs/gogymi/lib/python3.11/site-packages/umap/umap_.py:1857: UserWarning: using precomputed metric; inverse_transform will be unavailable\n",
      "  warn(\"using precomputed metric; inverse_transform will be unavailable\")\n"
     ]
    },
    {
     "data": {
      "image/png": "[encoded data removed]",
      "text/plain": [
       "<Figure size 800x600 with 2 Axes>"
      ]
     },
     "metadata": {},
     "output_type": "display_data"
    }
   ],
   "source": [
    "import umap.umap_ as umap\n",
    "import matplotlib.pyplot as plt\n",
    "\n",
    "# Embed distance matrix into 2D space\n",
    "embedding = umap.UMAP(metric='precomputed').fit_transform(distance_matrix)\n",
    "\n",
    "# Plot\n",
    "plt.figure(figsize=(8, 6))\n",
    "scatter = plt.scatter(embedding[:, 0], embedding[:, 1], c=labels, cmap='Spectral', s=50)\n",
    "plt.colorbar(scatter, label='Cluster Label')\n",
    "plt.title('User Clusters Based on Markov Models')\n",
    "plt.xlabel('UMAP-1')\n",
    "plt.ylabel('UMAP-2')\n",
    "plt.show()\n"
   ]
  },
  {
   "cell_type": "code",
   "execution_count": null,
   "id": "2183cabc",
   "metadata": {},
   "outputs": [],
   "source": []
  },
  {
   "cell_type": "code",
   "execution_count": null,
   "id": "3fadfa6f",
   "metadata": {},
   "outputs": [],
   "source": []
  },
  {
   "cell_type": "code",
   "execution_count": null,
   "id": "7a18dda0",
   "metadata": {},
   "outputs": [],
   "source": []
  },
  {
   "cell_type": "code",
   "execution_count": null,
   "id": "c0b0f6d7",
   "metadata": {},
   "outputs": [],
   "source": []
  },
  {
   "cell_type": "code",
   "execution_count": null,
   "id": "40095f21",
   "metadata": {},
   "outputs": [],
   "source": []
  },
  {
   "cell_type": "code",
   "execution_count": null,
   "id": "63f46d51",
   "metadata": {},
   "outputs": [
    {
     "name": "stdout",
     "output_type": "stream",
     "text": [
      "States Mapping: {'course_KZG_E': 0, 'lesson_KZG_E': 1, 'topic_KZG_E': 2, 'course_KZG_TC': 3, 'lesson_KZG_TC': 4, 'topic_KZG_TC': 5, 'quiz_KZG_E': 6, 'course_KZG_M': 7, 'lesson_KZG_M': 8, 'topic_KZG_M': 9, 'quiz_KZG_M': 10, 'exam_LZG_E': 11, 'access_SSI': 12, 'topic_Unknown(0)': 13, 'access_KZG_TC': 14, 'course_LZG_E': 15, 'course_LZG_TC': 16, 'course_LZG_M': 17, 'access_LZG_E': 18, 'access_LZG_TC': 19, 'access_LZG_M': 20, 'lesson_LZG_M': 21, 'topic_LZG_M': 22, 'quiz_LZG_M': 23, 'lesson_LZG_TC': 24, 'topic_LZG_TC': 25, 'lesson_LZG_E': 26, 'topic_LZG_E': 27, 'quiz_LZG_E': 28, 'course_SSI': 29, 'lesson_SSI': 30, 'topic_SSI': 31, 'access_TSI': 32, 'course_TSI': 33, 'lesson_TSI': 34, 'topic_TSI': 35, 'access_KZG_E': 36, 'access_KZG_M': 37, 'group_progress_Unknown(0)': 38, 'exam_KZG_E': 39, 'lesson_Unknown(0)': 40, 'exam_LZG_TC': 41, 'exam_KZG_TC': 42, 'course_Unknown(2019)': 43, 'lesson_Unknown(2019)': 44, 'topic_Unknown(2019)': 45, 'access_Unknown(2019)': 46, 'course_Unknown(2515)': 47, 'lesson_Unknown(2515)': 48, 'topic_Unknown(2515)': 49, 'course_Unknown(2440)': 50, 'lesson_Unknown(2440)': 51, 'topic_Unknown(2440)': 52}\n"
     ]
    },
    {
     "name": "stderr",
     "output_type": "stream",
     "text": [
      "/var/folders/tb/xz8bmvcs5mjgtg8nqczpcrcc0000gn/T/ipykernel_5675/2538938083.py:8: RuntimeWarning: invalid value encountered in divide\n",
      "  matrix = counts / counts.sum(axis=1, keepdims=True)\n"
     ]
    }
   ],
   "source": [
    "activities"
   ]
  },
  {
   "cell_type": "code",
   "execution_count": null,
   "id": "db30d42b",
   "metadata": {},
   "outputs": [],
   "source": [
    "activities"
   ]
  },
  {
   "cell_type": "code",
   "execution_count": null,
   "id": "acb42dec",
   "metadata": {},
   "outputs": [],
   "source": [
    "transitions"
   ]
  },
  {
   "cell_type": "code",
   "execution_count": 23,
   "id": "7bb91a61",
   "metadata": {},
   "outputs": [
    {
     "data": {
      "application/vnd.microsoft.datawrangler.viewer.v0+json": {
       "columns": [
        {
         "name": "index",
         "rawType": "int64",
         "type": "integer"
        },
        {
         "name": "Unnamed: 0",
         "rawType": "int64",
         "type": "integer"
        },
        {
         "name": "activity_id",
         "rawType": "int64",
         "type": "integer"
        },
        {
         "name": "user_id",
         "rawType": "int64",
         "type": "integer"
        },
        {
         "name": "post_id",
         "rawType": "int64",
         "type": "integer"
        },
        {
         "name": "course_id",
         "rawType": "int64",
         "type": "integer"
        },
        {
         "name": "activity_type",
         "rawType": "object",
         "type": "string"
        },
        {
         "name": "activity_status",
         "rawType": "int64",
         "type": "integer"
        },
        {
         "name": "activity_started",
         "rawType": "int64",
         "type": "integer"
        },
        {
         "name": "activity_completed",
         "rawType": "float64",
         "type": "float"
        },
        {
         "name": "activity_updated",
         "rawType": "int64",
         "type": "integer"
        },
        {
         "name": "state",
         "rawType": "object",
         "type": "string"
        },
        {
         "name": "duration",
         "rawType": "float64",
         "type": "float"
        }
       ],
       "conversionMethod": "pd.DataFrame",
       "ref": "3b989899-1112-49e3-8e74-263f95277aae",
       "rows": [
        [
         "31764",
         "386",
         "76018",
         "1",
         "3301",
         "3301",
         "course",
         "0",
         "1729926184",
         "0.0",
         "1737787863",
         "course_KZG_E",
         null
        ],
        [
         "31765",
         "387",
         "76019",
         "1",
         "9212",
         "3301",
         "lesson",
         "0",
         "1729926184",
         null,
         "1729926184",
         "lesson_KZG_E",
         null
        ],
        [
         "31796",
         "418",
         "76050",
         "1",
         "3773",
         "3301",
         "lesson",
         "1",
         "1729927563",
         "1730514815.0",
         "1730514815",
         "lesson_KZG_E",
         "587252.0"
        ],
        [
         "31797",
         "419",
         "76051",
         "1",
         "3767",
         "3301",
         "topic",
         "1",
         "1729927567",
         "1730509541.0",
         "1730509541",
         "topic_KZG_E",
         "581974.0"
        ],
        [
         "31798",
         "420",
         "76052",
         "1",
         "13415",
         "3301",
         "topic",
         "1",
         "1729927568",
         "1730512029.0",
         "1730512029",
         "topic_KZG_E",
         "584461.0"
        ]
       ],
       "shape": {
        "columns": 12,
        "rows": 5
       }
      },
      "text/html": [
       "<div>\n",
       "<style scoped>\n",
       "    .dataframe tbody tr th:only-of-type {\n",
       "        vertical-align: middle;\n",
       "    }\n",
       "\n",
       "    .dataframe tbody tr th {\n",
       "        vertical-align: top;\n",
       "    }\n",
       "\n",
       "    .dataframe thead th {\n",
       "        text-align: right;\n",
       "    }\n",
       "</style>\n",
       "<table border=\"1\" class=\"dataframe\">\n",
       "  <thead>\n",
       "    <tr style=\"text-align: right;\">\n",
       "      <th></th>\n",
       "      <th>Unnamed: 0</th>\n",
       "      <th>activity_id</th>\n",
       "      <th>user_id</th>\n",
       "      <th>post_id</th>\n",
       "      <th>course_id</th>\n",
       "      <th>activity_type</th>\n",
       "      <th>activity_status</th>\n",
       "      <th>activity_started</th>\n",
       "      <th>activity_completed</th>\n",
       "      <th>activity_updated</th>\n",
       "      <th>state</th>\n",
       "      <th>duration</th>\n",
       "    </tr>\n",
       "  </thead>\n",
       "  <tbody>\n",
       "    <tr>\n",
       "      <th>31764</th>\n",
       "      <td>386</td>\n",
       "      <td>76018</td>\n",
       "      <td>1</td>\n",
       "      <td>3301</td>\n",
       "      <td>3301</td>\n",
       "      <td>course</td>\n",
       "      <td>0</td>\n",
       "      <td>1729926184</td>\n",
       "      <td>0.000000e+00</td>\n",
       "      <td>1737787863</td>\n",
       "      <td>course_KZG_E</td>\n",
       "      <td>NaN</td>\n",
       "    </tr>\n",
       "    <tr>\n",
       "      <th>31765</th>\n",
       "      <td>387</td>\n",
       "      <td>76019</td>\n",
       "      <td>1</td>\n",
       "      <td>9212</td>\n",
       "      <td>3301</td>\n",
       "      <td>lesson</td>\n",
       "      <td>0</td>\n",
       "      <td>1729926184</td>\n",
       "      <td>NaN</td>\n",
       "      <td>1729926184</td>\n",
       "      <td>lesson_KZG_E</td>\n",
       "      <td>NaN</td>\n",
       "    </tr>\n",
       "    <tr>\n",
       "      <th>31796</th>\n",
       "      <td>418</td>\n",
       "      <td>76050</td>\n",
       "      <td>1</td>\n",
       "      <td>3773</td>\n",
       "      <td>3301</td>\n",
       "      <td>lesson</td>\n",
       "      <td>1</td>\n",
       "      <td>1729927563</td>\n",
       "      <td>1.730515e+09</td>\n",
       "      <td>1730514815</td>\n",
       "      <td>lesson_KZG_E</td>\n",
       "      <td>587252.0</td>\n",
       "    </tr>\n",
       "    <tr>\n",
       "      <th>31797</th>\n",
       "      <td>419</td>\n",
       "      <td>76051</td>\n",
       "      <td>1</td>\n",
       "      <td>3767</td>\n",
       "      <td>3301</td>\n",
       "      <td>topic</td>\n",
       "      <td>1</td>\n",
       "      <td>1729927567</td>\n",
       "      <td>1.730510e+09</td>\n",
       "      <td>1730509541</td>\n",
       "      <td>topic_KZG_E</td>\n",
       "      <td>581974.0</td>\n",
       "    </tr>\n",
       "    <tr>\n",
       "      <th>31798</th>\n",
       "      <td>420</td>\n",
       "      <td>76052</td>\n",
       "      <td>1</td>\n",
       "      <td>13415</td>\n",
       "      <td>3301</td>\n",
       "      <td>topic</td>\n",
       "      <td>1</td>\n",
       "      <td>1729927568</td>\n",
       "      <td>1.730512e+09</td>\n",
       "      <td>1730512029</td>\n",
       "      <td>topic_KZG_E</td>\n",
       "      <td>584461.0</td>\n",
       "    </tr>\n",
       "  </tbody>\n",
       "</table>\n",
       "</div>"
      ],
      "text/plain": [
       "       Unnamed: 0  activity_id  user_id  post_id  course_id activity_type  \\\n",
       "31764         386        76018        1     3301       3301        course   \n",
       "31765         387        76019        1     9212       3301        lesson   \n",
       "31796         418        76050        1     3773       3301        lesson   \n",
       "31797         419        76051        1     3767       3301         topic   \n",
       "31798         420        76052        1    13415       3301         topic   \n",
       "\n",
       "       activity_status  activity_started  activity_completed  \\\n",
       "31764                0        1729926184        0.000000e+00   \n",
       "31765                0        1729926184                 NaN   \n",
       "31796                1        1729927563        1.730515e+09   \n",
       "31797                1        1729927567        1.730510e+09   \n",
       "31798                1        1729927568        1.730512e+09   \n",
       "\n",
       "       activity_updated         state  duration  \n",
       "31764        1737787863  course_KZG_E       NaN  \n",
       "31765        1729926184  lesson_KZG_E       NaN  \n",
       "31796        1730514815  lesson_KZG_E  587252.0  \n",
       "31797        1730509541   topic_KZG_E  581974.0  \n",
       "31798        1730512029   topic_KZG_E  584461.0  "
      ]
     },
     "execution_count": 23,
     "metadata": {},
     "output_type": "execute_result"
    }
   ],
   "source": [
    "activities.head()"
   ]
  },
  {
   "cell_type": "code",
   "execution_count": null,
   "id": "75984ffd",
   "metadata": {},
   "outputs": [],
   "source": []
  },
  {
   "cell_type": "code",
   "execution_count": 9,
   "id": "f939b527",
   "metadata": {},
   "outputs": [],
   "source": [
    "import pandas as pd\n",
    "import numpy as np\n",
    "import networkx as nx\n",
    "import matplotlib.pyplot as plt\n",
    "\n",
    "# Sample data\n",
    "data = {\n",
    "    'user_id': [1, 1, 1, 2, 2, 3, 3, 3],\n",
    "    'activity': ['A', 'B', 'C', 'A', 'C', 'B', 'C', 'A']\n",
    "}\n",
    "\n",
    "df = pd.DataFrame(data)\n"
   ]
  },
  {
   "cell_type": "code",
   "execution_count": 10,
   "id": "9419f4c7",
   "metadata": {},
   "outputs": [],
   "source": [
    "# Get unique activities\n",
    "activities = sorted(df['activity'].unique())\n",
    "activity_to_idx = {activity: idx for idx, activity in enumerate(activities)}\n",
    "\n",
    "# Initialize transition matrix\n",
    "n = len(activities)\n",
    "transition_matrix = np.zeros((n, n))\n",
    "\n",
    "# Calculate transitions per user\n",
    "for user_id, group in df.groupby('user_id'):\n",
    "    sequence = group['activity'].tolist()\n",
    "    for (current, next_) in zip(sequence[:-1], sequence[1:]):\n",
    "        i, j = activity_to_idx[current], activity_to_idx[next_]\n",
    "        transition_matrix[i, j] += 1\n",
    "\n",
    "# Normalize to get probabilities\n",
    "transition_matrix = transition_matrix / transition_matrix.sum(axis=1, keepdims=True)\n",
    "transition_matrix = np.nan_to_num(transition_matrix)  # Handle divisions by zero\n"
   ]
  },
  {
   "cell_type": "code",
   "execution_count": 11,
   "id": "6e1ff2ef",
   "metadata": {},
   "outputs": [
    {
     "data": {
      "image/png": "[encoded data removed]",
      "text/plain": [
       "<Figure size 800x600 with 1 Axes>"
      ]
     },
     "metadata": {},
     "output_type": "display_data"
    }
   ],
   "source": [
    "def plot_markov_chain(matrix, labels):\n",
    "    G = nx.DiGraph()\n",
    "\n",
    "    # Add nodes\n",
    "    for label in labels:\n",
    "        G.add_node(label)\n",
    "\n",
    "    # Add edges with weights\n",
    "    for i in range(len(labels)):\n",
    "        for j in range(len(labels)):\n",
    "            weight = matrix[i, j]\n",
    "            if weight > 0:\n",
    "                G.add_edge(labels[i], labels[j], weight=round(weight, 2))\n",
    "\n",
    "    pos = nx.circular_layout(G)\n",
    "    edge_labels = nx.get_edge_attributes(G, 'weight')\n",
    "\n",
    "    plt.figure(figsize=(8, 6))\n",
    "    nx.draw(G, pos, with_labels=True, node_size=2000, node_color='lightblue', font_size=14, arrowsize=20)\n",
    "    nx.draw_networkx_edge_labels(G, pos, edge_labels=edge_labels, font_color='red', font_size=12)\n",
    "    plt.title(\"Markov Model of User Activities\")\n",
    "    plt.show()\n",
    "\n",
    "plot_markov_chain(transition_matrix, activities)\n"
   ]
  },
  {
   "cell_type": "code",
   "execution_count": null,
   "id": "5d844619",
   "metadata": {},
   "outputs": [],
   "source": []
  }
 ],
 "metadata": {
  "kernelspec": {
   "display_name": "gogymi",
   "language": "python",
   "name": "python3"
  },
  "language_info": {
   "codemirror_mode": {
    "name": "ipython",
    "version": 3
   },
   "file_extension": ".py",
   "mimetype": "text/x-python",
   "name": "python",
   "nbconvert_exporter": "python",
   "pygments_lexer": "ipython3",
   "version": "3.11.8"
  }
 },
 "nbformat": 4,
 "nbformat_minor": 5
}
