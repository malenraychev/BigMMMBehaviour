{
 "cells": [
  {
   "cell_type": "markdown",
   "id": "a651aa4a",
   "metadata": {
    "vscode": {
     "languageId": "plaintext"
    }
   },
   "source": [
    "# M7 | Main Research Investigation Notebook"
   ]
  },
  {
   "cell_type": "markdown",
   "id": "f83ecbc3",
   "metadata": {},
   "source": [
    "This notebook summarizes the code used in our study, which investigates how behavioral data from GoGymi platform can help uncover meaningful student learning profiles and outcomes. The goal is to provide insights into how students interact with the platform and how those behaviors relate to their learning success. The three research questions defined are:\n",
    "- RQ1: What behavioral patterns distinguish different student profiles, and how do these profiles relate to academic outcomes?\n",
    "- RQ2: How do students transition between performance profiles across different time periods?\n",
    "- RQ3: What are the typical behavioral pathways of a student and how does it affect their learning outcomes?\n",
    "\n",
    "The following pipeline was used for each RQ:\n",
    "- Data Cleaning\n",
    "- Data Processing \n",
    "- Model building through clustering \n",
    "- Model Evaluation\n",
    "- Conclusion and interpretation of results"
   ]
  },
  {
   "cell_type": "markdown",
   "id": "f74997fb",
   "metadata": {},
   "source": [
    "**Project Structure**\n",
    "\n",
    "```\n",
    "├── main.ipynb       # Entry point notebook with overview and links to each RQ\n",
    "├── RQ1.ipynb        # Analysis and results for Research Question 1 (same as M4)\n",
    "├── RQ2.ipynb        # Analysis and results for Research Question 2\n",
    "├── RQ3.ipynb        # Analysis and results for Research Question 3\n",
    "├── report.pdf       # Report of the project\n",
    "└── poster.png       # Project Poster\n",
    "```\n"
   ]
  },
  {
   "cell_type": "markdown",
   "id": "9b3696a1",
   "metadata": {},
   "source": [
    "## Research Question 1\n",
    "\n",
    "> RQ1: What behavioral patterns distinguish different student profiles, and how do these profiles relate to academic outcomes?\n",
    "\n",
    "In this part of the study, we aimed to identify distinct learning profiles based on user activity and academic performance.  \n",
    "[Go to RQ1 Notebook](./RQ1.ipynb).  \n",
    "The clustering analysis revealed four distinct learner types that showed noticeable differences in academic performance, offering a structured view of behavioral diversity."
   ]
  },
  {
   "cell_type": "markdown",
   "id": "8d0c3e09",
   "metadata": {},
   "source": [
    "## Research Question 2\n",
    "\n",
    "> RQ2: How do students transition between performance profiles across different time periods?\n",
    "\n",
    "In this part of the study, we aimed to analyze student activity over time and observe how their profiles evolve.  \n",
    "[Go to RQ2 Notebook](./RQ2.ipynb).  \n",
    "Over time, many low-performing students improve, while high-performing students largely maintain their level. This finding highlights the potential for behavioral change over time. "
   ]
  },
  {
   "cell_type": "markdown",
   "id": "d56824c4",
   "metadata": {},
   "source": [
    "## Research Question 3\n",
    "\n",
    "> RQ3: What are the typical behavioral pathways of a student and how does it affect their learning outcomes?\n",
    "\n",
    "In this part of the study, we aimed to analyze the typical learning pathways of the students, and how they relate with their learning outcomes.  \n",
    "[Go to RQ3 Notebook](./RQ3.ipynb).  \n",
    "Markov chain modeling of learning paths uncovered two consistent behavioral patterns, with one group exhibiting frequent content revisits and achieving higher grades."
   ]
  },
  {
   "cell_type": "markdown",
   "id": "376f2dd1",
   "metadata": {},
   "source": [
    "## Conclusion\n",
    "Overall, these findings highlight the value of combining clustering and sequential modeling to better understand and support diverse learning trajectories."
   ]
  },
  {
   "cell_type": "markdown",
   "id": "a9b2ac1e",
   "metadata": {},
   "source": [
    "## Report\n",
    "For a detailed explanation of our methods, results, and analysis, please refer to the full report: [View the report](./report.pdf).  "
   ]
  },
  {
   "cell_type": "markdown",
   "id": "d07f3797",
   "metadata": {},
   "source": [
    "## Poster\n",
    "A visual summary of the key insights and takeaways from our project is also available in the poster: [View the poster](./poster.png).  "
   ]
  },
  {
   "cell_type": "markdown",
   "id": "82dd75e3",
   "metadata": {},
   "source": []
  }
 ],
 "metadata": {
  "kernelspec": {
   "display_name": "ada",
   "language": "python",
   "name": "python3"
  },
  "language_info": {
   "codemirror_mode": {
    "name": "ipython",
    "version": 3
   },
   "file_extension": ".py",
   "mimetype": "text/x-python",
   "name": "python",
   "nbconvert_exporter": "python",
   "pygments_lexer": "ipython3",
   "version": "3.11.9"
  }
 },
 "nbformat": 4,
 "nbformat_minor": 5
}
